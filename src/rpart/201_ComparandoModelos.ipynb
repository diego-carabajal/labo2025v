{
  "nbformat": 4,
  "nbformat_minor": 0,
  "metadata": {
    "colab": {
      "provenance": [],
      "include_colab_link": true
    },
    "kernelspec": {
      "name": "ir",
      "display_name": "R"
    },
    "language_info": {
      "name": "R"
    }
  },
  "cells": [
    {
      "cell_type": "markdown",
      "metadata": {
        "id": "view-in-github",
        "colab_type": "text"
      },
      "source": [
        "<a href=\"https://colab.research.google.com/github/diego-carabajal/labo2025v/blob/main/src/rpart/201_ComparandoModelos.ipynb\" target=\"_parent\"><img src=\"https://colab.research.google.com/assets/colab-badge.svg\" alt=\"Open In Colab\"/></a>"
      ]
    },
    {
      "cell_type": "markdown",
      "source": [
        "# Comparando Modelos"
      ],
      "metadata": {
        "id": "5DrvzQ9BsXmX"
      }
    },
    {
      "cell_type": "markdown",
      "source": [
        "Estamos en la  Clase 02\n",
        "<br> El objetivo de la materia es lograr la mejor predicción para nuestro probleama, para lo que se probarán pipelines con decenas de alternativas, será indispensable comparar varios modelos predictivos entre sí y decidir cual es el mejor\n",
        "<br> La tarea no es tan sencilla"
      ],
      "metadata": {
        "id": "Y2U9lu16sgta"
      }
    },
    {
      "cell_type": "markdown",
      "source": [
        "## Seteo del ambiente en Google Colab"
      ],
      "metadata": {
        "id": "kmLygy1TYPfg"
      }
    },
    {
      "cell_type": "markdown",
      "source": [
        "Esta parte se debe correr con el runtime en Python3\n",
        "<br>Ir al menu, Runtime -> Change Runtime Tipe -> Runtime type ->  **Python 3**"
      ],
      "metadata": {
        "id": "OikOm5K2YU3X"
      }
    },
    {
      "cell_type": "markdown",
      "source": [
        "Conectar la virtual machine donde esta corriendo Google Colab con el  Google Drive, para poder tener persistencia de archivos"
      ],
      "metadata": {
        "id": "4fmV5LyZdFyI"
      }
    },
    {
      "cell_type": "code",
      "source": [
        "# primero establecer el Runtime de Python 3\n",
        "from google.colab import drive\n",
        "drive.mount('/content/.drive')"
      ],
      "metadata": {
        "id": "ilEZ-bE2VybW",
        "colab": {
          "base_uri": "https://localhost:8080/"
        },
        "outputId": "56a20518-e791-4a13-9663-7cfdd5a2366c"
      },
      "execution_count": null,
      "outputs": [
        {
          "output_type": "stream",
          "name": "stdout",
          "text": [
            "Mounted at /content/.drive\n"
          ]
        }
      ]
    },
    {
      "cell_type": "markdown",
      "source": [
        "Para correr la siguiente celda es fundamental en Arranque en Frio haber copiado el archivo kaggle.json al Google Drive, en la carpeta indicada en el instructivo\n",
        "\n",
        "<br>los siguientes comando estan en shell script de Linux\n",
        "*   Crear las carpetas en el Google Drive\n",
        "*   \"instalar\" el archivo kaggle.json desde el Google Drive a la virtual machine para que pueda ser utilizado por la libreria  kaggle de Python\n",
        "*   Bajar el  **dataset_pequeno**  al  Google Drive  y tambien al disco local de la virtual machine que esta corriendo Google Colab\n",
        "\n"
      ],
      "metadata": {
        "id": "ilaKtqWldeWg"
      }
    },
    {
      "cell_type": "code",
      "source": [
        "%%shell\n",
        "\n",
        "mkdir -p \"/content/.drive/My Drive/labo1\"\n",
        "mkdir -p \"/content/buckets\"\n",
        "ln -s \"/content/.drive/My Drive/labo1\" /content/buckets/b1\n",
        "\n",
        "mkdir -p ~/.kaggle\n",
        "cp /content/buckets/b1/kaggle/kaggle.json  ~/.kaggle\n",
        "chmod 600 ~/.kaggle/kaggle.json\n",
        "\n",
        "\n",
        "mkdir -p /content/buckets/b1/exp\n",
        "mkdir -p /content/buckets/b1/datasets\n",
        "mkdir -p /content/datasets\n",
        "\n",
        "\n",
        "\n",
        "archivo_origen=\"https://storage.googleapis.com/open-courses/austral2025-af91/dataset_pequeno.csv\"\n",
        "archivo_destino=\"/content/datasets/dataset_pequeno.csv\"\n",
        "archivo_destino_bucket=\"/content/buckets/b1/datasets/dataset_pequeno.csv\"\n",
        "\n",
        "if ! test -f $archivo_destino_bucket; then\n",
        "  wget  $archivo_origen  -O $archivo_destino_bucket\n",
        "fi\n",
        "\n",
        "\n",
        "if ! test -f $archivo_destino; then\n",
        "  cp  $archivo_destino_bucket  $archivo_destino\n",
        "fi\n"
      ],
      "metadata": {
        "id": "W8dQFI5QYCFa",
        "colab": {
          "base_uri": "https://localhost:8080/"
        },
        "outputId": "284b248c-a1cb-471d-857e-17d15a93e0b0"
      },
      "execution_count": null,
      "outputs": [
        {
          "output_type": "stream",
          "name": "stdout",
          "text": [
            "--2025-09-30 23:16:50--  https://storage.googleapis.com/open-courses/austral2025-af91/dataset_pequeno.csv\n",
            "Resolving storage.googleapis.com (storage.googleapis.com)... 172.217.15.251, 172.217.164.27, 172.217.0.91, ...\n",
            "Connecting to storage.googleapis.com (storage.googleapis.com)|172.217.15.251|:443... connected.\n",
            "HTTP request sent, awaiting response... 200 OK\n",
            "Length: 168083585 (160M) [text/csv]\n",
            "Saving to: ‘/content/buckets/b1/datasets/dataset_pequeno.csv’\n",
            "\n",
            "/content/buckets/b1 100%[===================>] 160.30M  52.2MB/s    in 3.1s    \n",
            "\n",
            "2025-09-30 23:16:54 (52.2 MB/s) - ‘/content/buckets/b1/datasets/dataset_pequeno.csv’ saved [168083585/168083585]\n",
            "\n"
          ]
        },
        {
          "output_type": "execute_result",
          "data": {
            "text/plain": []
          },
          "metadata": {},
          "execution_count": 2
        }
      ]
    },
    {
      "cell_type": "markdown",
      "source": [
        "# 1  Particion Training/Testing\n",
        "## Clase 02  Experimento 1"
      ],
      "metadata": {
        "id": "iV32-NeesVp6"
      }
    },
    {
      "cell_type": "markdown",
      "source": [
        "## 1.1  Objetivos\n",
        "Dado que es el primer experimento de la asignatura, acercar a l@s estudiantes las mejores prácticas de operación del ambiente de Google Cloud, realizando una minuciosa demostración en vivo narrando todas las consideraciones pertinentes para evitar accidentes, daños a terceros y a equipos.\n",
        "Dar soporte en el acto a  l@s estudiantes que necesitan ayuda para terminar de configurar el ambiente Google Cloud .\n",
        "<br>Repaso del concepto de  partición de un dataset al azar, estratificada en la clase\n",
        "<br>Dado que es el primer script que se mostrará en vivo a l@s estudiantes,  realizar una visita guiada del  mismo, su estructura y detalles.\n",
        "<br>Repaso del algoritmo Arbol de Decisión sus hiperparámetros, y la implementación con la librería  rpart.  Funciones  rpart::rpart  y rpart::predict\n",
        "<br>Concepto de replicabilidad de los experimentos mediante las semillas de los generadores de secuencias de números pseudoaleatorios.\n",
        "<br>Finalmente, el principal objetivo de este experimento es lograr que l@s estudiantes dimensionen la enorme variabilidad del error de medición de la ganancia de un árbol de decisión al realizar una partición <training, testing>,  contener la sorpresa de los estudiantes, descartar a la simple particion <training, testing> como método,  y construir en conjunto una solucion natural al problema."
      ],
      "metadata": {
        "id": "84Pnj9gVwpXB"
      }
    },
    {
      "cell_type": "markdown",
      "source": [
        "## 1.2 Introduccion"
      ],
      "metadata": {
        "id": "L9Cn0WThw37Y"
      }
    },
    {
      "cell_type": "markdown",
      "source": [
        "![Particiohn Training/Testing](https://storage.googleapis.com/open-courses/austral2025-af91/labo1r/C2_E1_particion.jpg)"
      ],
      "metadata": {
        "id": "ZELZ0R4itUVG"
      }
    },
    {
      "cell_type": "markdown",
      "source": [
        "![Dos tipos de error](https://storage.googleapis.com/open-courses/austral2025-af91/labo1r/C2_E1_target.jpg)"
      ],
      "metadata": {
        "id": "Wtc1ho58xLk-"
      }
    },
    {
      "cell_type": "markdown",
      "source": [
        "## 1.3  Bibliografía\n",
        "\n",
        "Demšar, J. [Statistical comparisons of classifiers over multiple data sets](https://www.jmlr.org/papers/volume7/demsar06a/demsar06a.pdf) J. Mach. Learn. Res. 7, 1–30 (2006).   \n",
        "Starmer, J. [Machine Learning Fundamentals: Cross Validation](https://www.youtube.com/watch?v=fSytzGwwBVw)Machine Learning Fundamentals: Cross Validation, StatQuest with Josh Starmer youtube channel, (2018)\n",
        "Hastie, T.[The elements of statistical learning: data mining, inference, and prediction](https://hastie.su.domains/Papers/ESLII.pdf) , volume 2. Springer, 2009  ( Chapter 7 Model Assessment and Selection )"
      ],
      "metadata": {
        "id": "oRWtRV34xZRT"
      }
    },
    {
      "cell_type": "markdown",
      "source": [
        "## 1.4 Codigo"
      ],
      "metadata": {
        "id": "VcgTQ2-Pyb8q"
      }
    },
    {
      "cell_type": "markdown",
      "source": [
        "Esta parte se debe correr con el runtime en lenguaje **R** Ir al menu, Runtime -> Change Runtime Tipe -> Runtime type -> R"
      ],
      "metadata": {
        "id": "SBXPU-_tabMb"
      }
    },
    {
      "cell_type": "markdown",
      "source": [
        "limpio el ambiente de R"
      ],
      "metadata": {
        "id": "SE94XRhWsxkX"
      }
    },
    {
      "cell_type": "code",
      "source": [
        "# limpio la memoria\n",
        "rm(list=ls(all.names=TRUE)) # remove all objects\n",
        "gc(full=TRUE, verbose=FALSE) # garbage collection"
      ],
      "metadata": {
        "id": "oZG_4br6szlT",
        "colab": {
          "base_uri": "https://localhost:8080/",
          "height": 129
        },
        "outputId": "2f51b0b4-f053-4510-c97f-a31939d61d8b"
      },
      "execution_count": null,
      "outputs": [
        {
          "output_type": "display_data",
          "data": {
            "text/html": [
              "<table class=\"dataframe\">\n",
              "<caption>A matrix: 2 × 6 of type dbl</caption>\n",
              "<thead>\n",
              "\t<tr><th></th><th scope=col>used</th><th scope=col>(Mb)</th><th scope=col>gc trigger</th><th scope=col>(Mb)</th><th scope=col>max used</th><th scope=col>(Mb)</th></tr>\n",
              "</thead>\n",
              "<tbody>\n",
              "\t<tr><th scope=row>Ncells</th><td> 656571</td><td>35.1</td><td>1454451</td><td>77.7</td><td>1321662</td><td>70.6</td></tr>\n",
              "\t<tr><th scope=row>Vcells</th><td>1219461</td><td> 9.4</td><td>8388608</td><td>64.0</td><td>1975127</td><td>15.1</td></tr>\n",
              "</tbody>\n",
              "</table>\n"
            ],
            "text/markdown": "\nA matrix: 2 × 6 of type dbl\n\n| <!--/--> | used | (Mb) | gc trigger | (Mb) | max used | (Mb) |\n|---|---|---|---|---|---|---|\n| Ncells |  656571 | 35.1 | 1454451 | 77.7 | 1321662 | 70.6 |\n| Vcells | 1219461 |  9.4 | 8388608 | 64.0 | 1975127 | 15.1 |\n\n",
            "text/latex": "A matrix: 2 × 6 of type dbl\n\\begin{tabular}{r|llllll}\n  & used & (Mb) & gc trigger & (Mb) & max used & (Mb)\\\\\n\\hline\n\tNcells &  656571 & 35.1 & 1454451 & 77.7 & 1321662 & 70.6\\\\\n\tVcells & 1219461 &  9.4 & 8388608 & 64.0 & 1975127 & 15.1\\\\\n\\end{tabular}\n",
            "text/plain": [
              "       used    (Mb) gc trigger (Mb) max used (Mb)\n",
              "Ncells  656571 35.1 1454451    77.7 1321662  70.6\n",
              "Vcells 1219461  9.4 8388608    64.0 1975127  15.1"
            ]
          },
          "metadata": {}
        }
      ]
    },
    {
      "cell_type": "code",
      "source": [
        "Sys.time()"
      ],
      "metadata": {
        "id": "pJ8SsVA5ssnf",
        "colab": {
          "base_uri": "https://localhost:8080/",
          "height": 34
        },
        "outputId": "42ef80c2-c24a-45cc-abd4-949c84a26a31"
      },
      "execution_count": null,
      "outputs": [
        {
          "output_type": "display_data",
          "data": {
            "text/plain": [
              "[1] \"2025-09-30 23:21:52 UTC\""
            ]
          },
          "metadata": {}
        }
      ]
    },
    {
      "cell_type": "markdown",
      "source": [
        "* Instalacion de la libreria  rpart.plot  para dibujar el arbol\n",
        "* invocacion de las librerias  **data.table** y  **rpart**"
      ],
      "metadata": {
        "id": "3BrrQ47PeEb2"
      }
    },
    {
      "cell_type": "code",
      "source": [
        "# cargo las librerias que necesito\n",
        "require(\"data.table\")\n",
        "require(\"rpart\")\n"
      ],
      "metadata": {
        "id": "SxO-0Ql0khn6",
        "colab": {
          "base_uri": "https://localhost:8080/"
        },
        "outputId": "0c05cbf0-7e5c-4f13-8079-de8d85d9b4d1"
      },
      "execution_count": null,
      "outputs": [
        {
          "output_type": "stream",
          "name": "stderr",
          "text": [
            "Loading required package: data.table\n",
            "\n",
            "Loading required package: rpart\n",
            "\n"
          ]
        }
      ]
    },
    {
      "cell_type": "markdown",
      "source": [
        "###  Accion a Realizar\n",
        "PARAM$semilla  debe tener su primer semilla aleatoria"
      ],
      "metadata": {
        "id": "ZG9fCnZh3bWV"
      }
    },
    {
      "cell_type": "code",
      "source": [
        "PARAM <- list()\n",
        "PARAM$semilla <- 100109  # aqui debe ir su primer semilla\n",
        "PARAM$training_pct <- 70L  # entre  1L y 99L\n",
        "\n",
        "PARAM$rpart <- list (\n",
        "  \"cp\" = -1, # complejidad minima\n",
        "  \"minsplit\" = 170, # minima cantidad de regs en un nodo para hacer el split\n",
        "  \"minbucket\" = 70, # minima cantidad de regs en una hoja\n",
        "  \"maxdepth\" = 7 # profundidad máxima del arbol\n",
        ")\n"
      ],
      "metadata": {
        "id": "0nx5_OcE3Y9c"
      },
      "execution_count": null,
      "outputs": []
    },
    {
      "cell_type": "code",
      "source": [
        "# particionar agrega una columna llamada fold a un dataset\n",
        "#  que consiste en una particion estratificada segun agrupa\n",
        "\n",
        "# particionar( data=dataset, division=c(70,30),\n",
        "#  agrupa=clase_ternaria, seed=semilla)   crea una particion 70, 30\n",
        "\n",
        "particionar <- function(\n",
        "    data, division, agrupa = \"\",\n",
        "    campo = \"fold\", start = 1, seed = NA) {\n",
        "  if (!is.na(seed)) set.seed(seed)\n",
        "\n",
        "  bloque <- unlist(mapply(function(x, y) {\n",
        "    rep(y, x)\n",
        "  }, division, seq(from = start, length.out = length(division))))\n",
        "\n",
        "  data[, (campo) := sample(rep(bloque, ceiling(.N / length(bloque))))[1:.N],\n",
        "    by = agrupa\n",
        "  ]\n",
        "}\n"
      ],
      "metadata": {
        "id": "8HLE9Dx80gjH"
      },
      "execution_count": null,
      "outputs": []
    },
    {
      "cell_type": "code",
      "source": [
        "# carpeta de trabajo\n",
        "setwd(\"/content/buckets/b1/exp\")\n",
        "experimento <- \"exp201\"\n",
        "dir.create(experimento, showWarnings=FALSE)\n",
        "setwd( paste0(\"/content/buckets/b1/exp/\", experimento ))"
      ],
      "metadata": {
        "id": "sC4_nqcm0nUs"
      },
      "execution_count": null,
      "outputs": []
    },
    {
      "cell_type": "code",
      "source": [
        "# lectura del dataset\n",
        "dataset <- fread(\"/content/datasets/dataset_pequeno.csv\")\n",
        "\n",
        "# trabajo solo con los datos con clase, es decir 202107\n",
        "dataset <- dataset[clase_ternaria != \"\"]"
      ],
      "metadata": {
        "id": "6yIEsZOw07q8"
      },
      "execution_count": null,
      "outputs": []
    },
    {
      "cell_type": "code",
      "source": [
        "# particiono estratificadamente el dataset 70%, 30%\n",
        "particionar(dataset,\n",
        "  division = c(PARAM$training_pct, 100L -PARAM$training_pct),\n",
        "  agrupa = \"clase_ternaria\",\n",
        "  seed = PARAM$semilla # aqui se usa SU semilla\n",
        ")\n",
        "\n"
      ],
      "metadata": {
        "id": "FAO1Hhd52b5d"
      },
      "execution_count": null,
      "outputs": []
    },
    {
      "cell_type": "code",
      "source": [
        "# genero el modelo\n",
        "# quiero predecir clase_ternaria a partir del resto\n",
        "# fold==1  es training,  el 70% de los datos\n",
        "modelo <- rpart(\"clase_ternaria ~ .\",\n",
        "  data = dataset[fold == 1],  # fold==1  es training, el 70% de los datos\n",
        "  xval = 0,\n",
        "  control = PARAM$rpart # aqui van los parametros\n",
        ")\n"
      ],
      "metadata": {
        "id": "s3UnHSLP2gN6"
      },
      "execution_count": null,
      "outputs": []
    },
    {
      "cell_type": "code",
      "source": [
        "# aplico el modelo a los datos de testing\n",
        "prediccion <- predict(modelo, # el modelo que genere recien\n",
        "  dataset[fold == 2], # fold==2  es testing, el 30% de los datos\n",
        "  type = \"prob\"\n",
        ") # type= \"prob\"  es que devuelva la probabilidad\n"
      ],
      "metadata": {
        "id": "paQphV4A2jGz"
      },
      "execution_count": null,
      "outputs": []
    },
    {
      "cell_type": "code",
      "source": [
        "tb_prediccion <- as.data.table(list(\n",
        "  \"clase_ternaria\"=dataset[fold == 2, clase_ternaria],\n",
        "  \"prob\"=prediccion[, \"BAJA+2\"]\n",
        "))"
      ],
      "metadata": {
        "id": "fuLZ75pA29dT"
      },
      "execution_count": null,
      "outputs": []
    },
    {
      "cell_type": "code",
      "source": [
        "# calculo la ganancia de cada registro\n",
        "tb_prediccion[, ganancia := ifelse(clase_ternaria == \"BAJA+2\", 117000, -3000)]"
      ],
      "metadata": {
        "id": "LuG6ql_t3kOI"
      },
      "execution_count": null,
      "outputs": []
    },
    {
      "cell_type": "code",
      "source": [
        "# calculo la clase\n",
        "tb_prediccion[, Predicted := prob > (1/40) ]"
      ],
      "metadata": {
        "id": "xJ3WTMez3leO"
      },
      "execution_count": null,
      "outputs": []
    },
    {
      "cell_type": "code",
      "source": [
        "ganancia_test <-  tb_prediccion[ Predicted==TRUE,  sum(ganancia)]"
      ],
      "metadata": {
        "id": "cFQPacen4Wq6"
      },
      "execution_count": null,
      "outputs": []
    },
    {
      "cell_type": "code",
      "source": [
        "# normalizo la ganancia\n",
        "ganancia_test_normalizada <- ganancia_test / (( 100 - PARAM$training_pct ) / 100 )"
      ],
      "metadata": {
        "id": "dHjz0zhN4-nZ"
      },
      "execution_count": null,
      "outputs": []
    },
    {
      "cell_type": "code",
      "source": [
        "estimulos <- tb_prediccion[ Predicted==TRUE, .N]\n",
        "aciertos <- tb_prediccion[ Predicted & clase_ternaria == \"BAJA+2\", .N]\n"
      ],
      "metadata": {
        "id": "D7RUdTb95F6B"
      },
      "execution_count": null,
      "outputs": []
    },
    {
      "cell_type": "code",
      "source": [
        "# Resultado Final\n",
        "cat(\"Testing total: \", dataset[fold == 2, .N], \"\\n\")\n",
        "cat(\"Testing BAJA+2: \", dataset[fold == 2 & clase_ternaria == \"BAJA+2\", .N], \"\\n\")\n",
        "\n",
        "cat(\"Estimulos: \", estimulos, \"\\n\")\n",
        "cat(\"Aciertos (BAJA+2): \", aciertos, \"\\n\")\n",
        "\n",
        "cat(\"Ganancia en testing (normalizada): \", ganancia_test_normalizada, \"\\n\")\n"
      ],
      "metadata": {
        "id": "Lu1KM6fy5U7h",
        "colab": {
          "base_uri": "https://localhost:8080/"
        },
        "outputId": "c3b35f05-834a-4594-e857-c70a273a7357"
      },
      "execution_count": null,
      "outputs": [
        {
          "output_type": "stream",
          "name": "stdout",
          "text": [
            "Testing total:  49387 \n",
            "Testing BAJA+2:  374 \n",
            "Estimulos:  3454 \n",
            "Aciertos (BAJA+2):  223 \n",
            "Ganancia en testing (normalizada):  54660000 \n"
          ]
        }
      ]
    },
    {
      "cell_type": "markdown",
      "source": [
        "### Acciones a realizar\n",
        "* Reportar la  *Ganancia en testing (normalizada)* <br> en la planilla colaborativa hoja  **C2-1sem**\n",
        "* Se discutirá en clase la variabilidad de las ganancias obtenidas de distintos alumnos"
      ],
      "metadata": {
        "id": "kHs-YoFB5rUa"
      }
    },
    {
      "cell_type": "markdown",
      "source": [
        "\n",
        "\n",
        "---\n",
        "\n"
      ],
      "metadata": {
        "id": "LBl_eIeO7WuM"
      }
    },
    {
      "cell_type": "markdown",
      "source": [
        "# 2  Medición Monte Carlo Cross Validation\n",
        "## Clase 02  Experimento 2"
      ],
      "metadata": {
        "id": "h43UCq9y7UlT"
      }
    },
    {
      "cell_type": "markdown",
      "source": [
        "## 2.1  Objetivos\n",
        "Mostrar el funcionamiento de la Montecarlo Cross Validation y que l@s estudiantes aprecien la disminución de la varianza de dicha metodología.\n",
        "Relación con el Teorema Central del Límite"
      ],
      "metadata": {
        "id": "wHPchGXK80VU"
      }
    },
    {
      "cell_type": "markdown",
      "source": [
        "## 2.2 Introduccion\n",
        "\n",
        "![Montecarlo](https://storage.googleapis.com/open-courses/austral2025-af91/labo1r/C2_E2_montecarlo.jpg)\n",
        "\n",
        "![Curva normal](https://storage.googleapis.com/open-courses/austral2025-af91/labo1r/C2_E2_normal.jpg)\n",
        "\n",
        "![Teorema Central del Limite](https://storage.googleapis.com/open-courses/austral2025-af91/labo1r/C2_E2_teoremacentralLimite.jpg)\n",
        "\n"
      ],
      "metadata": {
        "id": "g6YzACxl9DzS"
      }
    },
    {
      "cell_type": "markdown",
      "source": [],
      "metadata": {
        "id": "7laod2t4ArsH"
      }
    },
    {
      "cell_type": "markdown",
      "source": [
        "## 2.3  Bibliografía\n",
        "\n",
        "Demšar, J. [Statistical comparisons of classifiers over multiple data sets](https://www.jmlr.org/papers/volume7/demsar06a/demsar06a.pdf) J. Mach. Learn. Res. 7, 1–30 (2006).   \n",
        "Starmer, J. [Machine Learning Fundamentals: Cross Validation](https://www.youtube.com/watch?v=fSytzGwwBVw)Machine Learning Fundamentals: Cross Validation, StatQuest with Josh Starmer youtube channel, (2018)\n",
        "Hastie, T.[The elements of statistical learning: data mining, inference, and prediction](https://hastie.su.domains/Papers/ESLII.pdf) , volume 2. Springer, 2009  ( Chapter 7 Model Assessment and Selection )"
      ],
      "metadata": {
        "id": "lFcJeRAkAr-q"
      }
    },
    {
      "cell_type": "code",
      "source": [],
      "metadata": {
        "id": "KXSuYXQ26cLV"
      },
      "execution_count": null,
      "outputs": []
    },
    {
      "cell_type": "markdown",
      "source": [
        "## 2.4 Codigo  Montecarlo"
      ],
      "metadata": {
        "id": "0ztZzYolA2WK"
      }
    },
    {
      "cell_type": "markdown",
      "source": [
        "El código de la Montecarlo Cross Validation es notablemente más complejo que el anterior de una simple partición training/testing\n",
        "<br> Se crea la funcion ArbolEstimarGanancia()  que dada una semilla realiza la partición  training/testing, entrena en training, aplica el modelo a testing, y se calculan las ganancias\n",
        "<br> Se utiliza la funcion **mcmapply**  de R para aplicar ArbolEstimarGanancia a todos los elementos del vector de semillas"
      ],
      "metadata": {
        "id": "KLa06ZsiC-Oz"
      }
    },
    {
      "cell_type": "markdown",
      "source": [
        "Esta parte se debe correr con el runtime en lenguaje **R** Ir al menu, Runtime -> Change Runtime Tipe -> Runtime type -> R"
      ],
      "metadata": {
        "id": "ivFiBBOQA2Ws"
      }
    },
    {
      "cell_type": "markdown",
      "source": [
        "limpio el ambiente de R"
      ],
      "metadata": {
        "id": "TMSAQDXuA2Ws"
      }
    },
    {
      "cell_type": "code",
      "source": [
        "# limpio la memoria\n",
        "rm(list=ls(all.names=TRUE)) # remove all objects\n",
        "gc(full=TRUE, verbose=FALSE) # garbage collection"
      ],
      "metadata": {
        "id": "eakzb8y2A2Wt",
        "colab": {
          "base_uri": "https://localhost:8080/",
          "height": 129
        },
        "outputId": "ed8785a9-819f-4da3-edd5-9e6b38d2c0a3"
      },
      "execution_count": null,
      "outputs": [
        {
          "output_type": "display_data",
          "data": {
            "text/html": [
              "<table class=\"dataframe\">\n",
              "<caption>A matrix: 2 × 6 of type dbl</caption>\n",
              "<thead>\n",
              "\t<tr><th></th><th scope=col>used</th><th scope=col>(Mb)</th><th scope=col>gc trigger</th><th scope=col>(Mb)</th><th scope=col>max used</th><th scope=col>(Mb)</th></tr>\n",
              "</thead>\n",
              "<tbody>\n",
              "\t<tr><th scope=row>Ncells</th><td> 744307</td><td>39.8</td><td>  1454451</td><td> 77.7</td><td>  1454451</td><td> 77.7</td></tr>\n",
              "\t<tr><th scope=row>Vcells</th><td>1413678</td><td>10.8</td><td>101951296</td><td>777.9</td><td>122419475</td><td>934.0</td></tr>\n",
              "</tbody>\n",
              "</table>\n"
            ],
            "text/markdown": "\nA matrix: 2 × 6 of type dbl\n\n| <!--/--> | used | (Mb) | gc trigger | (Mb) | max used | (Mb) |\n|---|---|---|---|---|---|---|\n| Ncells |  744307 | 39.8 |   1454451 |  77.7 |   1454451 |  77.7 |\n| Vcells | 1413678 | 10.8 | 101951296 | 777.9 | 122419475 | 934.0 |\n\n",
            "text/latex": "A matrix: 2 × 6 of type dbl\n\\begin{tabular}{r|llllll}\n  & used & (Mb) & gc trigger & (Mb) & max used & (Mb)\\\\\n\\hline\n\tNcells &  744307 & 39.8 &   1454451 &  77.7 &   1454451 &  77.7\\\\\n\tVcells & 1413678 & 10.8 & 101951296 & 777.9 & 122419475 & 934.0\\\\\n\\end{tabular}\n",
            "text/plain": [
              "       used    (Mb) gc trigger (Mb)  max used  (Mb) \n",
              "Ncells  744307 39.8   1454451   77.7   1454451  77.7\n",
              "Vcells 1413678 10.8 101951296  777.9 122419475 934.0"
            ]
          },
          "metadata": {}
        }
      ]
    },
    {
      "cell_type": "markdown",
      "source": [
        "* Instalacion de la libreria  rpart.plot  para dibujar el arbol\n",
        "* invocacion de las librerias  **data.table** y  **rpart**"
      ],
      "metadata": {
        "id": "559RkeYZA2Wv"
      }
    },
    {
      "cell_type": "code",
      "source": [
        "# cargo las librerias que necesito\n",
        "require(\"data.table\")\n",
        "require(\"rpart\")\n",
        "require(\"parallel\")"
      ],
      "metadata": {
        "id": "yf_S_HlsA2Wv",
        "colab": {
          "base_uri": "https://localhost:8080/"
        },
        "outputId": "d99855af-00e1-4ec1-8d04-8fc62c0b5ffc"
      },
      "execution_count": null,
      "outputs": [
        {
          "output_type": "stream",
          "name": "stderr",
          "text": [
            "Loading required package: parallel\n",
            "\n"
          ]
        }
      ]
    },
    {
      "cell_type": "markdown",
      "source": [
        "###  Accion a Realizar\n",
        "PARAM$semillas  debe tener sus cinco semillas aleatorias"
      ],
      "metadata": {
        "id": "a4oz2ulCA2Ww"
      }
    },
    {
      "cell_type": "code",
      "source": [
        "PARAM <- list()\n",
        "PARAM$semillas <- c(100109, 100129, 100153, 100169, 100189)  # aqui debe ir sus CINCO\n",
        "PARAM$training_pct <- 70L  # entre  1L y 99L\n",
        "\n",
        "PARAM$rpart <- list (\n",
        "  \"cp\" = -1, # complejidad minima\n",
        "  \"minsplit\" = 170, # minima cantidad de regs en un nodo para hacer el split\n",
        "  \"minbucket\" = 70, # minima cantidad de regs en una hoja\n",
        "  \"maxdepth\" = 7 # profundidad máxima del arbol\n",
        ")\n"
      ],
      "metadata": {
        "id": "yQ2OAP5AA2Wx"
      },
      "execution_count": null,
      "outputs": []
    },
    {
      "cell_type": "code",
      "source": [
        "# particionar agrega una columna llamada fold a un dataset\n",
        "#  que consiste en una particion estratificada segun agrupa\n",
        "\n",
        "# particionar( data=dataset, division=c(70,30),\n",
        "#  agrupa=clase_ternaria, seed=semilla)   crea una particion 70, 30\n",
        "\n",
        "particionar <- function(\n",
        "    data, division, agrupa = \"\",\n",
        "    campo = \"fold\", start = 1, seed = NA) {\n",
        "  if (!is.na(seed)) set.seed(seed)\n",
        "\n",
        "  bloque <- unlist(mapply(function(x, y) {\n",
        "    rep(y, x)\n",
        "  }, division, seq(from = start, length.out = length(division))))\n",
        "\n",
        "  data[, (campo) := sample(rep(bloque, ceiling(.N / length(bloque))))[1:.N],\n",
        "    by = agrupa\n",
        "  ]\n",
        "}\n"
      ],
      "metadata": {
        "id": "97dMCVJWA2Wy"
      },
      "execution_count": null,
      "outputs": []
    },
    {
      "cell_type": "code",
      "source": [
        "\n",
        "ArbolEstimarGanancia <- function(semilla, param_basicos) {\n",
        "  # particiono estratificadamente el dataset\n",
        "  particionar(dataset,\n",
        "    division = c(param_basicos$training_pct, 100L -param_basicos$training_pct),\n",
        "    agrupa = \"clase_ternaria\",\n",
        "    seed = semilla # aqui se usa SU semilla\n",
        "  )\n",
        "\n",
        "  # genero el modelo\n",
        "  # predecir clase_ternaria a partir del resto\n",
        "  modelo <- rpart(\"clase_ternaria ~ .\",\n",
        "    data = dataset[fold == 1], # fold==1  es training,  el 70% de los datos\n",
        "    xval = 0,\n",
        "    control = param_basicos$rpart\n",
        "  ) # aqui van los parametros del arbol\n",
        "\n",
        "  # aplico el modelo a los datos de testing\n",
        "  prediccion <- predict(modelo, # el modelo que genere recien\n",
        "    dataset[fold == 2], # fold==2  es testing, el 30% de los datos\n",
        "    type = \"prob\"\n",
        "  ) # type= \"prob\"  es que devuelva la probabilidad\n",
        "\n",
        "  # prediccion es una matriz con TRES columnas,\n",
        "  #  llamadas \"BAJA+1\", \"BAJA+2\"  y \"CONTINUA\"\n",
        "  # cada columna es el vector de probabilidades\n",
        "\n",
        "\n",
        "  # calculo la ganancia en testing  qu es fold==2\n",
        "  ganancia_test <- dataset[\n",
        "    fold == 2,\n",
        "    sum(ifelse(prediccion[, \"BAJA+2\"] > 0.025,\n",
        "      ifelse(clase_ternaria == \"BAJA+2\", 117000, -3000),\n",
        "      0\n",
        "    ))\n",
        "  ]\n",
        "\n",
        "  # escalo la ganancia como si fuera todo el dataset\n",
        "  ganancia_test_normalizada <- ganancia_test / (( 100 - PARAM$training_pct ) / 100 )\n",
        "\n",
        "  return(list(\n",
        "    \"semilla\" = semilla,\n",
        "    \"testing\" = dataset[fold == 2, .N],\n",
        "    \"testing_pos\" = dataset[fold == 2 & clase_ternaria == \"BAJA+2\", .N],\n",
        "    \"envios\" = dataset[fold == 2, sum(prediccion[, \"BAJA+2\"] > 0.025)],\n",
        "    \"aciertos\" = dataset[\n",
        "        fold == 2,\n",
        "        sum(prediccion[, \"BAJA+2\"] > 0.025 & clase_ternaria == \"BAJA+2\")\n",
        "    ],\n",
        "    \"ganancia_test\" = ganancia_test_normalizada\n",
        "  ))\n",
        "}\n"
      ],
      "metadata": {
        "id": "GroZSZoVBuZ5"
      },
      "execution_count": null,
      "outputs": []
    },
    {
      "cell_type": "code",
      "source": [
        "# carpeta de trabajo\n",
        "setwd(\"/content/buckets/b1/exp\")\n",
        "experimento <- \"exp202\"\n",
        "dir.create(experimento, showWarnings=FALSE)\n",
        "setwd( paste0(\"/content/buckets/b1/exp/\", experimento ))"
      ],
      "metadata": {
        "id": "dJIBIX6kA2Wy"
      },
      "execution_count": null,
      "outputs": []
    },
    {
      "cell_type": "code",
      "source": [
        "# lectura del dataset\n",
        "dataset <- fread(\"/content/datasets/dataset_pequeno.csv\")\n",
        "\n",
        "# trabajo solo con los datos con clase, es decir 202107\n",
        "dataset <- dataset[clase_ternaria != \"\"]"
      ],
      "metadata": {
        "id": "tKiACdU2A2Wz"
      },
      "execution_count": null,
      "outputs": []
    },
    {
      "cell_type": "code",
      "source": [
        "\n",
        "# la funcion mcmapply  llama a la funcion ArbolEstimarGanancia\n",
        "#  tantas veces como valores tenga el vector  PARAM$semillas\n",
        "salidas <- mcmapply(ArbolEstimarGanancia,\n",
        "  PARAM$semillas, # paso el vector de semillas\n",
        "  MoreArgs = list(PARAM), # aqui paso el segundo parametro\n",
        "  SIMPLIFY = FALSE,\n",
        "  mc.cores = detectCores()\n",
        ")\n",
        "\n",
        "# muestro la lista de las salidas en testing\n",
        "#  para la particion realizada con cada semilla\n",
        "salidas\n"
      ],
      "metadata": {
        "id": "64OdfeyxCMDF",
        "colab": {
          "base_uri": "https://localhost:8080/",
          "height": 1000
        },
        "outputId": "26c7339c-9745-4b9b-b5c4-3850135a9d02"
      },
      "execution_count": null,
      "outputs": [
        {
          "output_type": "display_data",
          "data": {
            "text/html": [
              "<ol>\n",
              "\t<li><dl>\n",
              "\t<dt>$semilla</dt>\n",
              "\t\t<dd>100109</dd>\n",
              "\t<dt>$testing</dt>\n",
              "\t\t<dd>49378</dd>\n",
              "\t<dt>$testing_pos</dt>\n",
              "\t\t<dd>374</dd>\n",
              "\t<dt>$envios</dt>\n",
              "\t\t<dd>2783</dd>\n",
              "\t<dt>$aciertos</dt>\n",
              "\t\t<dd>188</dd>\n",
              "\t<dt>$ganancia_test</dt>\n",
              "\t\t<dd>47370000</dd>\n",
              "</dl>\n",
              "</li>\n",
              "\t<li><dl>\n",
              "\t<dt>$semilla</dt>\n",
              "\t\t<dd>100129</dd>\n",
              "\t<dt>$testing</dt>\n",
              "\t\t<dd>49377</dd>\n",
              "\t<dt>$testing_pos</dt>\n",
              "\t\t<dd>376</dd>\n",
              "\t<dt>$envios</dt>\n",
              "\t\t<dd>3186</dd>\n",
              "\t<dt>$aciertos</dt>\n",
              "\t\t<dd>195</dd>\n",
              "\t<dt>$ganancia_test</dt>\n",
              "\t\t<dd>46140000</dd>\n",
              "</dl>\n",
              "</li>\n",
              "\t<li><dl>\n",
              "\t<dt>$semilla</dt>\n",
              "\t\t<dd>100153</dd>\n",
              "\t<dt>$testing</dt>\n",
              "\t\t<dd>49378</dd>\n",
              "\t<dt>$testing_pos</dt>\n",
              "\t\t<dd>374</dd>\n",
              "\t<dt>$envios</dt>\n",
              "\t\t<dd>4540</dd>\n",
              "\t<dt>$aciertos</dt>\n",
              "\t\t<dd>235</dd>\n",
              "\t<dt>$ganancia_test</dt>\n",
              "\t\t<dd>48600000</dd>\n",
              "</dl>\n",
              "</li>\n",
              "\t<li><dl>\n",
              "\t<dt>$semilla</dt>\n",
              "\t\t<dd>100169</dd>\n",
              "\t<dt>$testing</dt>\n",
              "\t\t<dd>49380</dd>\n",
              "\t<dt>$testing_pos</dt>\n",
              "\t\t<dd>376</dd>\n",
              "\t<dt>$envios</dt>\n",
              "\t\t<dd>3912</dd>\n",
              "\t<dt>$aciertos</dt>\n",
              "\t\t<dd>216</dd>\n",
              "\t<dt>$ganancia_test</dt>\n",
              "\t\t<dd>47280000</dd>\n",
              "</dl>\n",
              "</li>\n",
              "\t<li><dl>\n",
              "\t<dt>$semilla</dt>\n",
              "\t\t<dd>100189</dd>\n",
              "\t<dt>$testing</dt>\n",
              "\t\t<dd>49379</dd>\n",
              "\t<dt>$testing_pos</dt>\n",
              "\t\t<dd>372</dd>\n",
              "\t<dt>$envios</dt>\n",
              "\t\t<dd>3095</dd>\n",
              "\t<dt>$aciertos</dt>\n",
              "\t\t<dd>182</dd>\n",
              "\t<dt>$ganancia_test</dt>\n",
              "\t\t<dd>41850000</dd>\n",
              "</dl>\n",
              "</li>\n",
              "</ol>\n"
            ],
            "text/markdown": "1. $semilla\n:   100109\n$testing\n:   49378\n$testing_pos\n:   374\n$envios\n:   2783\n$aciertos\n:   188\n$ganancia_test\n:   47370000\n\n\n\n2. $semilla\n:   100129\n$testing\n:   49377\n$testing_pos\n:   376\n$envios\n:   3186\n$aciertos\n:   195\n$ganancia_test\n:   46140000\n\n\n\n3. $semilla\n:   100153\n$testing\n:   49378\n$testing_pos\n:   374\n$envios\n:   4540\n$aciertos\n:   235\n$ganancia_test\n:   48600000\n\n\n\n4. $semilla\n:   100169\n$testing\n:   49380\n$testing_pos\n:   376\n$envios\n:   3912\n$aciertos\n:   216\n$ganancia_test\n:   47280000\n\n\n\n5. $semilla\n:   100189\n$testing\n:   49379\n$testing_pos\n:   372\n$envios\n:   3095\n$aciertos\n:   182\n$ganancia_test\n:   41850000\n\n\n\n\n\n",
            "text/latex": "\\begin{enumerate}\n\\item \\begin{description}\n\\item[\\$semilla] 100109\n\\item[\\$testing] 49378\n\\item[\\$testing\\_pos] 374\n\\item[\\$envios] 2783\n\\item[\\$aciertos] 188\n\\item[\\$ganancia\\_test] 47370000\n\\end{description}\n\n\\item \\begin{description}\n\\item[\\$semilla] 100129\n\\item[\\$testing] 49377\n\\item[\\$testing\\_pos] 376\n\\item[\\$envios] 3186\n\\item[\\$aciertos] 195\n\\item[\\$ganancia\\_test] 46140000\n\\end{description}\n\n\\item \\begin{description}\n\\item[\\$semilla] 100153\n\\item[\\$testing] 49378\n\\item[\\$testing\\_pos] 374\n\\item[\\$envios] 4540\n\\item[\\$aciertos] 235\n\\item[\\$ganancia\\_test] 48600000\n\\end{description}\n\n\\item \\begin{description}\n\\item[\\$semilla] 100169\n\\item[\\$testing] 49380\n\\item[\\$testing\\_pos] 376\n\\item[\\$envios] 3912\n\\item[\\$aciertos] 216\n\\item[\\$ganancia\\_test] 47280000\n\\end{description}\n\n\\item \\begin{description}\n\\item[\\$semilla] 100189\n\\item[\\$testing] 49379\n\\item[\\$testing\\_pos] 372\n\\item[\\$envios] 3095\n\\item[\\$aciertos] 182\n\\item[\\$ganancia\\_test] 41850000\n\\end{description}\n\n\\end{enumerate}\n",
            "text/plain": [
              "[[1]]\n",
              "[[1]]$semilla\n",
              "[1] 100109\n",
              "\n",
              "[[1]]$testing\n",
              "[1] 49378\n",
              "\n",
              "[[1]]$testing_pos\n",
              "[1] 374\n",
              "\n",
              "[[1]]$envios\n",
              "[1] 2783\n",
              "\n",
              "[[1]]$aciertos\n",
              "[1] 188\n",
              "\n",
              "[[1]]$ganancia_test\n",
              "[1] 47370000\n",
              "\n",
              "\n",
              "[[2]]\n",
              "[[2]]$semilla\n",
              "[1] 100129\n",
              "\n",
              "[[2]]$testing\n",
              "[1] 49377\n",
              "\n",
              "[[2]]$testing_pos\n",
              "[1] 376\n",
              "\n",
              "[[2]]$envios\n",
              "[1] 3186\n",
              "\n",
              "[[2]]$aciertos\n",
              "[1] 195\n",
              "\n",
              "[[2]]$ganancia_test\n",
              "[1] 46140000\n",
              "\n",
              "\n",
              "[[3]]\n",
              "[[3]]$semilla\n",
              "[1] 100153\n",
              "\n",
              "[[3]]$testing\n",
              "[1] 49378\n",
              "\n",
              "[[3]]$testing_pos\n",
              "[1] 374\n",
              "\n",
              "[[3]]$envios\n",
              "[1] 4540\n",
              "\n",
              "[[3]]$aciertos\n",
              "[1] 235\n",
              "\n",
              "[[3]]$ganancia_test\n",
              "[1] 48600000\n",
              "\n",
              "\n",
              "[[4]]\n",
              "[[4]]$semilla\n",
              "[1] 100169\n",
              "\n",
              "[[4]]$testing\n",
              "[1] 49380\n",
              "\n",
              "[[4]]$testing_pos\n",
              "[1] 376\n",
              "\n",
              "[[4]]$envios\n",
              "[1] 3912\n",
              "\n",
              "[[4]]$aciertos\n",
              "[1] 216\n",
              "\n",
              "[[4]]$ganancia_test\n",
              "[1] 47280000\n",
              "\n",
              "\n",
              "[[5]]\n",
              "[[5]]$semilla\n",
              "[1] 100189\n",
              "\n",
              "[[5]]$testing\n",
              "[1] 49379\n",
              "\n",
              "[[5]]$testing_pos\n",
              "[1] 372\n",
              "\n",
              "[[5]]$envios\n",
              "[1] 3095\n",
              "\n",
              "[[5]]$aciertos\n",
              "[1] 182\n",
              "\n",
              "[[5]]$ganancia_test\n",
              "[1] 41850000\n",
              "\n"
            ]
          },
          "metadata": {}
        }
      ]
    },
    {
      "cell_type": "code",
      "source": [
        "# paso la lista a vector\n",
        "tb_salida <- rbindlist(salidas)\n",
        "print( tb_salida)"
      ],
      "metadata": {
        "id": "tML9VmH2ECFK",
        "colab": {
          "base_uri": "https://localhost:8080/"
        },
        "outputId": "a9ed7168-d73c-469a-e027-c4d3ccaf295f"
      },
      "execution_count": null,
      "outputs": [
        {
          "output_type": "stream",
          "name": "stdout",
          "text": [
            "   semilla testing testing_pos envios aciertos ganancia_test\n",
            "     <num>   <int>       <int>  <int>    <int>         <num>\n",
            "1:  100109   49378         374   2783      188      47370000\n",
            "2:  100129   49377         376   3186      195      46140000\n",
            "3:  100153   49378         374   4540      235      48600000\n",
            "4:  100169   49380         376   3912      216      47280000\n",
            "5:  100189   49379         372   3095      182      41850000\n"
          ]
        }
      ]
    },
    {
      "cell_type": "code",
      "source": [
        "# finalmente calculo la media (promedio)  de las ganancias\n",
        "cat( \"ganancia promedio: \", tb_salida[, mean(ganancia_test)], \"\\n\" )"
      ],
      "metadata": {
        "id": "rbHXPfoVENQB",
        "colab": {
          "base_uri": "https://localhost:8080/"
        },
        "outputId": "69cb8770-4777-41f3-9fd7-028f7c9c256d"
      },
      "execution_count": null,
      "outputs": [
        {
          "output_type": "stream",
          "name": "stdout",
          "text": [
            "ganancia promedio:  46248000 \n"
          ]
        }
      ]
    },
    {
      "cell_type": "markdown",
      "source": [
        "### Acciones a realizar\n",
        "* Reportar la  *Ganancia Promedio* <br> en la planilla colaborativa hoja  **C2-5sem**\n",
        "* Se discutirá en clase la variabilidad de estos \"ganancia promedio de cinco semillas\""
      ],
      "metadata": {
        "id": "_3xVH6UKA2W6"
      }
    },
    {
      "cell_type": "markdown",
      "source": [
        "\n",
        "\n",
        "---\n",
        "\n"
      ],
      "metadata": {
        "id": "N29m1XGpA2W7"
      }
    },
    {
      "cell_type": "markdown",
      "source": [
        "# 3  Generando n semillas en forma automatica\n",
        "## Clase 02  Experimento 3"
      ],
      "metadata": {
        "id": "zS7WIJciFGc6"
      }
    },
    {
      "cell_type": "markdown",
      "source": [
        "## 3.1  Objetivos\n",
        "Mostrar la creación de nuevas semillas a partir de la librería Primes"
      ],
      "metadata": {
        "id": "VmiFDDDJFUEo"
      }
    },
    {
      "cell_type": "markdown",
      "source": [
        "3.2  Código\n",
        "\n",
        "Como generar muchas semillas a partir de una"
      ],
      "metadata": {
        "id": "Ehe3VfdfFbvg"
      }
    },
    {
      "cell_type": "code",
      "source": [
        "# instalo y cargo la libreria  primes\n",
        "if (!require(\"primes\")) install.packages(\"primes\")\n",
        "require(\"primes\")"
      ],
      "metadata": {
        "id": "X6_dE42yF2-t",
        "colab": {
          "base_uri": "https://localhost:8080/"
        },
        "outputId": "bda9c482-ec14-49d8-88e7-c450fbb638fa"
      },
      "execution_count": null,
      "outputs": [
        {
          "output_type": "stream",
          "name": "stderr",
          "text": [
            "Loading required package: primes\n",
            "\n",
            "Warning message in library(package, lib.loc = lib.loc, character.only = TRUE, logical.return = TRUE, :\n",
            "“there is no package called ‘primes’”\n",
            "Installing package into ‘/usr/local/lib/R/site-library’\n",
            "(as ‘lib’ is unspecified)\n",
            "\n",
            "Loading required package: primes\n",
            "\n"
          ]
        }
      ]
    },
    {
      "cell_type": "code",
      "source": [
        "# genero numeros primos\n",
        "primos <- generate_primes(min = 100000, max = 1000000)\n",
        "\n",
        "\n",
        "set.seed(102191) # inicializo con mi primer semilla\n",
        "\n",
        "# me quedo con por ejemplo 20 primos al azar\n",
        "semillas <- sample(primos, 20 )\n",
        "\n",
        "print( semillas )"
      ],
      "metadata": {
        "id": "yDU9RyV4FNhZ",
        "colab": {
          "base_uri": "https://localhost:8080/"
        },
        "outputId": "53405451-fe80-4b59-b485-b1c977b65fc3"
      },
      "execution_count": null,
      "outputs": [
        {
          "output_type": "stream",
          "name": "stdout",
          "text": [
            " [1] 378821 964333 187049 205151 813697 344719 127217 464371 645137 480803\n",
            "[11] 723319 314641 791599 937577 685649 619363 390539 465887 619657 195737\n"
          ]
        }
      ]
    },
    {
      "cell_type": "markdown",
      "source": [
        "\n",
        "\n",
        "---\n",
        "\n"
      ],
      "metadata": {
        "id": "eD_cO5VTGGea"
      }
    },
    {
      "cell_type": "code",
      "source": [],
      "metadata": {
        "id": "k-rgoA2ZFll4"
      },
      "execution_count": null,
      "outputs": []
    },
    {
      "cell_type": "markdown",
      "source": [
        "# 4  Medición  50-Monte Carlo Cross Validation\n",
        "## Clase 02  Experimento 4"
      ],
      "metadata": {
        "id": "cZi29THsGil_"
      }
    },
    {
      "cell_type": "markdown",
      "source": [
        "## 4.1  Objetivos\n",
        "Calcular la ganancia del modelo utilizando 50 semillas nuevas generadas a partir de mi semilla primigenia."
      ],
      "metadata": {
        "id": "qFNq6ntVGimN"
      }
    },
    {
      "cell_type": "markdown",
      "source": [
        "## 4.4 Codigo  50 Montecarlo"
      ],
      "metadata": {
        "id": "B6KtuhQCGimP"
      }
    },
    {
      "cell_type": "markdown",
      "source": [
        "Esta parte se debe correr con el runtime en lenguaje **R** Ir al menu, Runtime -> Change Runtime Tipe -> Runtime type -> R"
      ],
      "metadata": {
        "id": "LgGgjPQuGimP"
      }
    },
    {
      "cell_type": "markdown",
      "source": [
        "Este punto demora en correr 60 minutos en Google Colab, con lo cual para continuar con el punto siguiente deberá abrir un nuevo Colab"
      ],
      "metadata": {
        "id": "E82ChuO25OYx"
      }
    },
    {
      "cell_type": "markdown",
      "source": [
        "limpio el ambiente de R"
      ],
      "metadata": {
        "id": "a6AxqLwOGimQ"
      }
    },
    {
      "cell_type": "code",
      "source": [
        "# limpio la memoria\n",
        "rm(list=ls(all.names=TRUE)) # remove all objects\n",
        "gc(full=TRUE, verbose=FALSE) # garbage collection"
      ],
      "metadata": {
        "id": "797Ad0_QGimQ",
        "colab": {
          "base_uri": "https://localhost:8080/",
          "height": 129
        },
        "outputId": "e65f296f-e90b-40fe-8c9b-e75a9b29f9c6"
      },
      "execution_count": null,
      "outputs": [
        {
          "output_type": "display_data",
          "data": {
            "text/html": [
              "<table class=\"dataframe\">\n",
              "<caption>A matrix: 2 × 6 of type dbl</caption>\n",
              "<thead>\n",
              "\t<tr><th></th><th scope=col>used</th><th scope=col>(Mb)</th><th scope=col>gc trigger</th><th scope=col>(Mb)</th><th scope=col>max used</th><th scope=col>(Mb)</th></tr>\n",
              "</thead>\n",
              "<tbody>\n",
              "\t<tr><th scope=row>Ncells</th><td> 831136</td><td>44.4</td><td> 1454451</td><td> 77.7</td><td>  1454451</td><td> 77.7</td></tr>\n",
              "\t<tr><th scope=row>Vcells</th><td>1562004</td><td>12.0</td><td>65248830</td><td>497.9</td><td>122419475</td><td>934.0</td></tr>\n",
              "</tbody>\n",
              "</table>\n"
            ],
            "text/markdown": "\nA matrix: 2 × 6 of type dbl\n\n| <!--/--> | used | (Mb) | gc trigger | (Mb) | max used | (Mb) |\n|---|---|---|---|---|---|---|\n| Ncells |  831136 | 44.4 |  1454451 |  77.7 |   1454451 |  77.7 |\n| Vcells | 1562004 | 12.0 | 65248830 | 497.9 | 122419475 | 934.0 |\n\n",
            "text/latex": "A matrix: 2 × 6 of type dbl\n\\begin{tabular}{r|llllll}\n  & used & (Mb) & gc trigger & (Mb) & max used & (Mb)\\\\\n\\hline\n\tNcells &  831136 & 44.4 &  1454451 &  77.7 &   1454451 &  77.7\\\\\n\tVcells & 1562004 & 12.0 & 65248830 & 497.9 & 122419475 & 934.0\\\\\n\\end{tabular}\n",
            "text/plain": [
              "       used    (Mb) gc trigger (Mb)  max used  (Mb) \n",
              "Ncells  831136 44.4  1454451    77.7   1454451  77.7\n",
              "Vcells 1562004 12.0 65248830   497.9 122419475 934.0"
            ]
          },
          "metadata": {}
        }
      ]
    },
    {
      "cell_type": "markdown",
      "source": [
        "* Instalacion de la libreria  rpart.plot  para dibujar el arbol\n",
        "* invocacion de las librerias  **data.table** y  **rpart**"
      ],
      "metadata": {
        "id": "v0CepvbjGimQ"
      }
    },
    {
      "cell_type": "code",
      "source": [
        "# cargo las librerias que necesito\n",
        "require(\"data.table\")\n",
        "require(\"rpart\")\n",
        "require(\"parallel\")\n",
        "\n",
        "if (!require(\"primes\")) install.packages(\"primes\")\n",
        "require(\"primes\")"
      ],
      "metadata": {
        "id": "CRkZ1V2_GimR"
      },
      "execution_count": null,
      "outputs": []
    },
    {
      "cell_type": "markdown",
      "source": [
        "###  Accion a Realizar\n",
        "PARAM$semilla_primigenia  debe reemplazarse por SU primer semilla"
      ],
      "metadata": {
        "id": "PZKJG-nSGimR"
      }
    },
    {
      "cell_type": "code",
      "source": [
        "PARAM <- list()\n",
        "PARAM$semilla_primigenia <- 100109\n",
        "PARAM$qsemillas <- 50\n",
        "PARAM$training_pct <- 70L  # entre  1L y 99L\n",
        "\n",
        "PARAM$rpart <- list (\n",
        "  \"cp\" = -1, # complejidad minima\n",
        "  \"minsplit\" = 170, # minima cantidad de regs en un nodo para hacer el split\n",
        "  \"minbucket\" = 70, # minima cantidad de regs en una hoja\n",
        "  \"maxdepth\" = 7 # profundidad máxima del arbol\n",
        ")\n"
      ],
      "metadata": {
        "id": "4kbkA-2HGimR"
      },
      "execution_count": null,
      "outputs": []
    },
    {
      "cell_type": "code",
      "source": [
        "# particionar agrega una columna llamada fold a un dataset\n",
        "#  que consiste en una particion estratificada segun agrupa\n",
        "\n",
        "# particionar( data=dataset, division=c(70,30),\n",
        "#  agrupa=clase_ternaria, seed=semilla)   crea una particion 70, 30\n",
        "\n",
        "particionar <- function(\n",
        "    data, division, agrupa = \"\",\n",
        "    campo = \"fold\", start = 1, seed = NA) {\n",
        "  if (!is.na(seed)) set.seed(seed)\n",
        "\n",
        "  bloque <- unlist(mapply(function(x, y) {\n",
        "    rep(y, x)\n",
        "  }, division, seq(from = start, length.out = length(division))))\n",
        "\n",
        "  data[, (campo) := sample(rep(bloque, ceiling(.N / length(bloque))))[1:.N],\n",
        "    by = agrupa\n",
        "  ]\n",
        "}\n"
      ],
      "metadata": {
        "id": "HME0qUeOGimS"
      },
      "execution_count": null,
      "outputs": []
    },
    {
      "cell_type": "code",
      "source": [
        "\n",
        "ArbolEstimarGanancia <- function(semilla, param_basicos) {\n",
        "  # particiono estratificadamente el dataset\n",
        "  particionar(dataset,\n",
        "    division = c(param_basicos$training_pct, 100L -param_basicos$training_pct),\n",
        "    agrupa = \"clase_ternaria\",\n",
        "    seed = semilla # aqui se usa SU semilla\n",
        "  )\n",
        "\n",
        "  # genero el modelo\n",
        "  # predecir clase_ternaria a partir del resto\n",
        "  modelo <- rpart(\"clase_ternaria ~ .\",\n",
        "    data = dataset[fold == 1], # fold==1  es training,  el 70% de los datos\n",
        "    xval = 0,\n",
        "    control = param_basicos$rpart\n",
        "  ) # aqui van los parametros del arbol\n",
        "\n",
        "  # aplico el modelo a los datos de testing\n",
        "  prediccion <- predict(modelo, # el modelo que genere recien\n",
        "    dataset[fold == 2], # fold==2  es testing, el 30% de los datos\n",
        "    type = \"prob\"\n",
        "  ) # type= \"prob\"  es que devuelva la probabilidad\n",
        "\n",
        "  # prediccion es una matriz con TRES columnas,\n",
        "  #  llamadas \"BAJA+1\", \"BAJA+2\"  y \"CONTINUA\"\n",
        "  # cada columna es el vector de probabilidades\n",
        "\n",
        "\n",
        "  # calculo la ganancia en testing  qu es fold==2\n",
        "  ganancia_test <- dataset[\n",
        "    fold == 2,\n",
        "    sum(ifelse(prediccion[, \"BAJA+2\"] > 0.025,\n",
        "      ifelse(clase_ternaria == \"BAJA+2\", 117000, -3000),\n",
        "      0\n",
        "    ))\n",
        "  ]\n",
        "\n",
        "  # escalo la ganancia como si fuera todo el dataset\n",
        "  ganancia_test_normalizada <- ganancia_test / (( 100 - PARAM$training_pct ) / 100 )\n",
        "\n",
        "  return(list(\n",
        "    \"semilla\" = semilla,\n",
        "    \"testing\" = dataset[fold == 2, .N],\n",
        "    \"testing_pos\" = dataset[fold == 2 & clase_ternaria == \"BAJA+2\", .N],\n",
        "    \"envios\" = dataset[fold == 2, sum(prediccion[, \"BAJA+2\"] > 0.025)],\n",
        "    \"aciertos\" = dataset[\n",
        "        fold == 2,\n",
        "        sum(prediccion[, \"BAJA+2\"] > 0.025 & clase_ternaria == \"BAJA+2\")\n",
        "    ],\n",
        "    \"ganancia_test\" = ganancia_test_normalizada\n",
        "  ))\n",
        "}\n"
      ],
      "metadata": {
        "id": "ro9Ufoi-GimS"
      },
      "execution_count": null,
      "outputs": []
    },
    {
      "cell_type": "code",
      "source": [
        "# carpeta de trabajo\n",
        "setwd(\"/content/buckets/b1/exp\")\n",
        "experimento <- \"exp204\"\n",
        "dir.create(experimento, showWarnings=FALSE)\n",
        "setwd( paste0(\"/content/buckets/b1/exp/\", experimento ))"
      ],
      "metadata": {
        "id": "gz7LgltwGimT"
      },
      "execution_count": null,
      "outputs": []
    },
    {
      "cell_type": "code",
      "source": [
        "# lectura del dataset\n",
        "dataset <- fread(\"/content/datasets/dataset_pequeno.csv\")\n",
        "\n",
        "# trabajo solo con los datos con clase, es decir 202107\n",
        "dataset <- dataset[clase_ternaria != \"\"]"
      ],
      "metadata": {
        "id": "xRXKHeLeGimT"
      },
      "execution_count": null,
      "outputs": []
    },
    {
      "cell_type": "code",
      "source": [
        "# genero numeros primos\n",
        "primos <- generate_primes(min = 100000, max = 1000000)\n",
        "set.seed(PARAM$semilla_primigenia) # inicializo\n",
        "\n",
        "# me quedo con PARAM$qsemillas   semillas\n",
        "PARAM$semillas <- sample(primos, PARAM$qsemillas )"
      ],
      "metadata": {
        "id": "MdpZ10qiHSZy"
      },
      "execution_count": null,
      "outputs": []
    },
    {
      "cell_type": "code",
      "source": [
        "\n",
        "# la funcion mcmapply  llama a la funcion ArbolEstimarGanancia\n",
        "#  tantas veces como valores tenga el vector  PARAM$semillas\n",
        "salidas <- mcmapply(ArbolEstimarGanancia,\n",
        "  PARAM$semillas, # paso el vector de semillas\n",
        "  MoreArgs = list(PARAM), # aqui paso el segundo parametro\n",
        "  SIMPLIFY = FALSE,\n",
        "  mc.cores = detectCores()\n",
        ")\n",
        "\n",
        "# muestro la lista de las salidas en testing\n",
        "#  para la particion realizada con cada semilla\n",
        "salidas\n"
      ],
      "metadata": {
        "id": "r-YaawpgGimU",
        "colab": {
          "base_uri": "https://localhost:8080/",
          "height": 1000
        },
        "outputId": "1c3035cf-f6c2-4701-bb2b-f5ff7f6c71c9"
      },
      "execution_count": null,
      "outputs": [
        {
          "output_type": "display_data",
          "data": {
            "text/html": [
              "<ol>\n",
              "\t<li><dl>\n",
              "\t<dt>$semilla</dt>\n",
              "\t\t<dd>414643</dd>\n",
              "\t<dt>$testing</dt>\n",
              "\t\t<dd>49384</dd>\n",
              "\t<dt>$testing_pos</dt>\n",
              "\t\t<dd>374</dd>\n",
              "\t<dt>$envios</dt>\n",
              "\t\t<dd>3152</dd>\n",
              "\t<dt>$aciertos</dt>\n",
              "\t\t<dd>197</dd>\n",
              "\t<dt>$ganancia_test</dt>\n",
              "\t\t<dd>47280000</dd>\n",
              "</dl>\n",
              "</li>\n",
              "\t<li><dl>\n",
              "\t<dt>$semilla</dt>\n",
              "\t\t<dd>143401</dd>\n",
              "\t<dt>$testing</dt>\n",
              "\t\t<dd>49379</dd>\n",
              "\t<dt>$testing_pos</dt>\n",
              "\t\t<dd>375</dd>\n",
              "\t<dt>$envios</dt>\n",
              "\t\t<dd>3065</dd>\n",
              "\t<dt>$aciertos</dt>\n",
              "\t\t<dd>191</dd>\n",
              "\t<dt>$ganancia_test</dt>\n",
              "\t\t<dd>45750000</dd>\n",
              "</dl>\n",
              "</li>\n",
              "\t<li><dl>\n",
              "\t<dt>$semilla</dt>\n",
              "\t\t<dd>488827</dd>\n",
              "\t<dt>$testing</dt>\n",
              "\t\t<dd>49369</dd>\n",
              "\t<dt>$testing_pos</dt>\n",
              "\t\t<dd>371</dd>\n",
              "\t<dt>$envios</dt>\n",
              "\t\t<dd>2714</dd>\n",
              "\t<dt>$aciertos</dt>\n",
              "\t\t<dd>181</dd>\n",
              "\t<dt>$ganancia_test</dt>\n",
              "\t\t<dd>45260000</dd>\n",
              "</dl>\n",
              "</li>\n",
              "\t<li><dl>\n",
              "\t<dt>$semilla</dt>\n",
              "\t\t<dd>317197</dd>\n",
              "\t<dt>$testing</dt>\n",
              "\t\t<dd>49385</dd>\n",
              "\t<dt>$testing_pos</dt>\n",
              "\t\t<dd>376</dd>\n",
              "\t<dt>$envios</dt>\n",
              "\t\t<dd>3410</dd>\n",
              "\t<dt>$aciertos</dt>\n",
              "\t\t<dd>202</dd>\n",
              "\t<dt>$ganancia_test</dt>\n",
              "\t\t<dd>46700000</dd>\n",
              "</dl>\n",
              "</li>\n",
              "\t<li><dl>\n",
              "\t<dt>$semilla</dt>\n",
              "\t\t<dd>392383</dd>\n",
              "\t<dt>$testing</dt>\n",
              "\t\t<dd>49375</dd>\n",
              "\t<dt>$testing_pos</dt>\n",
              "\t\t<dd>370</dd>\n",
              "\t<dt>$envios</dt>\n",
              "\t\t<dd>4022</dd>\n",
              "\t<dt>$aciertos</dt>\n",
              "\t\t<dd>213</dd>\n",
              "\t<dt>$ganancia_test</dt>\n",
              "\t\t<dd>44980000</dd>\n",
              "</dl>\n",
              "</li>\n",
              "\t<li><dl>\n",
              "\t<dt>$semilla</dt>\n",
              "\t\t<dd>517151</dd>\n",
              "\t<dt>$testing</dt>\n",
              "\t\t<dd>49379</dd>\n",
              "\t<dt>$testing_pos</dt>\n",
              "\t\t<dd>377</dd>\n",
              "\t<dt>$envios</dt>\n",
              "\t\t<dd>3885</dd>\n",
              "\t<dt>$aciertos</dt>\n",
              "\t\t<dd>215</dd>\n",
              "\t<dt>$ganancia_test</dt>\n",
              "\t\t<dd>47150000</dd>\n",
              "</dl>\n",
              "</li>\n",
              "\t<li><dl>\n",
              "\t<dt>$semilla</dt>\n",
              "\t\t<dd>904879</dd>\n",
              "\t<dt>$testing</dt>\n",
              "\t\t<dd>49380</dd>\n",
              "\t<dt>$testing_pos</dt>\n",
              "\t\t<dd>378</dd>\n",
              "\t<dt>$envios</dt>\n",
              "\t\t<dd>3594</dd>\n",
              "\t<dt>$aciertos</dt>\n",
              "\t\t<dd>207</dd>\n",
              "\t<dt>$ganancia_test</dt>\n",
              "\t\t<dd>46860000</dd>\n",
              "</dl>\n",
              "</li>\n",
              "\t<li><dl>\n",
              "\t<dt>$semilla</dt>\n",
              "\t\t<dd>934039</dd>\n",
              "\t<dt>$testing</dt>\n",
              "\t\t<dd>49375</dd>\n",
              "\t<dt>$testing_pos</dt>\n",
              "\t\t<dd>373</dd>\n",
              "\t<dt>$envios</dt>\n",
              "\t\t<dd>3571</dd>\n",
              "\t<dt>$aciertos</dt>\n",
              "\t\t<dd>218</dd>\n",
              "\t<dt>$ganancia_test</dt>\n",
              "\t\t<dd>51490000</dd>\n",
              "</dl>\n",
              "</li>\n",
              "\t<li><dl>\n",
              "\t<dt>$semilla</dt>\n",
              "\t\t<dd>790429</dd>\n",
              "\t<dt>$testing</dt>\n",
              "\t\t<dd>49376</dd>\n",
              "\t<dt>$testing_pos</dt>\n",
              "\t\t<dd>375</dd>\n",
              "\t<dt>$envios</dt>\n",
              "\t\t<dd>3992</dd>\n",
              "\t<dt>$aciertos</dt>\n",
              "\t\t<dd>209</dd>\n",
              "\t<dt>$ganancia_test</dt>\n",
              "\t\t<dd>43680000</dd>\n",
              "</dl>\n",
              "</li>\n",
              "\t<li><dl>\n",
              "\t<dt>$semilla</dt>\n",
              "\t\t<dd>782011</dd>\n",
              "\t<dt>$testing</dt>\n",
              "\t\t<dd>49379</dd>\n",
              "\t<dt>$testing_pos</dt>\n",
              "\t\t<dd>372</dd>\n",
              "\t<dt>$envios</dt>\n",
              "\t\t<dd>3860</dd>\n",
              "\t<dt>$aciertos</dt>\n",
              "\t\t<dd>235</dd>\n",
              "\t<dt>$ganancia_test</dt>\n",
              "\t\t<dd>55400000</dd>\n",
              "</dl>\n",
              "</li>\n",
              "\t<li><dl>\n",
              "\t<dt>$semilla</dt>\n",
              "\t\t<dd>689581</dd>\n",
              "\t<dt>$testing</dt>\n",
              "\t\t<dd>49372</dd>\n",
              "\t<dt>$testing_pos</dt>\n",
              "\t\t<dd>368</dd>\n",
              "\t<dt>$envios</dt>\n",
              "\t\t<dd>2637</dd>\n",
              "\t<dt>$aciertos</dt>\n",
              "\t\t<dd>169</dd>\n",
              "\t<dt>$ganancia_test</dt>\n",
              "\t\t<dd>41230000</dd>\n",
              "</dl>\n",
              "</li>\n",
              "\t<li><dl>\n",
              "\t<dt>$semilla</dt>\n",
              "\t\t<dd>924841</dd>\n",
              "\t<dt>$testing</dt>\n",
              "\t\t<dd>49375</dd>\n",
              "\t<dt>$testing_pos</dt>\n",
              "\t\t<dd>373</dd>\n",
              "\t<dt>$envios</dt>\n",
              "\t\t<dd>3185</dd>\n",
              "\t<dt>$aciertos</dt>\n",
              "\t\t<dd>194</dd>\n",
              "\t<dt>$ganancia_test</dt>\n",
              "\t\t<dd>45750000</dd>\n",
              "</dl>\n",
              "</li>\n",
              "\t<li><dl>\n",
              "\t<dt>$semilla</dt>\n",
              "\t\t<dd>777641</dd>\n",
              "\t<dt>$testing</dt>\n",
              "\t\t<dd>49384</dd>\n",
              "\t<dt>$testing_pos</dt>\n",
              "\t\t<dd>370</dd>\n",
              "\t<dt>$envios</dt>\n",
              "\t\t<dd>3801</dd>\n",
              "\t<dt>$aciertos</dt>\n",
              "\t\t<dd>214</dd>\n",
              "\t<dt>$ganancia_test</dt>\n",
              "\t\t<dd>47590000</dd>\n",
              "</dl>\n",
              "</li>\n",
              "\t<li><dl>\n",
              "\t<dt>$semilla</dt>\n",
              "\t\t<dd>135347</dd>\n",
              "\t<dt>$testing</dt>\n",
              "\t\t<dd>49392</dd>\n",
              "\t<dt>$testing_pos</dt>\n",
              "\t\t<dd>377</dd>\n",
              "\t<dt>$envios</dt>\n",
              "\t\t<dd>3509</dd>\n",
              "\t<dt>$aciertos</dt>\n",
              "\t\t<dd>195</dd>\n",
              "\t<dt>$ganancia_test</dt>\n",
              "\t\t<dd>42910000</dd>\n",
              "</dl>\n",
              "</li>\n",
              "\t<li><dl>\n",
              "\t<dt>$semilla</dt>\n",
              "\t\t<dd>366511</dd>\n",
              "\t<dt>$testing</dt>\n",
              "\t\t<dd>49396</dd>\n",
              "\t<dt>$testing_pos</dt>\n",
              "\t\t<dd>382</dd>\n",
              "\t<dt>$envios</dt>\n",
              "\t\t<dd>3895</dd>\n",
              "\t<dt>$aciertos</dt>\n",
              "\t\t<dd>215</dd>\n",
              "\t<dt>$ganancia_test</dt>\n",
              "\t\t<dd>47050000</dd>\n",
              "</dl>\n",
              "</li>\n",
              "\t<li><dl>\n",
              "\t<dt>$semilla</dt>\n",
              "\t\t<dd>849311</dd>\n",
              "\t<dt>$testing</dt>\n",
              "\t\t<dd>49370</dd>\n",
              "\t<dt>$testing_pos</dt>\n",
              "\t\t<dd>370</dd>\n",
              "\t<dt>$envios</dt>\n",
              "\t\t<dd>3531</dd>\n",
              "\t<dt>$aciertos</dt>\n",
              "\t\t<dd>196</dd>\n",
              "\t<dt>$ganancia_test</dt>\n",
              "\t\t<dd>43090000</dd>\n",
              "</dl>\n",
              "</li>\n",
              "\t<li><dl>\n",
              "\t<dt>$semilla</dt>\n",
              "\t\t<dd>288389</dd>\n",
              "\t<dt>$testing</dt>\n",
              "\t\t<dd>49378</dd>\n",
              "\t<dt>$testing_pos</dt>\n",
              "\t\t<dd>373</dd>\n",
              "\t<dt>$envios</dt>\n",
              "\t\t<dd>3695</dd>\n",
              "\t<dt>$aciertos</dt>\n",
              "\t\t<dd>202</dd>\n",
              "\t<dt>$ganancia_test</dt>\n",
              "\t\t<dd>43850000</dd>\n",
              "</dl>\n",
              "</li>\n",
              "\t<li><dl>\n",
              "\t<dt>$semilla</dt>\n",
              "\t\t<dd>922741</dd>\n",
              "\t<dt>$testing</dt>\n",
              "\t\t<dd>49373</dd>\n",
              "\t<dt>$testing_pos</dt>\n",
              "\t\t<dd>370</dd>\n",
              "\t<dt>$envios</dt>\n",
              "\t\t<dd>3513</dd>\n",
              "\t<dt>$aciertos</dt>\n",
              "\t\t<dd>193</dd>\n",
              "\t<dt>$ganancia_test</dt>\n",
              "\t\t<dd>42070000</dd>\n",
              "</dl>\n",
              "</li>\n",
              "\t<li><dl>\n",
              "\t<dt>$semilla</dt>\n",
              "\t\t<dd>230647</dd>\n",
              "\t<dt>$testing</dt>\n",
              "\t\t<dd>49379</dd>\n",
              "\t<dt>$testing_pos</dt>\n",
              "\t\t<dd>376</dd>\n",
              "\t<dt>$envios</dt>\n",
              "\t\t<dd>2819</dd>\n",
              "\t<dt>$aciertos</dt>\n",
              "\t\t<dd>201</dd>\n",
              "\t<dt>$ganancia_test</dt>\n",
              "\t\t<dd>52210000</dd>\n",
              "</dl>\n",
              "</li>\n",
              "\t<li><dl>\n",
              "\t<dt>$semilla</dt>\n",
              "\t\t<dd>578419</dd>\n",
              "\t<dt>$testing</dt>\n",
              "\t\t<dd>49372</dd>\n",
              "\t<dt>$testing_pos</dt>\n",
              "\t\t<dd>372</dd>\n",
              "\t<dt>$envios</dt>\n",
              "\t\t<dd>3583</dd>\n",
              "\t<dt>$aciertos</dt>\n",
              "\t\t<dd>212</dd>\n",
              "\t<dt>$ganancia_test</dt>\n",
              "\t\t<dd>48970000</dd>\n",
              "</dl>\n",
              "</li>\n",
              "\t<li><dl>\n",
              "\t<dt>$semilla</dt>\n",
              "\t\t<dd>823997</dd>\n",
              "\t<dt>$testing</dt>\n",
              "\t\t<dd>49377</dd>\n",
              "\t<dt>$testing_pos</dt>\n",
              "\t\t<dd>377</dd>\n",
              "\t<dt>$envios</dt>\n",
              "\t\t<dd>3425</dd>\n",
              "\t<dt>$aciertos</dt>\n",
              "\t\t<dd>221</dd>\n",
              "\t<dt>$ganancia_test</dt>\n",
              "\t\t<dd>54150000</dd>\n",
              "</dl>\n",
              "</li>\n",
              "\t<li><dl>\n",
              "\t<dt>$semilla</dt>\n",
              "\t\t<dd>997001</dd>\n",
              "\t<dt>$testing</dt>\n",
              "\t\t<dd>49383</dd>\n",
              "\t<dt>$testing_pos</dt>\n",
              "\t\t<dd>374</dd>\n",
              "\t<dt>$envios</dt>\n",
              "\t\t<dd>3181</dd>\n",
              "\t<dt>$aciertos</dt>\n",
              "\t\t<dd>196</dd>\n",
              "\t<dt>$ganancia_test</dt>\n",
              "\t\t<dd>46590000</dd>\n",
              "</dl>\n",
              "</li>\n",
              "\t<li><dl>\n",
              "\t<dt>$semilla</dt>\n",
              "\t\t<dd>430999</dd>\n",
              "\t<dt>$testing</dt>\n",
              "\t\t<dd>49380</dd>\n",
              "\t<dt>$testing_pos</dt>\n",
              "\t\t<dd>372</dd>\n",
              "\t<dt>$envios</dt>\n",
              "\t\t<dd>2196</dd>\n",
              "\t<dt>$aciertos</dt>\n",
              "\t\t<dd>171</dd>\n",
              "\t<dt>$ganancia_test</dt>\n",
              "\t\t<dd>46440000</dd>\n",
              "</dl>\n",
              "</li>\n",
              "\t<li><dl>\n",
              "\t<dt>$semilla</dt>\n",
              "\t\t<dd>931309</dd>\n",
              "\t<dt>$testing</dt>\n",
              "\t\t<dd>49384</dd>\n",
              "\t<dt>$testing_pos</dt>\n",
              "\t\t<dd>377</dd>\n",
              "\t<dt>$envios</dt>\n",
              "\t\t<dd>2752</dd>\n",
              "\t<dt>$aciertos</dt>\n",
              "\t\t<dd>197</dd>\n",
              "\t<dt>$ganancia_test</dt>\n",
              "\t\t<dd>51280000</dd>\n",
              "</dl>\n",
              "</li>\n",
              "\t<li><dl>\n",
              "\t<dt>$semilla</dt>\n",
              "\t\t<dd>400963</dd>\n",
              "\t<dt>$testing</dt>\n",
              "\t\t<dd>49366</dd>\n",
              "\t<dt>$testing_pos</dt>\n",
              "\t\t<dd>369</dd>\n",
              "\t<dt>$envios</dt>\n",
              "\t\t<dd>3448</dd>\n",
              "\t<dt>$aciertos</dt>\n",
              "\t\t<dd>213</dd>\n",
              "\t<dt>$ganancia_test</dt>\n",
              "\t\t<dd>50720000</dd>\n",
              "</dl>\n",
              "</li>\n",
              "\t<li><dl>\n",
              "\t<dt>$semilla</dt>\n",
              "\t\t<dd>130469</dd>\n",
              "\t<dt>$testing</dt>\n",
              "\t\t<dd>49375</dd>\n",
              "\t<dt>$testing_pos</dt>\n",
              "\t\t<dd>374</dd>\n",
              "\t<dt>$envios</dt>\n",
              "\t\t<dd>3698</dd>\n",
              "\t<dt>$aciertos</dt>\n",
              "\t\t<dd>197</dd>\n",
              "\t<dt>$ganancia_test</dt>\n",
              "\t\t<dd>41820000</dd>\n",
              "</dl>\n",
              "</li>\n",
              "\t<li><dl>\n",
              "\t<dt>$semilla</dt>\n",
              "\t\t<dd>793493</dd>\n",
              "\t<dt>$testing</dt>\n",
              "\t\t<dd>49385</dd>\n",
              "\t<dt>$testing_pos</dt>\n",
              "\t\t<dd>373</dd>\n",
              "\t<dt>$envios</dt>\n",
              "\t\t<dd>3583</dd>\n",
              "\t<dt>$aciertos</dt>\n",
              "\t\t<dd>206</dd>\n",
              "\t<dt>$ganancia_test</dt>\n",
              "\t\t<dd>46570000</dd>\n",
              "</dl>\n",
              "</li>\n",
              "\t<li><dl>\n",
              "\t<dt>$semilla</dt>\n",
              "\t\t<dd>251917</dd>\n",
              "\t<dt>$testing</dt>\n",
              "\t\t<dd>49372</dd>\n",
              "\t<dt>$testing_pos</dt>\n",
              "\t\t<dd>374</dd>\n",
              "\t<dt>$envios</dt>\n",
              "\t\t<dd>3377</dd>\n",
              "\t<dt>$aciertos</dt>\n",
              "\t\t<dd>206</dd>\n",
              "\t<dt>$ganancia_test</dt>\n",
              "\t\t<dd>48630000</dd>\n",
              "</dl>\n",
              "</li>\n",
              "\t<li><dl>\n",
              "\t<dt>$semilla</dt>\n",
              "\t\t<dd>189881</dd>\n",
              "\t<dt>$testing</dt>\n",
              "\t\t<dd>49380</dd>\n",
              "\t<dt>$testing_pos</dt>\n",
              "\t\t<dd>373</dd>\n",
              "\t<dt>$envios</dt>\n",
              "\t\t<dd>2986</dd>\n",
              "\t<dt>$aciertos</dt>\n",
              "\t\t<dd>187</dd>\n",
              "\t<dt>$ganancia_test</dt>\n",
              "\t\t<dd>44940000</dd>\n",
              "</dl>\n",
              "</li>\n",
              "\t<li><dl>\n",
              "\t<dt>$semilla</dt>\n",
              "\t\t<dd>976909</dd>\n",
              "\t<dt>$testing</dt>\n",
              "\t\t<dd>49390</dd>\n",
              "\t<dt>$testing_pos</dt>\n",
              "\t\t<dd>372</dd>\n",
              "\t<dt>$envios</dt>\n",
              "\t\t<dd>3751</dd>\n",
              "\t<dt>$aciertos</dt>\n",
              "\t\t<dd>217</dd>\n",
              "\t<dt>$ganancia_test</dt>\n",
              "\t\t<dd>49290000</dd>\n",
              "</dl>\n",
              "</li>\n",
              "\t<li><dl>\n",
              "\t<dt>$semilla</dt>\n",
              "\t\t<dd>351133</dd>\n",
              "\t<dt>$testing</dt>\n",
              "\t\t<dd>49389</dd>\n",
              "\t<dt>$testing_pos</dt>\n",
              "\t\t<dd>384</dd>\n",
              "\t<dt>$envios</dt>\n",
              "\t\t<dd>3567</dd>\n",
              "\t<dt>$aciertos</dt>\n",
              "\t\t<dd>224</dd>\n",
              "\t<dt>$ganancia_test</dt>\n",
              "\t\t<dd>53930000</dd>\n",
              "</dl>\n",
              "</li>\n",
              "\t<li><dl>\n",
              "\t<dt>$semilla</dt>\n",
              "\t\t<dd>383633</dd>\n",
              "\t<dt>$testing</dt>\n",
              "\t\t<dd>49388</dd>\n",
              "\t<dt>$testing_pos</dt>\n",
              "\t\t<dd>374</dd>\n",
              "\t<dt>$envios</dt>\n",
              "\t\t<dd>3505</dd>\n",
              "\t<dt>$aciertos</dt>\n",
              "\t\t<dd>207</dd>\n",
              "\t<dt>$ganancia_test</dt>\n",
              "\t\t<dd>47750000</dd>\n",
              "</dl>\n",
              "</li>\n",
              "\t<li><dl>\n",
              "\t<dt>$semilla</dt>\n",
              "\t\t<dd>461819</dd>\n",
              "\t<dt>$testing</dt>\n",
              "\t\t<dd>49368</dd>\n",
              "\t<dt>$testing_pos</dt>\n",
              "\t\t<dd>373</dd>\n",
              "\t<dt>$envios</dt>\n",
              "\t\t<dd>3105</dd>\n",
              "\t<dt>$aciertos</dt>\n",
              "\t\t<dd>205</dd>\n",
              "\t<dt>$ganancia_test</dt>\n",
              "\t\t<dd>50950000</dd>\n",
              "</dl>\n",
              "</li>\n",
              "\t<li><dl>\n",
              "\t<dt>$semilla</dt>\n",
              "\t\t<dd>346147</dd>\n",
              "\t<dt>$testing</dt>\n",
              "\t\t<dd>49377</dd>\n",
              "\t<dt>$testing_pos</dt>\n",
              "\t\t<dd>374</dd>\n",
              "\t<dt>$envios</dt>\n",
              "\t\t<dd>4276</dd>\n",
              "\t<dt>$aciertos</dt>\n",
              "\t\t<dd>224</dd>\n",
              "\t<dt>$ganancia_test</dt>\n",
              "\t\t<dd>46840000</dd>\n",
              "</dl>\n",
              "</li>\n",
              "\t<li><dl>\n",
              "\t<dt>$semilla</dt>\n",
              "\t\t<dd>178001</dd>\n",
              "\t<dt>$testing</dt>\n",
              "\t\t<dd>49382</dd>\n",
              "\t<dt>$testing_pos</dt>\n",
              "\t\t<dd>370</dd>\n",
              "\t<dt>$envios</dt>\n",
              "\t\t<dd>3379</dd>\n",
              "\t<dt>$aciertos</dt>\n",
              "\t\t<dd>203</dd>\n",
              "\t<dt>$ganancia_test</dt>\n",
              "\t\t<dd>47410000</dd>\n",
              "</dl>\n",
              "</li>\n",
              "\t<li><dl>\n",
              "\t<dt>$semilla</dt>\n",
              "\t\t<dd>629921</dd>\n",
              "\t<dt>$testing</dt>\n",
              "\t\t<dd>49389</dd>\n",
              "\t<dt>$testing_pos</dt>\n",
              "\t\t<dd>377</dd>\n",
              "\t<dt>$envios</dt>\n",
              "\t\t<dd>3427</dd>\n",
              "\t<dt>$aciertos</dt>\n",
              "\t\t<dd>212</dd>\n",
              "\t<dt>$ganancia_test</dt>\n",
              "\t\t<dd>50530000</dd>\n",
              "</dl>\n",
              "</li>\n",
              "\t<li><dl>\n",
              "\t<dt>$semilla</dt>\n",
              "\t\t<dd>600949</dd>\n",
              "\t<dt>$testing</dt>\n",
              "\t\t<dd>49382</dd>\n",
              "\t<dt>$testing_pos</dt>\n",
              "\t\t<dd>375</dd>\n",
              "\t<dt>$envios</dt>\n",
              "\t\t<dd>2971</dd>\n",
              "\t<dt>$aciertos</dt>\n",
              "\t\t<dd>184</dd>\n",
              "\t<dt>$ganancia_test</dt>\n",
              "\t\t<dd>43890000</dd>\n",
              "</dl>\n",
              "</li>\n",
              "\t<li><dl>\n",
              "\t<dt>$semilla</dt>\n",
              "\t\t<dd>805807</dd>\n",
              "\t<dt>$testing</dt>\n",
              "\t\t<dd>49371</dd>\n",
              "\t<dt>$testing_pos</dt>\n",
              "\t\t<dd>376</dd>\n",
              "\t<dt>$envios</dt>\n",
              "\t\t<dd>4306</dd>\n",
              "\t<dt>$aciertos</dt>\n",
              "\t\t<dd>218</dd>\n",
              "\t<dt>$ganancia_test</dt>\n",
              "\t\t<dd>44140000</dd>\n",
              "</dl>\n",
              "</li>\n",
              "\t<li><dl>\n",
              "\t<dt>$semilla</dt>\n",
              "\t\t<dd>493973</dd>\n",
              "\t<dt>$testing</dt>\n",
              "\t\t<dd>49383</dd>\n",
              "\t<dt>$testing_pos</dt>\n",
              "\t\t<dd>375</dd>\n",
              "\t<dt>$envios</dt>\n",
              "\t\t<dd>4197</dd>\n",
              "\t<dt>$aciertos</dt>\n",
              "\t\t<dd>221</dd>\n",
              "\t<dt>$ganancia_test</dt>\n",
              "\t\t<dd>46430000</dd>\n",
              "</dl>\n",
              "</li>\n",
              "\t<li><dl>\n",
              "\t<dt>$semilla</dt>\n",
              "\t\t<dd>820187</dd>\n",
              "\t<dt>$testing</dt>\n",
              "\t\t<dd>49372</dd>\n",
              "\t<dt>$testing_pos</dt>\n",
              "\t\t<dd>373</dd>\n",
              "\t<dt>$envios</dt>\n",
              "\t\t<dd>2342</dd>\n",
              "\t<dt>$aciertos</dt>\n",
              "\t\t<dd>175</dd>\n",
              "\t<dt>$ganancia_test</dt>\n",
              "\t\t<dd>46580000</dd>\n",
              "</dl>\n",
              "</li>\n",
              "\t<li><dl>\n",
              "\t<dt>$semilla</dt>\n",
              "\t\t<dd>713381</dd>\n",
              "\t<dt>$testing</dt>\n",
              "\t\t<dd>49368</dd>\n",
              "\t<dt>$testing_pos</dt>\n",
              "\t\t<dd>375</dd>\n",
              "\t<dt>$envios</dt>\n",
              "\t\t<dd>3599</dd>\n",
              "\t<dt>$aciertos</dt>\n",
              "\t\t<dd>211</dd>\n",
              "\t<dt>$ganancia_test</dt>\n",
              "\t\t<dd>48410000</dd>\n",
              "</dl>\n",
              "</li>\n",
              "\t<li><dl>\n",
              "\t<dt>$semilla</dt>\n",
              "\t\t<dd>471847</dd>\n",
              "\t<dt>$testing</dt>\n",
              "\t\t<dd>49387</dd>\n",
              "\t<dt>$testing_pos</dt>\n",
              "\t\t<dd>377</dd>\n",
              "\t<dt>$envios</dt>\n",
              "\t\t<dd>3031</dd>\n",
              "\t<dt>$aciertos</dt>\n",
              "\t\t<dd>194</dd>\n",
              "\t<dt>$ganancia_test</dt>\n",
              "\t\t<dd>47290000</dd>\n",
              "</dl>\n",
              "</li>\n",
              "\t<li><dl>\n",
              "\t<dt>$semilla</dt>\n",
              "\t\t<dd>836971</dd>\n",
              "\t<dt>$testing</dt>\n",
              "\t\t<dd>49382</dd>\n",
              "\t<dt>$testing_pos</dt>\n",
              "\t\t<dd>377</dd>\n",
              "\t<dt>$envios</dt>\n",
              "\t\t<dd>3062</dd>\n",
              "\t<dt>$aciertos</dt>\n",
              "\t\t<dd>195</dd>\n",
              "\t<dt>$ganancia_test</dt>\n",
              "\t\t<dd>47380000</dd>\n",
              "</dl>\n",
              "</li>\n",
              "\t<li><dl>\n",
              "\t<dt>$semilla</dt>\n",
              "\t\t<dd>810941</dd>\n",
              "\t<dt>$testing</dt>\n",
              "\t\t<dd>49361</dd>\n",
              "\t<dt>$testing_pos</dt>\n",
              "\t\t<dd>371</dd>\n",
              "\t<dt>$envios</dt>\n",
              "\t\t<dd>4492</dd>\n",
              "\t<dt>$aciertos</dt>\n",
              "\t\t<dd>230</dd>\n",
              "\t<dt>$ganancia_test</dt>\n",
              "\t\t<dd>47080000</dd>\n",
              "</dl>\n",
              "</li>\n",
              "\t<li><dl>\n",
              "\t<dt>$semilla</dt>\n",
              "\t\t<dd>266689</dd>\n",
              "\t<dt>$testing</dt>\n",
              "\t\t<dd>49365</dd>\n",
              "\t<dt>$testing_pos</dt>\n",
              "\t\t<dd>371</dd>\n",
              "\t<dt>$envios</dt>\n",
              "\t\t<dd>3660</dd>\n",
              "\t<dt>$aciertos</dt>\n",
              "\t\t<dd>211</dd>\n",
              "\t<dt>$ganancia_test</dt>\n",
              "\t\t<dd>47800000</dd>\n",
              "</dl>\n",
              "</li>\n",
              "\t<li><dl>\n",
              "\t<dt>$semilla</dt>\n",
              "\t\t<dd>457049</dd>\n",
              "\t<dt>$testing</dt>\n",
              "\t\t<dd>49369</dd>\n",
              "\t<dt>$testing_pos</dt>\n",
              "\t\t<dd>367</dd>\n",
              "\t<dt>$envios</dt>\n",
              "\t\t<dd>3500</dd>\n",
              "\t<dt>$aciertos</dt>\n",
              "\t\t<dd>209</dd>\n",
              "\t<dt>$ganancia_test</dt>\n",
              "\t\t<dd>48600000</dd>\n",
              "</dl>\n",
              "</li>\n",
              "\t<li><dl>\n",
              "\t<dt>$semilla</dt>\n",
              "\t\t<dd>185749</dd>\n",
              "\t<dt>$testing</dt>\n",
              "\t\t<dd>49373</dd>\n",
              "\t<dt>$testing_pos</dt>\n",
              "\t\t<dd>369</dd>\n",
              "\t<dt>$envios</dt>\n",
              "\t\t<dd>2131</dd>\n",
              "\t<dt>$aciertos</dt>\n",
              "\t\t<dd>170</dd>\n",
              "\t<dt>$ganancia_test</dt>\n",
              "\t\t<dd>46690000</dd>\n",
              "</dl>\n",
              "</li>\n",
              "\t<li><dl>\n",
              "\t<dt>$semilla</dt>\n",
              "\t\t<dd>690119</dd>\n",
              "\t<dt>$testing</dt>\n",
              "\t\t<dd>49384</dd>\n",
              "\t<dt>$testing_pos</dt>\n",
              "\t\t<dd>375</dd>\n",
              "\t<dt>$envios</dt>\n",
              "\t\t<dd>3626</dd>\n",
              "\t<dt>$aciertos</dt>\n",
              "\t\t<dd>200</dd>\n",
              "\t<dt>$ganancia_test</dt>\n",
              "\t\t<dd>43740000</dd>\n",
              "</dl>\n",
              "</li>\n",
              "\t<li><dl>\n",
              "\t<dt>$semilla</dt>\n",
              "\t\t<dd>946919</dd>\n",
              "\t<dt>$testing</dt>\n",
              "\t\t<dd>49386</dd>\n",
              "\t<dt>$testing_pos</dt>\n",
              "\t\t<dd>379</dd>\n",
              "\t<dt>$envios</dt>\n",
              "\t\t<dd>3470</dd>\n",
              "\t<dt>$aciertos</dt>\n",
              "\t\t<dd>202</dd>\n",
              "\t<dt>$ganancia_test</dt>\n",
              "\t\t<dd>46100000</dd>\n",
              "</dl>\n",
              "</li>\n",
              "\t<li><dl>\n",
              "\t<dt>$semilla</dt>\n",
              "\t\t<dd>269231</dd>\n",
              "\t<dt>$testing</dt>\n",
              "\t\t<dd>49388</dd>\n",
              "\t<dt>$testing_pos</dt>\n",
              "\t\t<dd>378</dd>\n",
              "\t<dt>$envios</dt>\n",
              "\t\t<dd>4182</dd>\n",
              "\t<dt>$aciertos</dt>\n",
              "\t\t<dd>229</dd>\n",
              "\t<dt>$ganancia_test</dt>\n",
              "\t\t<dd>49780000</dd>\n",
              "</dl>\n",
              "</li>\n",
              "</ol>\n"
            ],
            "text/markdown": "1. $semilla\n:   414643\n$testing\n:   49384\n$testing_pos\n:   374\n$envios\n:   3152\n$aciertos\n:   197\n$ganancia_test\n:   47280000\n\n\n\n2. $semilla\n:   143401\n$testing\n:   49379\n$testing_pos\n:   375\n$envios\n:   3065\n$aciertos\n:   191\n$ganancia_test\n:   45750000\n\n\n\n3. $semilla\n:   488827\n$testing\n:   49369\n$testing_pos\n:   371\n$envios\n:   2714\n$aciertos\n:   181\n$ganancia_test\n:   45260000\n\n\n\n4. $semilla\n:   317197\n$testing\n:   49385\n$testing_pos\n:   376\n$envios\n:   3410\n$aciertos\n:   202\n$ganancia_test\n:   46700000\n\n\n\n5. $semilla\n:   392383\n$testing\n:   49375\n$testing_pos\n:   370\n$envios\n:   4022\n$aciertos\n:   213\n$ganancia_test\n:   44980000\n\n\n\n6. $semilla\n:   517151\n$testing\n:   49379\n$testing_pos\n:   377\n$envios\n:   3885\n$aciertos\n:   215\n$ganancia_test\n:   47150000\n\n\n\n7. $semilla\n:   904879\n$testing\n:   49380\n$testing_pos\n:   378\n$envios\n:   3594\n$aciertos\n:   207\n$ganancia_test\n:   46860000\n\n\n\n8. $semilla\n:   934039\n$testing\n:   49375\n$testing_pos\n:   373\n$envios\n:   3571\n$aciertos\n:   218\n$ganancia_test\n:   51490000\n\n\n\n9. $semilla\n:   790429\n$testing\n:   49376\n$testing_pos\n:   375\n$envios\n:   3992\n$aciertos\n:   209\n$ganancia_test\n:   43680000\n\n\n\n10. $semilla\n:   782011\n$testing\n:   49379\n$testing_pos\n:   372\n$envios\n:   3860\n$aciertos\n:   235\n$ganancia_test\n:   55400000\n\n\n\n11. $semilla\n:   689581\n$testing\n:   49372\n$testing_pos\n:   368\n$envios\n:   2637\n$aciertos\n:   169\n$ganancia_test\n:   41230000\n\n\n\n12. $semilla\n:   924841\n$testing\n:   49375\n$testing_pos\n:   373\n$envios\n:   3185\n$aciertos\n:   194\n$ganancia_test\n:   45750000\n\n\n\n13. $semilla\n:   777641\n$testing\n:   49384\n$testing_pos\n:   370\n$envios\n:   3801\n$aciertos\n:   214\n$ganancia_test\n:   47590000\n\n\n\n14. $semilla\n:   135347\n$testing\n:   49392\n$testing_pos\n:   377\n$envios\n:   3509\n$aciertos\n:   195\n$ganancia_test\n:   42910000\n\n\n\n15. $semilla\n:   366511\n$testing\n:   49396\n$testing_pos\n:   382\n$envios\n:   3895\n$aciertos\n:   215\n$ganancia_test\n:   47050000\n\n\n\n16. $semilla\n:   849311\n$testing\n:   49370\n$testing_pos\n:   370\n$envios\n:   3531\n$aciertos\n:   196\n$ganancia_test\n:   43090000\n\n\n\n17. $semilla\n:   288389\n$testing\n:   49378\n$testing_pos\n:   373\n$envios\n:   3695\n$aciertos\n:   202\n$ganancia_test\n:   43850000\n\n\n\n18. $semilla\n:   922741\n$testing\n:   49373\n$testing_pos\n:   370\n$envios\n:   3513\n$aciertos\n:   193\n$ganancia_test\n:   42070000\n\n\n\n19. $semilla\n:   230647\n$testing\n:   49379\n$testing_pos\n:   376\n$envios\n:   2819\n$aciertos\n:   201\n$ganancia_test\n:   52210000\n\n\n\n20. $semilla\n:   578419\n$testing\n:   49372\n$testing_pos\n:   372\n$envios\n:   3583\n$aciertos\n:   212\n$ganancia_test\n:   48970000\n\n\n\n21. $semilla\n:   823997\n$testing\n:   49377\n$testing_pos\n:   377\n$envios\n:   3425\n$aciertos\n:   221\n$ganancia_test\n:   54150000\n\n\n\n22. $semilla\n:   997001\n$testing\n:   49383\n$testing_pos\n:   374\n$envios\n:   3181\n$aciertos\n:   196\n$ganancia_test\n:   46590000\n\n\n\n23. $semilla\n:   430999\n$testing\n:   49380\n$testing_pos\n:   372\n$envios\n:   2196\n$aciertos\n:   171\n$ganancia_test\n:   46440000\n\n\n\n24. $semilla\n:   931309\n$testing\n:   49384\n$testing_pos\n:   377\n$envios\n:   2752\n$aciertos\n:   197\n$ganancia_test\n:   51280000\n\n\n\n25. $semilla\n:   400963\n$testing\n:   49366\n$testing_pos\n:   369\n$envios\n:   3448\n$aciertos\n:   213\n$ganancia_test\n:   50720000\n\n\n\n26. $semilla\n:   130469\n$testing\n:   49375\n$testing_pos\n:   374\n$envios\n:   3698\n$aciertos\n:   197\n$ganancia_test\n:   41820000\n\n\n\n27. $semilla\n:   793493\n$testing\n:   49385\n$testing_pos\n:   373\n$envios\n:   3583\n$aciertos\n:   206\n$ganancia_test\n:   46570000\n\n\n\n28. $semilla\n:   251917\n$testing\n:   49372\n$testing_pos\n:   374\n$envios\n:   3377\n$aciertos\n:   206\n$ganancia_test\n:   48630000\n\n\n\n29. $semilla\n:   189881\n$testing\n:   49380\n$testing_pos\n:   373\n$envios\n:   2986\n$aciertos\n:   187\n$ganancia_test\n:   44940000\n\n\n\n30. $semilla\n:   976909\n$testing\n:   49390\n$testing_pos\n:   372\n$envios\n:   3751\n$aciertos\n:   217\n$ganancia_test\n:   49290000\n\n\n\n31. $semilla\n:   351133\n$testing\n:   49389\n$testing_pos\n:   384\n$envios\n:   3567\n$aciertos\n:   224\n$ganancia_test\n:   53930000\n\n\n\n32. $semilla\n:   383633\n$testing\n:   49388\n$testing_pos\n:   374\n$envios\n:   3505\n$aciertos\n:   207\n$ganancia_test\n:   47750000\n\n\n\n33. $semilla\n:   461819\n$testing\n:   49368\n$testing_pos\n:   373\n$envios\n:   3105\n$aciertos\n:   205\n$ganancia_test\n:   50950000\n\n\n\n34. $semilla\n:   346147\n$testing\n:   49377\n$testing_pos\n:   374\n$envios\n:   4276\n$aciertos\n:   224\n$ganancia_test\n:   46840000\n\n\n\n35. $semilla\n:   178001\n$testing\n:   49382\n$testing_pos\n:   370\n$envios\n:   3379\n$aciertos\n:   203\n$ganancia_test\n:   47410000\n\n\n\n36. $semilla\n:   629921\n$testing\n:   49389\n$testing_pos\n:   377\n$envios\n:   3427\n$aciertos\n:   212\n$ganancia_test\n:   50530000\n\n\n\n37. $semilla\n:   600949\n$testing\n:   49382\n$testing_pos\n:   375\n$envios\n:   2971\n$aciertos\n:   184\n$ganancia_test\n:   43890000\n\n\n\n38. $semilla\n:   805807\n$testing\n:   49371\n$testing_pos\n:   376\n$envios\n:   4306\n$aciertos\n:   218\n$ganancia_test\n:   44140000\n\n\n\n39. $semilla\n:   493973\n$testing\n:   49383\n$testing_pos\n:   375\n$envios\n:   4197\n$aciertos\n:   221\n$ganancia_test\n:   46430000\n\n\n\n40. $semilla\n:   820187\n$testing\n:   49372\n$testing_pos\n:   373\n$envios\n:   2342\n$aciertos\n:   175\n$ganancia_test\n:   46580000\n\n\n\n41. $semilla\n:   713381\n$testing\n:   49368\n$testing_pos\n:   375\n$envios\n:   3599\n$aciertos\n:   211\n$ganancia_test\n:   48410000\n\n\n\n42. $semilla\n:   471847\n$testing\n:   49387\n$testing_pos\n:   377\n$envios\n:   3031\n$aciertos\n:   194\n$ganancia_test\n:   47290000\n\n\n\n43. $semilla\n:   836971\n$testing\n:   49382\n$testing_pos\n:   377\n$envios\n:   3062\n$aciertos\n:   195\n$ganancia_test\n:   47380000\n\n\n\n44. $semilla\n:   810941\n$testing\n:   49361\n$testing_pos\n:   371\n$envios\n:   4492\n$aciertos\n:   230\n$ganancia_test\n:   47080000\n\n\n\n45. $semilla\n:   266689\n$testing\n:   49365\n$testing_pos\n:   371\n$envios\n:   3660\n$aciertos\n:   211\n$ganancia_test\n:   47800000\n\n\n\n46. $semilla\n:   457049\n$testing\n:   49369\n$testing_pos\n:   367\n$envios\n:   3500\n$aciertos\n:   209\n$ganancia_test\n:   48600000\n\n\n\n47. $semilla\n:   185749\n$testing\n:   49373\n$testing_pos\n:   369\n$envios\n:   2131\n$aciertos\n:   170\n$ganancia_test\n:   46690000\n\n\n\n48. $semilla\n:   690119\n$testing\n:   49384\n$testing_pos\n:   375\n$envios\n:   3626\n$aciertos\n:   200\n$ganancia_test\n:   43740000\n\n\n\n49. $semilla\n:   946919\n$testing\n:   49386\n$testing_pos\n:   379\n$envios\n:   3470\n$aciertos\n:   202\n$ganancia_test\n:   46100000\n\n\n\n50. $semilla\n:   269231\n$testing\n:   49388\n$testing_pos\n:   378\n$envios\n:   4182\n$aciertos\n:   229\n$ganancia_test\n:   49780000\n\n\n\n\n\n",
            "text/latex": "\\begin{enumerate}\n\\item \\begin{description}\n\\item[\\$semilla] 414643\n\\item[\\$testing] 49384\n\\item[\\$testing\\_pos] 374\n\\item[\\$envios] 3152\n\\item[\\$aciertos] 197\n\\item[\\$ganancia\\_test] 47280000\n\\end{description}\n\n\\item \\begin{description}\n\\item[\\$semilla] 143401\n\\item[\\$testing] 49379\n\\item[\\$testing\\_pos] 375\n\\item[\\$envios] 3065\n\\item[\\$aciertos] 191\n\\item[\\$ganancia\\_test] 45750000\n\\end{description}\n\n\\item \\begin{description}\n\\item[\\$semilla] 488827\n\\item[\\$testing] 49369\n\\item[\\$testing\\_pos] 371\n\\item[\\$envios] 2714\n\\item[\\$aciertos] 181\n\\item[\\$ganancia\\_test] 45260000\n\\end{description}\n\n\\item \\begin{description}\n\\item[\\$semilla] 317197\n\\item[\\$testing] 49385\n\\item[\\$testing\\_pos] 376\n\\item[\\$envios] 3410\n\\item[\\$aciertos] 202\n\\item[\\$ganancia\\_test] 46700000\n\\end{description}\n\n\\item \\begin{description}\n\\item[\\$semilla] 392383\n\\item[\\$testing] 49375\n\\item[\\$testing\\_pos] 370\n\\item[\\$envios] 4022\n\\item[\\$aciertos] 213\n\\item[\\$ganancia\\_test] 44980000\n\\end{description}\n\n\\item \\begin{description}\n\\item[\\$semilla] 517151\n\\item[\\$testing] 49379\n\\item[\\$testing\\_pos] 377\n\\item[\\$envios] 3885\n\\item[\\$aciertos] 215\n\\item[\\$ganancia\\_test] 47150000\n\\end{description}\n\n\\item \\begin{description}\n\\item[\\$semilla] 904879\n\\item[\\$testing] 49380\n\\item[\\$testing\\_pos] 378\n\\item[\\$envios] 3594\n\\item[\\$aciertos] 207\n\\item[\\$ganancia\\_test] 46860000\n\\end{description}\n\n\\item \\begin{description}\n\\item[\\$semilla] 934039\n\\item[\\$testing] 49375\n\\item[\\$testing\\_pos] 373\n\\item[\\$envios] 3571\n\\item[\\$aciertos] 218\n\\item[\\$ganancia\\_test] 51490000\n\\end{description}\n\n\\item \\begin{description}\n\\item[\\$semilla] 790429\n\\item[\\$testing] 49376\n\\item[\\$testing\\_pos] 375\n\\item[\\$envios] 3992\n\\item[\\$aciertos] 209\n\\item[\\$ganancia\\_test] 43680000\n\\end{description}\n\n\\item \\begin{description}\n\\item[\\$semilla] 782011\n\\item[\\$testing] 49379\n\\item[\\$testing\\_pos] 372\n\\item[\\$envios] 3860\n\\item[\\$aciertos] 235\n\\item[\\$ganancia\\_test] 55400000\n\\end{description}\n\n\\item \\begin{description}\n\\item[\\$semilla] 689581\n\\item[\\$testing] 49372\n\\item[\\$testing\\_pos] 368\n\\item[\\$envios] 2637\n\\item[\\$aciertos] 169\n\\item[\\$ganancia\\_test] 41230000\n\\end{description}\n\n\\item \\begin{description}\n\\item[\\$semilla] 924841\n\\item[\\$testing] 49375\n\\item[\\$testing\\_pos] 373\n\\item[\\$envios] 3185\n\\item[\\$aciertos] 194\n\\item[\\$ganancia\\_test] 45750000\n\\end{description}\n\n\\item \\begin{description}\n\\item[\\$semilla] 777641\n\\item[\\$testing] 49384\n\\item[\\$testing\\_pos] 370\n\\item[\\$envios] 3801\n\\item[\\$aciertos] 214\n\\item[\\$ganancia\\_test] 47590000\n\\end{description}\n\n\\item \\begin{description}\n\\item[\\$semilla] 135347\n\\item[\\$testing] 49392\n\\item[\\$testing\\_pos] 377\n\\item[\\$envios] 3509\n\\item[\\$aciertos] 195\n\\item[\\$ganancia\\_test] 42910000\n\\end{description}\n\n\\item \\begin{description}\n\\item[\\$semilla] 366511\n\\item[\\$testing] 49396\n\\item[\\$testing\\_pos] 382\n\\item[\\$envios] 3895\n\\item[\\$aciertos] 215\n\\item[\\$ganancia\\_test] 47050000\n\\end{description}\n\n\\item \\begin{description}\n\\item[\\$semilla] 849311\n\\item[\\$testing] 49370\n\\item[\\$testing\\_pos] 370\n\\item[\\$envios] 3531\n\\item[\\$aciertos] 196\n\\item[\\$ganancia\\_test] 43090000\n\\end{description}\n\n\\item \\begin{description}\n\\item[\\$semilla] 288389\n\\item[\\$testing] 49378\n\\item[\\$testing\\_pos] 373\n\\item[\\$envios] 3695\n\\item[\\$aciertos] 202\n\\item[\\$ganancia\\_test] 43850000\n\\end{description}\n\n\\item \\begin{description}\n\\item[\\$semilla] 922741\n\\item[\\$testing] 49373\n\\item[\\$testing\\_pos] 370\n\\item[\\$envios] 3513\n\\item[\\$aciertos] 193\n\\item[\\$ganancia\\_test] 42070000\n\\end{description}\n\n\\item \\begin{description}\n\\item[\\$semilla] 230647\n\\item[\\$testing] 49379\n\\item[\\$testing\\_pos] 376\n\\item[\\$envios] 2819\n\\item[\\$aciertos] 201\n\\item[\\$ganancia\\_test] 52210000\n\\end{description}\n\n\\item \\begin{description}\n\\item[\\$semilla] 578419\n\\item[\\$testing] 49372\n\\item[\\$testing\\_pos] 372\n\\item[\\$envios] 3583\n\\item[\\$aciertos] 212\n\\item[\\$ganancia\\_test] 48970000\n\\end{description}\n\n\\item \\begin{description}\n\\item[\\$semilla] 823997\n\\item[\\$testing] 49377\n\\item[\\$testing\\_pos] 377\n\\item[\\$envios] 3425\n\\item[\\$aciertos] 221\n\\item[\\$ganancia\\_test] 54150000\n\\end{description}\n\n\\item \\begin{description}\n\\item[\\$semilla] 997001\n\\item[\\$testing] 49383\n\\item[\\$testing\\_pos] 374\n\\item[\\$envios] 3181\n\\item[\\$aciertos] 196\n\\item[\\$ganancia\\_test] 46590000\n\\end{description}\n\n\\item \\begin{description}\n\\item[\\$semilla] 430999\n\\item[\\$testing] 49380\n\\item[\\$testing\\_pos] 372\n\\item[\\$envios] 2196\n\\item[\\$aciertos] 171\n\\item[\\$ganancia\\_test] 46440000\n\\end{description}\n\n\\item \\begin{description}\n\\item[\\$semilla] 931309\n\\item[\\$testing] 49384\n\\item[\\$testing\\_pos] 377\n\\item[\\$envios] 2752\n\\item[\\$aciertos] 197\n\\item[\\$ganancia\\_test] 51280000\n\\end{description}\n\n\\item \\begin{description}\n\\item[\\$semilla] 400963\n\\item[\\$testing] 49366\n\\item[\\$testing\\_pos] 369\n\\item[\\$envios] 3448\n\\item[\\$aciertos] 213\n\\item[\\$ganancia\\_test] 50720000\n\\end{description}\n\n\\item \\begin{description}\n\\item[\\$semilla] 130469\n\\item[\\$testing] 49375\n\\item[\\$testing\\_pos] 374\n\\item[\\$envios] 3698\n\\item[\\$aciertos] 197\n\\item[\\$ganancia\\_test] 41820000\n\\end{description}\n\n\\item \\begin{description}\n\\item[\\$semilla] 793493\n\\item[\\$testing] 49385\n\\item[\\$testing\\_pos] 373\n\\item[\\$envios] 3583\n\\item[\\$aciertos] 206\n\\item[\\$ganancia\\_test] 46570000\n\\end{description}\n\n\\item \\begin{description}\n\\item[\\$semilla] 251917\n\\item[\\$testing] 49372\n\\item[\\$testing\\_pos] 374\n\\item[\\$envios] 3377\n\\item[\\$aciertos] 206\n\\item[\\$ganancia\\_test] 48630000\n\\end{description}\n\n\\item \\begin{description}\n\\item[\\$semilla] 189881\n\\item[\\$testing] 49380\n\\item[\\$testing\\_pos] 373\n\\item[\\$envios] 2986\n\\item[\\$aciertos] 187\n\\item[\\$ganancia\\_test] 44940000\n\\end{description}\n\n\\item \\begin{description}\n\\item[\\$semilla] 976909\n\\item[\\$testing] 49390\n\\item[\\$testing\\_pos] 372\n\\item[\\$envios] 3751\n\\item[\\$aciertos] 217\n\\item[\\$ganancia\\_test] 49290000\n\\end{description}\n\n\\item \\begin{description}\n\\item[\\$semilla] 351133\n\\item[\\$testing] 49389\n\\item[\\$testing\\_pos] 384\n\\item[\\$envios] 3567\n\\item[\\$aciertos] 224\n\\item[\\$ganancia\\_test] 53930000\n\\end{description}\n\n\\item \\begin{description}\n\\item[\\$semilla] 383633\n\\item[\\$testing] 49388\n\\item[\\$testing\\_pos] 374\n\\item[\\$envios] 3505\n\\item[\\$aciertos] 207\n\\item[\\$ganancia\\_test] 47750000\n\\end{description}\n\n\\item \\begin{description}\n\\item[\\$semilla] 461819\n\\item[\\$testing] 49368\n\\item[\\$testing\\_pos] 373\n\\item[\\$envios] 3105\n\\item[\\$aciertos] 205\n\\item[\\$ganancia\\_test] 50950000\n\\end{description}\n\n\\item \\begin{description}\n\\item[\\$semilla] 346147\n\\item[\\$testing] 49377\n\\item[\\$testing\\_pos] 374\n\\item[\\$envios] 4276\n\\item[\\$aciertos] 224\n\\item[\\$ganancia\\_test] 46840000\n\\end{description}\n\n\\item \\begin{description}\n\\item[\\$semilla] 178001\n\\item[\\$testing] 49382\n\\item[\\$testing\\_pos] 370\n\\item[\\$envios] 3379\n\\item[\\$aciertos] 203\n\\item[\\$ganancia\\_test] 47410000\n\\end{description}\n\n\\item \\begin{description}\n\\item[\\$semilla] 629921\n\\item[\\$testing] 49389\n\\item[\\$testing\\_pos] 377\n\\item[\\$envios] 3427\n\\item[\\$aciertos] 212\n\\item[\\$ganancia\\_test] 50530000\n\\end{description}\n\n\\item \\begin{description}\n\\item[\\$semilla] 600949\n\\item[\\$testing] 49382\n\\item[\\$testing\\_pos] 375\n\\item[\\$envios] 2971\n\\item[\\$aciertos] 184\n\\item[\\$ganancia\\_test] 43890000\n\\end{description}\n\n\\item \\begin{description}\n\\item[\\$semilla] 805807\n\\item[\\$testing] 49371\n\\item[\\$testing\\_pos] 376\n\\item[\\$envios] 4306\n\\item[\\$aciertos] 218\n\\item[\\$ganancia\\_test] 44140000\n\\end{description}\n\n\\item \\begin{description}\n\\item[\\$semilla] 493973\n\\item[\\$testing] 49383\n\\item[\\$testing\\_pos] 375\n\\item[\\$envios] 4197\n\\item[\\$aciertos] 221\n\\item[\\$ganancia\\_test] 46430000\n\\end{description}\n\n\\item \\begin{description}\n\\item[\\$semilla] 820187\n\\item[\\$testing] 49372\n\\item[\\$testing\\_pos] 373\n\\item[\\$envios] 2342\n\\item[\\$aciertos] 175\n\\item[\\$ganancia\\_test] 46580000\n\\end{description}\n\n\\item \\begin{description}\n\\item[\\$semilla] 713381\n\\item[\\$testing] 49368\n\\item[\\$testing\\_pos] 375\n\\item[\\$envios] 3599\n\\item[\\$aciertos] 211\n\\item[\\$ganancia\\_test] 48410000\n\\end{description}\n\n\\item \\begin{description}\n\\item[\\$semilla] 471847\n\\item[\\$testing] 49387\n\\item[\\$testing\\_pos] 377\n\\item[\\$envios] 3031\n\\item[\\$aciertos] 194\n\\item[\\$ganancia\\_test] 47290000\n\\end{description}\n\n\\item \\begin{description}\n\\item[\\$semilla] 836971\n\\item[\\$testing] 49382\n\\item[\\$testing\\_pos] 377\n\\item[\\$envios] 3062\n\\item[\\$aciertos] 195\n\\item[\\$ganancia\\_test] 47380000\n\\end{description}\n\n\\item \\begin{description}\n\\item[\\$semilla] 810941\n\\item[\\$testing] 49361\n\\item[\\$testing\\_pos] 371\n\\item[\\$envios] 4492\n\\item[\\$aciertos] 230\n\\item[\\$ganancia\\_test] 47080000\n\\end{description}\n\n\\item \\begin{description}\n\\item[\\$semilla] 266689\n\\item[\\$testing] 49365\n\\item[\\$testing\\_pos] 371\n\\item[\\$envios] 3660\n\\item[\\$aciertos] 211\n\\item[\\$ganancia\\_test] 47800000\n\\end{description}\n\n\\item \\begin{description}\n\\item[\\$semilla] 457049\n\\item[\\$testing] 49369\n\\item[\\$testing\\_pos] 367\n\\item[\\$envios] 3500\n\\item[\\$aciertos] 209\n\\item[\\$ganancia\\_test] 48600000\n\\end{description}\n\n\\item \\begin{description}\n\\item[\\$semilla] 185749\n\\item[\\$testing] 49373\n\\item[\\$testing\\_pos] 369\n\\item[\\$envios] 2131\n\\item[\\$aciertos] 170\n\\item[\\$ganancia\\_test] 46690000\n\\end{description}\n\n\\item \\begin{description}\n\\item[\\$semilla] 690119\n\\item[\\$testing] 49384\n\\item[\\$testing\\_pos] 375\n\\item[\\$envios] 3626\n\\item[\\$aciertos] 200\n\\item[\\$ganancia\\_test] 43740000\n\\end{description}\n\n\\item \\begin{description}\n\\item[\\$semilla] 946919\n\\item[\\$testing] 49386\n\\item[\\$testing\\_pos] 379\n\\item[\\$envios] 3470\n\\item[\\$aciertos] 202\n\\item[\\$ganancia\\_test] 46100000\n\\end{description}\n\n\\item \\begin{description}\n\\item[\\$semilla] 269231\n\\item[\\$testing] 49388\n\\item[\\$testing\\_pos] 378\n\\item[\\$envios] 4182\n\\item[\\$aciertos] 229\n\\item[\\$ganancia\\_test] 49780000\n\\end{description}\n\n\\end{enumerate}\n",
            "text/plain": [
              "[[1]]\n",
              "[[1]]$semilla\n",
              "[1] 414643\n",
              "\n",
              "[[1]]$testing\n",
              "[1] 49384\n",
              "\n",
              "[[1]]$testing_pos\n",
              "[1] 374\n",
              "\n",
              "[[1]]$envios\n",
              "[1] 3152\n",
              "\n",
              "[[1]]$aciertos\n",
              "[1] 197\n",
              "\n",
              "[[1]]$ganancia_test\n",
              "[1] 47280000\n",
              "\n",
              "\n",
              "[[2]]\n",
              "[[2]]$semilla\n",
              "[1] 143401\n",
              "\n",
              "[[2]]$testing\n",
              "[1] 49379\n",
              "\n",
              "[[2]]$testing_pos\n",
              "[1] 375\n",
              "\n",
              "[[2]]$envios\n",
              "[1] 3065\n",
              "\n",
              "[[2]]$aciertos\n",
              "[1] 191\n",
              "\n",
              "[[2]]$ganancia_test\n",
              "[1] 45750000\n",
              "\n",
              "\n",
              "[[3]]\n",
              "[[3]]$semilla\n",
              "[1] 488827\n",
              "\n",
              "[[3]]$testing\n",
              "[1] 49369\n",
              "\n",
              "[[3]]$testing_pos\n",
              "[1] 371\n",
              "\n",
              "[[3]]$envios\n",
              "[1] 2714\n",
              "\n",
              "[[3]]$aciertos\n",
              "[1] 181\n",
              "\n",
              "[[3]]$ganancia_test\n",
              "[1] 45260000\n",
              "\n",
              "\n",
              "[[4]]\n",
              "[[4]]$semilla\n",
              "[1] 317197\n",
              "\n",
              "[[4]]$testing\n",
              "[1] 49385\n",
              "\n",
              "[[4]]$testing_pos\n",
              "[1] 376\n",
              "\n",
              "[[4]]$envios\n",
              "[1] 3410\n",
              "\n",
              "[[4]]$aciertos\n",
              "[1] 202\n",
              "\n",
              "[[4]]$ganancia_test\n",
              "[1] 46700000\n",
              "\n",
              "\n",
              "[[5]]\n",
              "[[5]]$semilla\n",
              "[1] 392383\n",
              "\n",
              "[[5]]$testing\n",
              "[1] 49375\n",
              "\n",
              "[[5]]$testing_pos\n",
              "[1] 370\n",
              "\n",
              "[[5]]$envios\n",
              "[1] 4022\n",
              "\n",
              "[[5]]$aciertos\n",
              "[1] 213\n",
              "\n",
              "[[5]]$ganancia_test\n",
              "[1] 44980000\n",
              "\n",
              "\n",
              "[[6]]\n",
              "[[6]]$semilla\n",
              "[1] 517151\n",
              "\n",
              "[[6]]$testing\n",
              "[1] 49379\n",
              "\n",
              "[[6]]$testing_pos\n",
              "[1] 377\n",
              "\n",
              "[[6]]$envios\n",
              "[1] 3885\n",
              "\n",
              "[[6]]$aciertos\n",
              "[1] 215\n",
              "\n",
              "[[6]]$ganancia_test\n",
              "[1] 47150000\n",
              "\n",
              "\n",
              "[[7]]\n",
              "[[7]]$semilla\n",
              "[1] 904879\n",
              "\n",
              "[[7]]$testing\n",
              "[1] 49380\n",
              "\n",
              "[[7]]$testing_pos\n",
              "[1] 378\n",
              "\n",
              "[[7]]$envios\n",
              "[1] 3594\n",
              "\n",
              "[[7]]$aciertos\n",
              "[1] 207\n",
              "\n",
              "[[7]]$ganancia_test\n",
              "[1] 46860000\n",
              "\n",
              "\n",
              "[[8]]\n",
              "[[8]]$semilla\n",
              "[1] 934039\n",
              "\n",
              "[[8]]$testing\n",
              "[1] 49375\n",
              "\n",
              "[[8]]$testing_pos\n",
              "[1] 373\n",
              "\n",
              "[[8]]$envios\n",
              "[1] 3571\n",
              "\n",
              "[[8]]$aciertos\n",
              "[1] 218\n",
              "\n",
              "[[8]]$ganancia_test\n",
              "[1] 51490000\n",
              "\n",
              "\n",
              "[[9]]\n",
              "[[9]]$semilla\n",
              "[1] 790429\n",
              "\n",
              "[[9]]$testing\n",
              "[1] 49376\n",
              "\n",
              "[[9]]$testing_pos\n",
              "[1] 375\n",
              "\n",
              "[[9]]$envios\n",
              "[1] 3992\n",
              "\n",
              "[[9]]$aciertos\n",
              "[1] 209\n",
              "\n",
              "[[9]]$ganancia_test\n",
              "[1] 43680000\n",
              "\n",
              "\n",
              "[[10]]\n",
              "[[10]]$semilla\n",
              "[1] 782011\n",
              "\n",
              "[[10]]$testing\n",
              "[1] 49379\n",
              "\n",
              "[[10]]$testing_pos\n",
              "[1] 372\n",
              "\n",
              "[[10]]$envios\n",
              "[1] 3860\n",
              "\n",
              "[[10]]$aciertos\n",
              "[1] 235\n",
              "\n",
              "[[10]]$ganancia_test\n",
              "[1] 55400000\n",
              "\n",
              "\n",
              "[[11]]\n",
              "[[11]]$semilla\n",
              "[1] 689581\n",
              "\n",
              "[[11]]$testing\n",
              "[1] 49372\n",
              "\n",
              "[[11]]$testing_pos\n",
              "[1] 368\n",
              "\n",
              "[[11]]$envios\n",
              "[1] 2637\n",
              "\n",
              "[[11]]$aciertos\n",
              "[1] 169\n",
              "\n",
              "[[11]]$ganancia_test\n",
              "[1] 41230000\n",
              "\n",
              "\n",
              "[[12]]\n",
              "[[12]]$semilla\n",
              "[1] 924841\n",
              "\n",
              "[[12]]$testing\n",
              "[1] 49375\n",
              "\n",
              "[[12]]$testing_pos\n",
              "[1] 373\n",
              "\n",
              "[[12]]$envios\n",
              "[1] 3185\n",
              "\n",
              "[[12]]$aciertos\n",
              "[1] 194\n",
              "\n",
              "[[12]]$ganancia_test\n",
              "[1] 45750000\n",
              "\n",
              "\n",
              "[[13]]\n",
              "[[13]]$semilla\n",
              "[1] 777641\n",
              "\n",
              "[[13]]$testing\n",
              "[1] 49384\n",
              "\n",
              "[[13]]$testing_pos\n",
              "[1] 370\n",
              "\n",
              "[[13]]$envios\n",
              "[1] 3801\n",
              "\n",
              "[[13]]$aciertos\n",
              "[1] 214\n",
              "\n",
              "[[13]]$ganancia_test\n",
              "[1] 47590000\n",
              "\n",
              "\n",
              "[[14]]\n",
              "[[14]]$semilla\n",
              "[1] 135347\n",
              "\n",
              "[[14]]$testing\n",
              "[1] 49392\n",
              "\n",
              "[[14]]$testing_pos\n",
              "[1] 377\n",
              "\n",
              "[[14]]$envios\n",
              "[1] 3509\n",
              "\n",
              "[[14]]$aciertos\n",
              "[1] 195\n",
              "\n",
              "[[14]]$ganancia_test\n",
              "[1] 42910000\n",
              "\n",
              "\n",
              "[[15]]\n",
              "[[15]]$semilla\n",
              "[1] 366511\n",
              "\n",
              "[[15]]$testing\n",
              "[1] 49396\n",
              "\n",
              "[[15]]$testing_pos\n",
              "[1] 382\n",
              "\n",
              "[[15]]$envios\n",
              "[1] 3895\n",
              "\n",
              "[[15]]$aciertos\n",
              "[1] 215\n",
              "\n",
              "[[15]]$ganancia_test\n",
              "[1] 47050000\n",
              "\n",
              "\n",
              "[[16]]\n",
              "[[16]]$semilla\n",
              "[1] 849311\n",
              "\n",
              "[[16]]$testing\n",
              "[1] 49370\n",
              "\n",
              "[[16]]$testing_pos\n",
              "[1] 370\n",
              "\n",
              "[[16]]$envios\n",
              "[1] 3531\n",
              "\n",
              "[[16]]$aciertos\n",
              "[1] 196\n",
              "\n",
              "[[16]]$ganancia_test\n",
              "[1] 43090000\n",
              "\n",
              "\n",
              "[[17]]\n",
              "[[17]]$semilla\n",
              "[1] 288389\n",
              "\n",
              "[[17]]$testing\n",
              "[1] 49378\n",
              "\n",
              "[[17]]$testing_pos\n",
              "[1] 373\n",
              "\n",
              "[[17]]$envios\n",
              "[1] 3695\n",
              "\n",
              "[[17]]$aciertos\n",
              "[1] 202\n",
              "\n",
              "[[17]]$ganancia_test\n",
              "[1] 43850000\n",
              "\n",
              "\n",
              "[[18]]\n",
              "[[18]]$semilla\n",
              "[1] 922741\n",
              "\n",
              "[[18]]$testing\n",
              "[1] 49373\n",
              "\n",
              "[[18]]$testing_pos\n",
              "[1] 370\n",
              "\n",
              "[[18]]$envios\n",
              "[1] 3513\n",
              "\n",
              "[[18]]$aciertos\n",
              "[1] 193\n",
              "\n",
              "[[18]]$ganancia_test\n",
              "[1] 42070000\n",
              "\n",
              "\n",
              "[[19]]\n",
              "[[19]]$semilla\n",
              "[1] 230647\n",
              "\n",
              "[[19]]$testing\n",
              "[1] 49379\n",
              "\n",
              "[[19]]$testing_pos\n",
              "[1] 376\n",
              "\n",
              "[[19]]$envios\n",
              "[1] 2819\n",
              "\n",
              "[[19]]$aciertos\n",
              "[1] 201\n",
              "\n",
              "[[19]]$ganancia_test\n",
              "[1] 52210000\n",
              "\n",
              "\n",
              "[[20]]\n",
              "[[20]]$semilla\n",
              "[1] 578419\n",
              "\n",
              "[[20]]$testing\n",
              "[1] 49372\n",
              "\n",
              "[[20]]$testing_pos\n",
              "[1] 372\n",
              "\n",
              "[[20]]$envios\n",
              "[1] 3583\n",
              "\n",
              "[[20]]$aciertos\n",
              "[1] 212\n",
              "\n",
              "[[20]]$ganancia_test\n",
              "[1] 48970000\n",
              "\n",
              "\n",
              "[[21]]\n",
              "[[21]]$semilla\n",
              "[1] 823997\n",
              "\n",
              "[[21]]$testing\n",
              "[1] 49377\n",
              "\n",
              "[[21]]$testing_pos\n",
              "[1] 377\n",
              "\n",
              "[[21]]$envios\n",
              "[1] 3425\n",
              "\n",
              "[[21]]$aciertos\n",
              "[1] 221\n",
              "\n",
              "[[21]]$ganancia_test\n",
              "[1] 54150000\n",
              "\n",
              "\n",
              "[[22]]\n",
              "[[22]]$semilla\n",
              "[1] 997001\n",
              "\n",
              "[[22]]$testing\n",
              "[1] 49383\n",
              "\n",
              "[[22]]$testing_pos\n",
              "[1] 374\n",
              "\n",
              "[[22]]$envios\n",
              "[1] 3181\n",
              "\n",
              "[[22]]$aciertos\n",
              "[1] 196\n",
              "\n",
              "[[22]]$ganancia_test\n",
              "[1] 46590000\n",
              "\n",
              "\n",
              "[[23]]\n",
              "[[23]]$semilla\n",
              "[1] 430999\n",
              "\n",
              "[[23]]$testing\n",
              "[1] 49380\n",
              "\n",
              "[[23]]$testing_pos\n",
              "[1] 372\n",
              "\n",
              "[[23]]$envios\n",
              "[1] 2196\n",
              "\n",
              "[[23]]$aciertos\n",
              "[1] 171\n",
              "\n",
              "[[23]]$ganancia_test\n",
              "[1] 46440000\n",
              "\n",
              "\n",
              "[[24]]\n",
              "[[24]]$semilla\n",
              "[1] 931309\n",
              "\n",
              "[[24]]$testing\n",
              "[1] 49384\n",
              "\n",
              "[[24]]$testing_pos\n",
              "[1] 377\n",
              "\n",
              "[[24]]$envios\n",
              "[1] 2752\n",
              "\n",
              "[[24]]$aciertos\n",
              "[1] 197\n",
              "\n",
              "[[24]]$ganancia_test\n",
              "[1] 51280000\n",
              "\n",
              "\n",
              "[[25]]\n",
              "[[25]]$semilla\n",
              "[1] 400963\n",
              "\n",
              "[[25]]$testing\n",
              "[1] 49366\n",
              "\n",
              "[[25]]$testing_pos\n",
              "[1] 369\n",
              "\n",
              "[[25]]$envios\n",
              "[1] 3448\n",
              "\n",
              "[[25]]$aciertos\n",
              "[1] 213\n",
              "\n",
              "[[25]]$ganancia_test\n",
              "[1] 50720000\n",
              "\n",
              "\n",
              "[[26]]\n",
              "[[26]]$semilla\n",
              "[1] 130469\n",
              "\n",
              "[[26]]$testing\n",
              "[1] 49375\n",
              "\n",
              "[[26]]$testing_pos\n",
              "[1] 374\n",
              "\n",
              "[[26]]$envios\n",
              "[1] 3698\n",
              "\n",
              "[[26]]$aciertos\n",
              "[1] 197\n",
              "\n",
              "[[26]]$ganancia_test\n",
              "[1] 41820000\n",
              "\n",
              "\n",
              "[[27]]\n",
              "[[27]]$semilla\n",
              "[1] 793493\n",
              "\n",
              "[[27]]$testing\n",
              "[1] 49385\n",
              "\n",
              "[[27]]$testing_pos\n",
              "[1] 373\n",
              "\n",
              "[[27]]$envios\n",
              "[1] 3583\n",
              "\n",
              "[[27]]$aciertos\n",
              "[1] 206\n",
              "\n",
              "[[27]]$ganancia_test\n",
              "[1] 46570000\n",
              "\n",
              "\n",
              "[[28]]\n",
              "[[28]]$semilla\n",
              "[1] 251917\n",
              "\n",
              "[[28]]$testing\n",
              "[1] 49372\n",
              "\n",
              "[[28]]$testing_pos\n",
              "[1] 374\n",
              "\n",
              "[[28]]$envios\n",
              "[1] 3377\n",
              "\n",
              "[[28]]$aciertos\n",
              "[1] 206\n",
              "\n",
              "[[28]]$ganancia_test\n",
              "[1] 48630000\n",
              "\n",
              "\n",
              "[[29]]\n",
              "[[29]]$semilla\n",
              "[1] 189881\n",
              "\n",
              "[[29]]$testing\n",
              "[1] 49380\n",
              "\n",
              "[[29]]$testing_pos\n",
              "[1] 373\n",
              "\n",
              "[[29]]$envios\n",
              "[1] 2986\n",
              "\n",
              "[[29]]$aciertos\n",
              "[1] 187\n",
              "\n",
              "[[29]]$ganancia_test\n",
              "[1] 44940000\n",
              "\n",
              "\n",
              "[[30]]\n",
              "[[30]]$semilla\n",
              "[1] 976909\n",
              "\n",
              "[[30]]$testing\n",
              "[1] 49390\n",
              "\n",
              "[[30]]$testing_pos\n",
              "[1] 372\n",
              "\n",
              "[[30]]$envios\n",
              "[1] 3751\n",
              "\n",
              "[[30]]$aciertos\n",
              "[1] 217\n",
              "\n",
              "[[30]]$ganancia_test\n",
              "[1] 49290000\n",
              "\n",
              "\n",
              "[[31]]\n",
              "[[31]]$semilla\n",
              "[1] 351133\n",
              "\n",
              "[[31]]$testing\n",
              "[1] 49389\n",
              "\n",
              "[[31]]$testing_pos\n",
              "[1] 384\n",
              "\n",
              "[[31]]$envios\n",
              "[1] 3567\n",
              "\n",
              "[[31]]$aciertos\n",
              "[1] 224\n",
              "\n",
              "[[31]]$ganancia_test\n",
              "[1] 53930000\n",
              "\n",
              "\n",
              "[[32]]\n",
              "[[32]]$semilla\n",
              "[1] 383633\n",
              "\n",
              "[[32]]$testing\n",
              "[1] 49388\n",
              "\n",
              "[[32]]$testing_pos\n",
              "[1] 374\n",
              "\n",
              "[[32]]$envios\n",
              "[1] 3505\n",
              "\n",
              "[[32]]$aciertos\n",
              "[1] 207\n",
              "\n",
              "[[32]]$ganancia_test\n",
              "[1] 47750000\n",
              "\n",
              "\n",
              "[[33]]\n",
              "[[33]]$semilla\n",
              "[1] 461819\n",
              "\n",
              "[[33]]$testing\n",
              "[1] 49368\n",
              "\n",
              "[[33]]$testing_pos\n",
              "[1] 373\n",
              "\n",
              "[[33]]$envios\n",
              "[1] 3105\n",
              "\n",
              "[[33]]$aciertos\n",
              "[1] 205\n",
              "\n",
              "[[33]]$ganancia_test\n",
              "[1] 50950000\n",
              "\n",
              "\n",
              "[[34]]\n",
              "[[34]]$semilla\n",
              "[1] 346147\n",
              "\n",
              "[[34]]$testing\n",
              "[1] 49377\n",
              "\n",
              "[[34]]$testing_pos\n",
              "[1] 374\n",
              "\n",
              "[[34]]$envios\n",
              "[1] 4276\n",
              "\n",
              "[[34]]$aciertos\n",
              "[1] 224\n",
              "\n",
              "[[34]]$ganancia_test\n",
              "[1] 46840000\n",
              "\n",
              "\n",
              "[[35]]\n",
              "[[35]]$semilla\n",
              "[1] 178001\n",
              "\n",
              "[[35]]$testing\n",
              "[1] 49382\n",
              "\n",
              "[[35]]$testing_pos\n",
              "[1] 370\n",
              "\n",
              "[[35]]$envios\n",
              "[1] 3379\n",
              "\n",
              "[[35]]$aciertos\n",
              "[1] 203\n",
              "\n",
              "[[35]]$ganancia_test\n",
              "[1] 47410000\n",
              "\n",
              "\n",
              "[[36]]\n",
              "[[36]]$semilla\n",
              "[1] 629921\n",
              "\n",
              "[[36]]$testing\n",
              "[1] 49389\n",
              "\n",
              "[[36]]$testing_pos\n",
              "[1] 377\n",
              "\n",
              "[[36]]$envios\n",
              "[1] 3427\n",
              "\n",
              "[[36]]$aciertos\n",
              "[1] 212\n",
              "\n",
              "[[36]]$ganancia_test\n",
              "[1] 50530000\n",
              "\n",
              "\n",
              "[[37]]\n",
              "[[37]]$semilla\n",
              "[1] 600949\n",
              "\n",
              "[[37]]$testing\n",
              "[1] 49382\n",
              "\n",
              "[[37]]$testing_pos\n",
              "[1] 375\n",
              "\n",
              "[[37]]$envios\n",
              "[1] 2971\n",
              "\n",
              "[[37]]$aciertos\n",
              "[1] 184\n",
              "\n",
              "[[37]]$ganancia_test\n",
              "[1] 43890000\n",
              "\n",
              "\n",
              "[[38]]\n",
              "[[38]]$semilla\n",
              "[1] 805807\n",
              "\n",
              "[[38]]$testing\n",
              "[1] 49371\n",
              "\n",
              "[[38]]$testing_pos\n",
              "[1] 376\n",
              "\n",
              "[[38]]$envios\n",
              "[1] 4306\n",
              "\n",
              "[[38]]$aciertos\n",
              "[1] 218\n",
              "\n",
              "[[38]]$ganancia_test\n",
              "[1] 44140000\n",
              "\n",
              "\n",
              "[[39]]\n",
              "[[39]]$semilla\n",
              "[1] 493973\n",
              "\n",
              "[[39]]$testing\n",
              "[1] 49383\n",
              "\n",
              "[[39]]$testing_pos\n",
              "[1] 375\n",
              "\n",
              "[[39]]$envios\n",
              "[1] 4197\n",
              "\n",
              "[[39]]$aciertos\n",
              "[1] 221\n",
              "\n",
              "[[39]]$ganancia_test\n",
              "[1] 46430000\n",
              "\n",
              "\n",
              "[[40]]\n",
              "[[40]]$semilla\n",
              "[1] 820187\n",
              "\n",
              "[[40]]$testing\n",
              "[1] 49372\n",
              "\n",
              "[[40]]$testing_pos\n",
              "[1] 373\n",
              "\n",
              "[[40]]$envios\n",
              "[1] 2342\n",
              "\n",
              "[[40]]$aciertos\n",
              "[1] 175\n",
              "\n",
              "[[40]]$ganancia_test\n",
              "[1] 46580000\n",
              "\n",
              "\n",
              "[[41]]\n",
              "[[41]]$semilla\n",
              "[1] 713381\n",
              "\n",
              "[[41]]$testing\n",
              "[1] 49368\n",
              "\n",
              "[[41]]$testing_pos\n",
              "[1] 375\n",
              "\n",
              "[[41]]$envios\n",
              "[1] 3599\n",
              "\n",
              "[[41]]$aciertos\n",
              "[1] 211\n",
              "\n",
              "[[41]]$ganancia_test\n",
              "[1] 48410000\n",
              "\n",
              "\n",
              "[[42]]\n",
              "[[42]]$semilla\n",
              "[1] 471847\n",
              "\n",
              "[[42]]$testing\n",
              "[1] 49387\n",
              "\n",
              "[[42]]$testing_pos\n",
              "[1] 377\n",
              "\n",
              "[[42]]$envios\n",
              "[1] 3031\n",
              "\n",
              "[[42]]$aciertos\n",
              "[1] 194\n",
              "\n",
              "[[42]]$ganancia_test\n",
              "[1] 47290000\n",
              "\n",
              "\n",
              "[[43]]\n",
              "[[43]]$semilla\n",
              "[1] 836971\n",
              "\n",
              "[[43]]$testing\n",
              "[1] 49382\n",
              "\n",
              "[[43]]$testing_pos\n",
              "[1] 377\n",
              "\n",
              "[[43]]$envios\n",
              "[1] 3062\n",
              "\n",
              "[[43]]$aciertos\n",
              "[1] 195\n",
              "\n",
              "[[43]]$ganancia_test\n",
              "[1] 47380000\n",
              "\n",
              "\n",
              "[[44]]\n",
              "[[44]]$semilla\n",
              "[1] 810941\n",
              "\n",
              "[[44]]$testing\n",
              "[1] 49361\n",
              "\n",
              "[[44]]$testing_pos\n",
              "[1] 371\n",
              "\n",
              "[[44]]$envios\n",
              "[1] 4492\n",
              "\n",
              "[[44]]$aciertos\n",
              "[1] 230\n",
              "\n",
              "[[44]]$ganancia_test\n",
              "[1] 47080000\n",
              "\n",
              "\n",
              "[[45]]\n",
              "[[45]]$semilla\n",
              "[1] 266689\n",
              "\n",
              "[[45]]$testing\n",
              "[1] 49365\n",
              "\n",
              "[[45]]$testing_pos\n",
              "[1] 371\n",
              "\n",
              "[[45]]$envios\n",
              "[1] 3660\n",
              "\n",
              "[[45]]$aciertos\n",
              "[1] 211\n",
              "\n",
              "[[45]]$ganancia_test\n",
              "[1] 47800000\n",
              "\n",
              "\n",
              "[[46]]\n",
              "[[46]]$semilla\n",
              "[1] 457049\n",
              "\n",
              "[[46]]$testing\n",
              "[1] 49369\n",
              "\n",
              "[[46]]$testing_pos\n",
              "[1] 367\n",
              "\n",
              "[[46]]$envios\n",
              "[1] 3500\n",
              "\n",
              "[[46]]$aciertos\n",
              "[1] 209\n",
              "\n",
              "[[46]]$ganancia_test\n",
              "[1] 48600000\n",
              "\n",
              "\n",
              "[[47]]\n",
              "[[47]]$semilla\n",
              "[1] 185749\n",
              "\n",
              "[[47]]$testing\n",
              "[1] 49373\n",
              "\n",
              "[[47]]$testing_pos\n",
              "[1] 369\n",
              "\n",
              "[[47]]$envios\n",
              "[1] 2131\n",
              "\n",
              "[[47]]$aciertos\n",
              "[1] 170\n",
              "\n",
              "[[47]]$ganancia_test\n",
              "[1] 46690000\n",
              "\n",
              "\n",
              "[[48]]\n",
              "[[48]]$semilla\n",
              "[1] 690119\n",
              "\n",
              "[[48]]$testing\n",
              "[1] 49384\n",
              "\n",
              "[[48]]$testing_pos\n",
              "[1] 375\n",
              "\n",
              "[[48]]$envios\n",
              "[1] 3626\n",
              "\n",
              "[[48]]$aciertos\n",
              "[1] 200\n",
              "\n",
              "[[48]]$ganancia_test\n",
              "[1] 43740000\n",
              "\n",
              "\n",
              "[[49]]\n",
              "[[49]]$semilla\n",
              "[1] 946919\n",
              "\n",
              "[[49]]$testing\n",
              "[1] 49386\n",
              "\n",
              "[[49]]$testing_pos\n",
              "[1] 379\n",
              "\n",
              "[[49]]$envios\n",
              "[1] 3470\n",
              "\n",
              "[[49]]$aciertos\n",
              "[1] 202\n",
              "\n",
              "[[49]]$ganancia_test\n",
              "[1] 46100000\n",
              "\n",
              "\n",
              "[[50]]\n",
              "[[50]]$semilla\n",
              "[1] 269231\n",
              "\n",
              "[[50]]$testing\n",
              "[1] 49388\n",
              "\n",
              "[[50]]$testing_pos\n",
              "[1] 378\n",
              "\n",
              "[[50]]$envios\n",
              "[1] 4182\n",
              "\n",
              "[[50]]$aciertos\n",
              "[1] 229\n",
              "\n",
              "[[50]]$ganancia_test\n",
              "[1] 49780000\n",
              "\n"
            ]
          },
          "metadata": {}
        }
      ]
    },
    {
      "cell_type": "code",
      "source": [
        "# paso la lista a vector\n",
        "tb_salida <- rbindlist(salidas)\n",
        "print( tb_salida)"
      ],
      "metadata": {
        "id": "unGWiKRMGimU",
        "colab": {
          "base_uri": "https://localhost:8080/"
        },
        "outputId": "e91fd585-d739-4328-cf8c-be53e6aee430"
      },
      "execution_count": null,
      "outputs": [
        {
          "output_type": "stream",
          "name": "stdout",
          "text": [
            "    semilla testing testing_pos envios aciertos ganancia_test\n",
            "      <int>   <int>       <int>  <int>    <int>         <num>\n",
            " 1:  414643   49384         374   3152      197      47280000\n",
            " 2:  143401   49379         375   3065      191      45750000\n",
            " 3:  488827   49369         371   2714      181      45260000\n",
            " 4:  317197   49385         376   3410      202      46700000\n",
            " 5:  392383   49375         370   4022      213      44980000\n",
            " 6:  517151   49379         377   3885      215      47150000\n",
            " 7:  904879   49380         378   3594      207      46860000\n",
            " 8:  934039   49375         373   3571      218      51490000\n",
            " 9:  790429   49376         375   3992      209      43680000\n",
            "10:  782011   49379         372   3860      235      55400000\n",
            "11:  689581   49372         368   2637      169      41230000\n",
            "12:  924841   49375         373   3185      194      45750000\n",
            "13:  777641   49384         370   3801      214      47590000\n",
            "14:  135347   49392         377   3509      195      42910000\n",
            "15:  366511   49396         382   3895      215      47050000\n",
            "16:  849311   49370         370   3531      196      43090000\n",
            "17:  288389   49378         373   3695      202      43850000\n",
            "18:  922741   49373         370   3513      193      42070000\n",
            "19:  230647   49379         376   2819      201      52210000\n",
            "20:  578419   49372         372   3583      212      48970000\n",
            "21:  823997   49377         377   3425      221      54150000\n",
            "22:  997001   49383         374   3181      196      46590000\n",
            "23:  430999   49380         372   2196      171      46440000\n",
            "24:  931309   49384         377   2752      197      51280000\n",
            "25:  400963   49366         369   3448      213      50720000\n",
            "26:  130469   49375         374   3698      197      41820000\n",
            "27:  793493   49385         373   3583      206      46570000\n",
            "28:  251917   49372         374   3377      206      48630000\n",
            "29:  189881   49380         373   2986      187      44940000\n",
            "30:  976909   49390         372   3751      217      49290000\n",
            "31:  351133   49389         384   3567      224      53930000\n",
            "32:  383633   49388         374   3505      207      47750000\n",
            "33:  461819   49368         373   3105      205      50950000\n",
            "34:  346147   49377         374   4276      224      46840000\n",
            "35:  178001   49382         370   3379      203      47410000\n",
            "36:  629921   49389         377   3427      212      50530000\n",
            "37:  600949   49382         375   2971      184      43890000\n",
            "38:  805807   49371         376   4306      218      44140000\n",
            "39:  493973   49383         375   4197      221      46430000\n",
            "40:  820187   49372         373   2342      175      46580000\n",
            "41:  713381   49368         375   3599      211      48410000\n",
            "42:  471847   49387         377   3031      194      47290000\n",
            "43:  836971   49382         377   3062      195      47380000\n",
            "44:  810941   49361         371   4492      230      47080000\n",
            "45:  266689   49365         371   3660      211      47800000\n",
            "46:  457049   49369         367   3500      209      48600000\n",
            "47:  185749   49373         369   2131      170      46690000\n",
            "48:  690119   49384         375   3626      200      43740000\n",
            "49:  946919   49386         379   3470      202      46100000\n",
            "50:  269231   49388         378   4182      229      49780000\n",
            "    semilla testing testing_pos envios aciertos ganancia_test\n"
          ]
        }
      ]
    },
    {
      "cell_type": "code",
      "source": [
        "# calulo la salida\n",
        "for( i in seq(10, 50, 10) )\n",
        "{\n",
        "  cat( i, \"\\t\", tb_salida[ 1:i, mean(ganancia_test)], \"\\n\" )\n",
        "}\n"
      ],
      "metadata": {
        "id": "oGoadhBKGimV",
        "colab": {
          "base_uri": "https://localhost:8080/"
        },
        "outputId": "96a9b5e9-2693-4897-f16b-ae1bd649a714"
      },
      "execution_count": null,
      "outputs": [
        {
          "output_type": "stream",
          "name": "stdout",
          "text": [
            "10 \t 47455000 \n",
            "20 \t 46463500 \n",
            "30 \t 46990000 \n",
            "40 \t 47203750 \n",
            "50 \t 47220400 \n"
          ]
        }
      ]
    },
    {
      "cell_type": "markdown",
      "source": [
        "### Acciones a realizar\n",
        "* Reportar la  los resultados en la planilla colaborativa hoja  **C2-nsem**\n",
        "* Se discutirá en clase la variabilidad de las distintas cantidades de semillas"
      ],
      "metadata": {
        "id": "dO9yQKt7GimV"
      }
    },
    {
      "cell_type": "markdown",
      "source": [
        "\n",
        "\n",
        "---\n",
        "\n"
      ],
      "metadata": {
        "id": "ziFKwIlBGimW"
      }
    },
    {
      "cell_type": "markdown",
      "source": [
        "# 5  DiezMil -Monte Carlo Cross Validation\n",
        "## Clase 02  Experimento 5"
      ],
      "metadata": {
        "id": "2jncHe-KJLUg"
      }
    },
    {
      "cell_type": "markdown",
      "source": [
        "Mostrar a los estudiantes el resultado de un experimento en donde se ha corrido una Monte Carlo Cross Validation utilizando diez mil semillas y relacionar la cantidad de semillas con el resultado del Teorema Central del Límite\n",
        "<br>Los resultados se muestran en esta misma guia y se comentan en clase,Bajo ningún concepto se solicitará a l@s estudiantes hacer este experimento en clase ya que lleva varias horas en correr.\n"
      ],
      "metadata": {
        "id": "vUzSGZGOJZq8"
      }
    },
    {
      "cell_type": "markdown",
      "source": [
        "Aqui usted NO debe correr absolutamente nada, el experimento ya fue corrido por la cátedra y le muestra los resultados."
      ],
      "metadata": {
        "id": "G0YGjTMxuTSg"
      }
    },
    {
      "cell_type": "markdown",
      "source": [
        "## 5.1\n",
        "Estos resultados han sido corridos por la cátedra.\n",
        "\n",
        "![Distribucion de las ganancias](https://storage.googleapis.com/open-courses/austral2025-af91/labo1r/C2_E5_distribucion.jpg)"
      ],
      "metadata": {
        "id": "7NRUb3WtJikc"
      }
    },
    {
      "cell_type": "markdown",
      "source": [
        "![salida](https://storage.googleapis.com/open-courses/austral2025-af91/labo1r/C2_E5_salida.jpg)"
      ],
      "metadata": {
        "id": "tZ4X8wdSKc7G"
      }
    },
    {
      "cell_type": "markdown",
      "source": [
        "![tabla](https://storage.googleapis.com/open-courses/austral2025-af91/labo1r/C2_E5_tabla.jpg)\n",
        "\n",
        " 2    ~    1,96  =  3605406.2 / 1836264.3\n",
        "\n",
        "Por el teorema central del límite, un aumento de 4 veces de la cantidad de registros que se promedian el desvio estandar disminuye 2 veces ,  raiz(4 ) = 2"
      ],
      "metadata": {
        "id": "EsL5ukNWKS71"
      }
    },
    {
      "cell_type": "markdown",
      "source": [
        "\n",
        "\n",
        "---\n",
        "\n"
      ],
      "metadata": {
        "id": "OTLq8TC4LR0c"
      }
    },
    {
      "cell_type": "markdown",
      "source": [
        "# 6 Comparando dos distintos  modelos\n",
        "## Clase 02  Experimento 6"
      ],
      "metadata": {
        "id": "sAS1bfL8LmBv"
      }
    },
    {
      "cell_type": "markdown",
      "source": [
        "## 6.1  Objetivos\n",
        "Presentar a los alumnos la dificultad que se presenta ante la comparación de dos modelos, uno posee un poder predictivo claramente mayor al otro.\n",
        "Comparación simple de media de ganancias, versus probabilidad que un modelo sea superior a otro."
      ],
      "metadata": {
        "id": "KzwdMJDZLmB9"
      }
    },
    {
      "cell_type": "markdown",
      "source": [
        "## 6.2 Introduccion\n",
        "Estos son los dos arboles de muy distinta profundidad.\n",
        "<br>¿Cuál de ellos es mejor? ¿Cuál elijo?\n",
        "\n",
        "| Hiperparámetro | Arbol 1 | Arbol 2 |\n",
        "| --- | --: |  ---: |\n",
        "| cp | -1 | -1 |\n",
        "|minsplit | 170 | 250 |\n",
        "|minbucket | 70 | 125 |\n",
        "|maxdepth | 7 | 20 |\n",
        "\n"
      ],
      "metadata": {
        "id": "DDyFNmJ9L_CW"
      }
    },
    {
      "cell_type": "markdown",
      "source": [
        "## 6.3 Codigo dos distintos modelos"
      ],
      "metadata": {
        "id": "bQfwNsVzNrtI"
      }
    },
    {
      "cell_type": "markdown",
      "source": [
        "Esta parte se debe correr con el runtime en lenguaje **R** Ir al menu, Runtime -> Change Runtime Tipe -> Runtime type -> R"
      ],
      "metadata": {
        "id": "Ku7qQgKjNruJ"
      }
    },
    {
      "cell_type": "markdown",
      "source": [
        "El tiempo de corrida es de alrededor de 40 minutos"
      ],
      "metadata": {
        "id": "6jCdS3NMuKei"
      }
    },
    {
      "cell_type": "markdown",
      "source": [
        "limpio el ambiente de R"
      ],
      "metadata": {
        "id": "Z1EUBeHyNruK"
      }
    },
    {
      "cell_type": "code",
      "source": [
        "# limpio la memoria\n",
        "rm(list=ls(all.names=TRUE)) # remove all objects\n",
        "gc(full=TRUE, verbose=FALSE) # garbage collection"
      ],
      "metadata": {
        "id": "GxbC4V3zNruM"
      },
      "execution_count": null,
      "outputs": []
    },
    {
      "cell_type": "markdown",
      "source": [
        "* Instalacion de la libreria  rpart.plot  para dibujar el arbol\n",
        "* invocacion de las librerias  **data.table** y  **rpart**"
      ],
      "metadata": {
        "id": "i2WkSCIhNruQ"
      }
    },
    {
      "cell_type": "code",
      "source": [
        "# cargo las librerias que necesito\n",
        "require(\"data.table\")\n",
        "require(\"rpart\")\n",
        "require(\"parallel\")\n",
        "\n",
        "if (!require(\"primes\")) install.packages(\"primes\")\n",
        "require(\"primes\")\n",
        "\n",
        "require(\"ggplot2\")"
      ],
      "metadata": {
        "id": "3bMsgZJWNruR"
      },
      "execution_count": null,
      "outputs": []
    },
    {
      "cell_type": "markdown",
      "source": [
        "###  Accion a Realizar\n",
        "PARAM$semilla_primigenia  debe reemplazarse por SU primer semilla"
      ],
      "metadata": {
        "id": "t1lTXrKaNruT"
      }
    },
    {
      "cell_type": "code",
      "source": [
        "PARAM <- list()\n",
        "PARAM$semilla_primigenia <- 102191\n",
        "PARAM$qsemillas <- 20\n",
        "PARAM$training_pct <- 70L     # entre 1 y 100\n"
      ],
      "metadata": {
        "id": "QFbPtTCMNruV"
      },
      "execution_count": null,
      "outputs": []
    },
    {
      "cell_type": "code",
      "source": [
        "# los dos arboles\n",
        "PARAM$rpart1 <- list (\n",
        "  \"cp\" = -1,\n",
        "  \"minsplit\" = 170,\n",
        "  \"minbucket\" = 70,\n",
        "  \"maxdepth\" = 7\n",
        ")\n",
        "\n",
        "\n",
        "PARAM$rpart2 <- list (\n",
        "  \"cp\" = -1,\n",
        "  \"minsplit\" = 250,\n",
        "  \"minbucket\" = 125,\n",
        "  \"maxdepth\" = 20\n",
        ")"
      ],
      "metadata": {
        "id": "GiBGk7WKQv2V"
      },
      "execution_count": null,
      "outputs": []
    },
    {
      "cell_type": "code",
      "source": [
        "# particionar agrega una columna llamada fold a un dataset\n",
        "#  que consiste en una particion estratificada segun agrupa\n",
        "\n",
        "# particionar( data=dataset, division=c(70,30),\n",
        "#  agrupa=clase_ternaria, seed=semilla)   crea una particion 70, 30\n",
        "\n",
        "particionar <- function(\n",
        "    data, division, agrupa = \"\",\n",
        "    campo = \"fold\", start = 1, seed = NA) {\n",
        "  if (!is.na(seed)) set.seed(seed)\n",
        "\n",
        "  bloque <- unlist(mapply(function(x, y) {\n",
        "    rep(y, x)\n",
        "  }, division, seq(from = start, length.out = length(division))))\n",
        "\n",
        "  data[, (campo) := sample(rep(bloque, ceiling(.N / length(bloque))))[1:.N],\n",
        "    by = agrupa\n",
        "  ]\n",
        "}\n"
      ],
      "metadata": {
        "id": "2BabfKg7NruX"
      },
      "execution_count": null,
      "outputs": []
    },
    {
      "cell_type": "code",
      "source": [
        "DosArbolesEstimarGanancia <- function(semilla, training_pct, param_rpart1, param_rpart2) {\n",
        "\n",
        "  # fuerzo impresion\n",
        "  print( paste( semilla, Sys.time()) )\n",
        "  flush.console()\n",
        "\n",
        "  # particiono estratificadamente el dataset\n",
        "  particionar(dataset,\n",
        "    division = c(training_pct, 100L -training_pct),\n",
        "    agrupa = \"clase_ternaria\",\n",
        "    seed = semilla # aqui se usa SU semilla\n",
        "  )\n",
        "\n",
        "  # genero el modelo\n",
        "  # predecir clase_ternaria a partir del resto\n",
        "  modelo1 <- rpart(\"clase_ternaria ~ .\",\n",
        "    data = dataset[fold == 1], # fold==1  es training,  el 70% de los datos\n",
        "    xval = 0,\n",
        "    control = param_rpart1\n",
        "  ) # aqui van los parametros del arbol\n",
        "\n",
        "  # aplico el modelo a los datos de testing\n",
        "  prediccion1 <- predict(modelo1, # el modelo que genere recien\n",
        "    dataset[fold == 2], # fold==2  es testing, el 30% de los datos\n",
        "    type = \"prob\"\n",
        "  ) # type= \"prob\"  es que devuelva la probabilidad\n",
        "\n",
        "\n",
        "  # calculo la ganancia en testing  qu es fold==2\n",
        "  ganancia_test1 <- dataset[\n",
        "    fold == 2,\n",
        "    sum(ifelse(prediccion1[, \"BAJA+2\"] > 0.025,\n",
        "      ifelse(clase_ternaria == \"BAJA+2\", 117000, -3000),\n",
        "      0\n",
        "    ))\n",
        "  ]\n",
        "\n",
        "  # escalo la ganancia como si fuera todo el dataset\n",
        "  ganancia_test_normalizada1 <- ganancia_test1 / (( 100 - training_pct ) / 100 )\n",
        "\n",
        "  modelo2 <- rpart(\"clase_ternaria ~ .\",\n",
        "    data = dataset[fold == 1], # fold==1  es training,  el 70% de los datos\n",
        "    xval = 0,\n",
        "    control = param_rpart2\n",
        "  ) # aqui van los parametros del arbol\n",
        "\n",
        "  # aplico el modelo a los datos de testing\n",
        "  prediccion2 <- predict(modelo2, # el modelo que genere recien\n",
        "    dataset[fold == 2], # fold==2  es testing, el 30% de los datos\n",
        "    type = \"prob\"\n",
        "  ) # type= \"prob\"  es que devuelva la probabilidad\n",
        "\n",
        "\n",
        "  # calculo la ganancia en testing  qu es fold==2\n",
        "  ganancia_test2 <- dataset[\n",
        "    fold == 2,\n",
        "    sum(ifelse(prediccion2[, \"BAJA+2\"] > 0.025,\n",
        "      ifelse(clase_ternaria == \"BAJA+2\", 117000, -3000),\n",
        "      0\n",
        "    ))\n",
        "  ]\n",
        "\n",
        "  # escalo la ganancia como si fuera todo el dataset\n",
        "  ganancia_test_normalizada2 <- ganancia_test2 / (( 100 - training_pct ) / 100 )\n",
        "\n",
        "  return(list(\n",
        "    \"semilla\" = semilla,\n",
        "    \"ganancia1\" = ganancia_test_normalizada1,\n",
        "    \"ganancia2\" = ganancia_test_normalizada2\n",
        "  ))\n",
        "}"
      ],
      "metadata": {
        "id": "YrGJgj4UNruZ"
      },
      "execution_count": null,
      "outputs": []
    },
    {
      "cell_type": "code",
      "source": [
        "# carpeta de trabajo\n",
        "setwd(\"/content/buckets/b1/exp\")\n",
        "experimento <- \"exp206\"\n",
        "dir.create(experimento, showWarnings=FALSE)\n",
        "setwd( paste0(\"/content/buckets/b1/exp/\", experimento ))"
      ],
      "metadata": {
        "id": "2C2yjgQVNrud"
      },
      "execution_count": null,
      "outputs": []
    },
    {
      "cell_type": "code",
      "source": [
        "# lectura del dataset\n",
        "dataset <- fread(\"/content/datasets/dataset_pequeno.csv\")\n",
        "\n",
        "# trabajo solo con los datos con clase, es decir 202107\n",
        "dataset <- dataset[clase_ternaria != \"\"]"
      ],
      "metadata": {
        "id": "oQeGcBnPNrug"
      },
      "execution_count": null,
      "outputs": []
    },
    {
      "cell_type": "code",
      "source": [
        "detectCores()"
      ],
      "metadata": {
        "id": "gXKI2eXO9Osx"
      },
      "execution_count": null,
      "outputs": []
    },
    {
      "cell_type": "code",
      "source": [
        "# genero numeros primos\n",
        "primos <- generate_primes(min = 100000, max = 1000000)\n",
        "set.seed(PARAM$semilla_primigenia) # inicializo\n",
        "\n",
        "# me quedo con PARAM$qsemillas   semillas\n",
        "PARAM$semillas <- sample(primos, PARAM$qsemillas )"
      ],
      "metadata": {
        "id": "tU8S7_5ANrui"
      },
      "execution_count": null,
      "outputs": []
    },
    {
      "cell_type": "code",
      "source": [
        "# demora interminables 60 minutos en correr en Google Colab\n",
        "Sys.time()\n",
        "\n",
        "salidas <- mcmapply( DosArbolesEstimarGanancia,\n",
        "  PARAM$semillas, # paso el vector de semillas\n",
        "  MoreArgs = list(PARAM$training_pct, PARAM$rpart1, PARAM$rpart2), # aqui paso el segundo parametro\n",
        "  SIMPLIFY = FALSE,\n",
        "  mc.cores = detectCores()\n",
        ")\n",
        "\n",
        "Sys.time()"
      ],
      "metadata": {
        "id": "mlF66CgxcHF3"
      },
      "execution_count": null,
      "outputs": []
    },
    {
      "cell_type": "code",
      "source": [
        "# paso la lista a vector\n",
        "tb_salida <- rbindlist(salidas)\n",
        "tb_salida"
      ],
      "metadata": {
        "id": "_g-_kccdNrum"
      },
      "execution_count": null,
      "outputs": []
    },
    {
      "cell_type": "code",
      "source": [
        "grafico <- ggplot( tb_salida, aes(x=ganancia1)) + geom_density(alpha=0.25, fill=\"green\", color=\"green\")  +\n",
        "             geom_density(data=tb_salida, aes(x=ganancia2), fill=\"purple\", color=\"purple\",  alpha=0.10)\n",
        "\n",
        "print(grafico)"
      ],
      "metadata": {
        "id": "-O0rg6btNrun"
      },
      "execution_count": null,
      "outputs": []
    },
    {
      "cell_type": "code",
      "source": [
        "# imprimo en un .pdf  que va a la carpeta del experimento\n",
        "pdf(\"densidad_dos.pdf\")\n",
        "print(grafico)\n",
        "dev.off()"
      ],
      "metadata": {
        "id": "uSqrazOyU_LC"
      },
      "execution_count": null,
      "outputs": []
    },
    {
      "cell_type": "code",
      "source": [
        "print( tb_salida[ , list( \"arbol1\" = mean( ganancia1),  \"arbol2\" = mean(ganancia2) ) ] )\n",
        "\n",
        "print( tb_salida[ , list( \"prob( m1 > m2)\" = sum(ganancia1 > ganancia2 )/ .N ) ]  )"
      ],
      "metadata": {
        "id": "LGv0LB_4R7US"
      },
      "execution_count": null,
      "outputs": []
    },
    {
      "cell_type": "markdown",
      "source": [
        "### Acciones a realizar\n",
        "* Reportar la  los resultados en la planilla colaborativa hoja  **C2-dosModelos**\n",
        "* ¿Todos los alumnos hubieran elegido el mismo modelo aun con 20 semillas?"
      ],
      "metadata": {
        "id": "F6lFJf1VTi8b"
      }
    },
    {
      "cell_type": "markdown",
      "source": [
        "\n",
        "\n",
        "---\n",
        "\n"
      ],
      "metadata": {
        "id": "aOpy-XBKTi8n"
      }
    },
    {
      "cell_type": "markdown",
      "source": [
        "# 7 Comparando dos buenos  modelos\n",
        "## Clase 02  Experimento 7"
      ],
      "metadata": {
        "id": "EdzjiJf-dsEK"
      }
    },
    {
      "cell_type": "markdown",
      "source": [
        "## 7.1  Objetivos\n",
        "Presentar a los alumnos la dificultad que surge en la comparación de dos muy distintos, pero ambos buenos, modelos predictivos, y el costo computacional asociado a esa comparación\n",
        "<br>Comparación simple de media de ganancias, versus probabilidad que un modelo sea superior a otro.\n",
        "<br>Limitaciones de la MonteCarlo Cross Validation\n",
        "<br>Existencia del Test de Wilcoxon"
      ],
      "metadata": {
        "id": "FcBjp5XxdsEt"
      }
    },
    {
      "cell_type": "markdown",
      "source": [
        "## 7.2 Introduccion\n",
        "Estos son los dos arboles de muy distinta profundidad.\n",
        "<br>¿Cuál de ellos es mejor? ¿Cuál elijo?\n",
        "\n",
        "| Hiperparámetro | Arbol 1 | Arbol 2 |\n",
        "| --- | --: |  ---: |\n",
        "| cp | -1 | -1 |\n",
        "|minsplit | 170 | 1900 |\n",
        "|minbucket | 70 | 800 |\n",
        "|maxdepth | 7 | 3 |\n",
        "\n"
      ],
      "metadata": {
        "id": "tYcOIcwCdsEu"
      }
    },
    {
      "cell_type": "markdown",
      "source": [
        "## 7.3 Dos buenos modelos"
      ],
      "metadata": {
        "id": "r0NDA7GgdsEu"
      }
    },
    {
      "cell_type": "markdown",
      "source": [
        "Esta parte se debe correr con el runtime en lenguaje **R** Ir al menu, Runtime -> Change Runtime Tipe -> Runtime type -> R"
      ],
      "metadata": {
        "id": "21SJmGd7dsEv"
      }
    },
    {
      "cell_type": "markdown",
      "source": [
        "El tiempo de corrida es de alrededor de 50 minutos"
      ],
      "metadata": {
        "id": "Ne0e08KUt87w"
      }
    },
    {
      "cell_type": "markdown",
      "source": [
        "limpio el ambiente de R"
      ],
      "metadata": {
        "id": "q02SEGNwdsEv"
      }
    },
    {
      "cell_type": "code",
      "source": [
        "# limpio la memoria\n",
        "rm(list=ls(all.names=TRUE)) # remove all objects\n",
        "gc(full=TRUE, verbose=FALSE) # garbage collection"
      ],
      "metadata": {
        "id": "6c2ZJstWdsEw"
      },
      "execution_count": null,
      "outputs": []
    },
    {
      "cell_type": "markdown",
      "source": [
        "* Instalacion de la libreria  rpart.plot  para dibujar el arbol\n",
        "* invocacion de las librerias  **data.table** y  **rpart**"
      ],
      "metadata": {
        "id": "62MIW0r1dsEx"
      }
    },
    {
      "cell_type": "code",
      "source": [
        "# cargo las librerias que necesito\n",
        "require(\"data.table\")\n",
        "require(\"rpart\")\n",
        "require(\"parallel\")\n",
        "\n",
        "if (!require(\"primes\")) install.packages(\"primes\")\n",
        "require(\"primes\")\n",
        "\n",
        "require(\"ggplot2\")"
      ],
      "metadata": {
        "id": "2Ke4n-N8dsEy"
      },
      "execution_count": null,
      "outputs": []
    },
    {
      "cell_type": "markdown",
      "source": [
        "###  Accion a Realizar\n",
        "PARAM$semilla_primigenia  debe reemplazarse por SU primer semilla"
      ],
      "metadata": {
        "id": "UHSoeqi4dsEz"
      }
    },
    {
      "cell_type": "code",
      "source": [
        "PARAM <- list()\n",
        "PARAM$semilla_primigenia <- 102191\n",
        "PARAM$qsemillas <- 50\n",
        "PARAM$training_pct <- 70L     # entre 1 y 100\n"
      ],
      "metadata": {
        "id": "f08_sqfAdsEz"
      },
      "execution_count": null,
      "outputs": []
    },
    {
      "cell_type": "code",
      "source": [
        "# los dos arboles\n",
        "PARAM$rpart1 <- list (\n",
        "  \"cp\" = -1,\n",
        "  \"minsplit\" = 170,\n",
        "  \"minbucket\" = 70,\n",
        "  \"maxdepth\" = 7\n",
        ")\n",
        "\n",
        "\n",
        "PARAM$rpart2 <- list (\n",
        "  \"cp\" = -1,\n",
        "  \"minsplit\" = 1900,\n",
        "  \"minbucket\" = 800,\n",
        "  \"maxdepth\" = 3\n",
        ")\n"
      ],
      "metadata": {
        "id": "L735D9rydsE0"
      },
      "execution_count": null,
      "outputs": []
    },
    {
      "cell_type": "code",
      "source": [
        "# particionar agrega una columna llamada fold a un dataset\n",
        "#  que consiste en una particion estratificada segun agrupa\n",
        "\n",
        "# particionar( data=dataset, division=c(70,30),\n",
        "#  agrupa=clase_ternaria, seed=semilla)   crea una particion 70, 30\n",
        "\n",
        "particionar <- function(\n",
        "    data, division, agrupa = \"\",\n",
        "    campo = \"fold\", start = 1, seed = NA) {\n",
        "  if (!is.na(seed)) set.seed(seed)\n",
        "\n",
        "  bloque <- unlist(mapply(function(x, y) {\n",
        "    rep(y, x)\n",
        "  }, division, seq(from = start, length.out = length(division))))\n",
        "\n",
        "  data[, (campo) := sample(rep(bloque, ceiling(.N / length(bloque))))[1:.N],\n",
        "    by = agrupa\n",
        "  ]\n",
        "}\n"
      ],
      "metadata": {
        "id": "O56epLUGdsE1"
      },
      "execution_count": null,
      "outputs": []
    },
    {
      "cell_type": "code",
      "source": [
        "DosArbolesEstimarGanancia <- function(semilla, training_pct, param_rpart1, param_rpart2) {\n",
        "  # fuerzo impresion\n",
        "  print( paste( semilla, Sys.time()) )\n",
        "  flush.console()\n",
        "\n",
        "  # particiono estratificadamente el dataset\n",
        "  particionar(dataset,\n",
        "    division = c(training_pct, 100L -training_pct),\n",
        "    agrupa = \"clase_ternaria\",\n",
        "    seed = semilla # aqui se usa SU semilla\n",
        "  )\n",
        "\n",
        "  # genero el modelo\n",
        "  # predecir clase_ternaria a partir del resto\n",
        "  modelo1 <- rpart(\"clase_ternaria ~ .\",\n",
        "    data = dataset[fold == 1], # fold==1  es training,  el 70% de los datos\n",
        "    xval = 0,\n",
        "    control = param_rpart1\n",
        "  ) # aqui van los parametros del arbol\n",
        "\n",
        "  # aplico el modelo a los datos de testing\n",
        "  prediccion1 <- predict(modelo1, # el modelo que genere recien\n",
        "    dataset[fold == 2], # fold==2  es testing, el 30% de los datos\n",
        "    type = \"prob\"\n",
        "  ) # type= \"prob\"  es que devuelva la probabilidad\n",
        "\n",
        "\n",
        "  # calculo la ganancia en testing  qu es fold==2\n",
        "  ganancia_test1 <- dataset[\n",
        "    fold == 2,\n",
        "    sum(ifelse(prediccion1[, \"BAJA+2\"] > 0.025,\n",
        "      ifelse(clase_ternaria == \"BAJA+2\", 117000, -3000),\n",
        "      0\n",
        "    ))\n",
        "  ]\n",
        "\n",
        "  # escalo la ganancia como si fuera todo el dataset\n",
        "  ganancia_test_normalizada1 <- ganancia_test1 / (( 100 - training_pct ) / 100 )\n",
        "\n",
        "  modelo2 <- rpart(\"clase_ternaria ~ .\",\n",
        "    data = dataset[fold == 1], # fold==1  es training,  el 70% de los datos\n",
        "    xval = 0,\n",
        "    control = param_rpart2\n",
        "  ) # aqui van los parametros del arbol\n",
        "\n",
        "  # aplico el modelo a los datos de testing\n",
        "  prediccion2 <- predict(modelo2, # el modelo que genere recien\n",
        "    dataset[fold == 2], # fold==2  es testing, el 30% de los datos\n",
        "    type = \"prob\"\n",
        "  ) # type= \"prob\"  es que devuelva la probabilidad\n",
        "\n",
        "\n",
        "  # calculo la ganancia en testing  qu es fold==2\n",
        "  ganancia_test2 <- dataset[\n",
        "    fold == 2,\n",
        "    sum(ifelse(prediccion2[, \"BAJA+2\"] > 0.025,\n",
        "      ifelse(clase_ternaria == \"BAJA+2\", 117000, -3000),\n",
        "      0\n",
        "    ))\n",
        "  ]\n",
        "\n",
        "  # escalo la ganancia como si fuera todo el dataset\n",
        "  ganancia_test_normalizada2 <- ganancia_test2 / (( 100 - training_pct ) / 100 )\n",
        "\n",
        "  return(list(\n",
        "    \"semilla\" = semilla,\n",
        "    \"ganancia1\" = ganancia_test_normalizada1,\n",
        "    \"ganancia2\" = ganancia_test_normalizada2\n",
        "  ))\n",
        "}"
      ],
      "metadata": {
        "id": "Bv_NorLhdsE1"
      },
      "execution_count": null,
      "outputs": []
    },
    {
      "cell_type": "code",
      "source": [
        "# carpeta de trabajo\n",
        "setwd(\"/content/buckets/b1/exp\")\n",
        "experimento <- \"exp206\"\n",
        "dir.create(experimento, showWarnings=FALSE)\n",
        "setwd( paste0(\"/content/buckets/b1/exp/\", experimento ))"
      ],
      "metadata": {
        "id": "N9GarblIdsE3"
      },
      "execution_count": null,
      "outputs": []
    },
    {
      "cell_type": "code",
      "source": [
        "# lectura del dataset\n",
        "dataset <- fread(\"/content/datasets/dataset_pequeno.csv\")\n",
        "\n",
        "# trabajo solo con los datos con clase, es decir 202107\n",
        "dataset <- dataset[clase_ternaria != \"\"]"
      ],
      "metadata": {
        "id": "Z05r3wdTdsE3"
      },
      "execution_count": null,
      "outputs": []
    },
    {
      "cell_type": "code",
      "source": [
        "# genero numeros primos\n",
        "primos <- generate_primes(min = 100000, max = 1000000)\n",
        "set.seed(PARAM$semilla_primigenia) # inicializo\n",
        "\n",
        "# me quedo con PARAM$qsemillas   semillas\n",
        "PARAM$semillas <- sample(primos, PARAM$qsemillas )"
      ],
      "metadata": {
        "id": "m8ODrVrndsE4"
      },
      "execution_count": null,
      "outputs": []
    },
    {
      "cell_type": "code",
      "source": [
        "# la funcion mcmapply  llama a la funcion DosArbolesEstimarGanancia\n",
        "#  tantas veces como valores tenga el vector  PARAM$semillas\n",
        "Sys.time()\n",
        "\n",
        "salidas <- mcmapply( DosArbolesEstimarGanancia,\n",
        "  PARAM$semillas, # paso el vector de semillas\n",
        "  MoreArgs = list(PARAM$training_pct, PARAM$rpart1, PARAM$rpart2), # aqui paso el segundo parametro\n",
        "  SIMPLIFY = FALSE,\n",
        "  mc.cores = detectCores()\n",
        ")\n",
        "\n",
        "Sys.time()"
      ],
      "metadata": {
        "id": "KQBhUXxJdsE5"
      },
      "execution_count": null,
      "outputs": []
    },
    {
      "cell_type": "code",
      "source": [
        "# paso la lista a vector\n",
        "tb_salida <- rbindlist(salidas)\n",
        "tb_salida"
      ],
      "metadata": {
        "id": "N0eS1CFFdsE5"
      },
      "execution_count": null,
      "outputs": []
    },
    {
      "cell_type": "code",
      "source": [
        "grafico <- ggplot( tb_salida, aes(x=ganancia1), fill=\"green\", color=\"green\") + geom_density(alpha=0.25)  +\n",
        "             geom_density(data=tb_salida, aes(x=ganancia2), fill=\"purple\", color=\"purple\",  alpha=0.10)\n",
        "\n",
        "print(grafico)"
      ],
      "metadata": {
        "id": "6vf28ujAdsE6"
      },
      "execution_count": null,
      "outputs": []
    },
    {
      "cell_type": "code",
      "source": [
        "# imprimo en un .pdf  que va a la carpeta del experimento\n",
        "pdf(\"densidad_dos.pdf\")\n",
        "print(grafico)\n",
        "dev.off()"
      ],
      "metadata": {
        "id": "TA9lLa6-dsE6"
      },
      "execution_count": null,
      "outputs": []
    },
    {
      "cell_type": "code",
      "source": [
        "# medias de las ganancias\n",
        "print( tb_salida[ , list( \"arbol1\" = mean( ganancia1),  \"arbol2\" = mean(ganancia2) ) ] )\n"
      ],
      "metadata": {
        "id": "xAOpyZTqdsE7"
      },
      "execution_count": null,
      "outputs": []
    },
    {
      "cell_type": "code",
      "source": [
        "# probabilidad que m1 sea mayor a m2\n",
        "print( tb_salida[ , list( \"prob( m1 > m2)\" = sum(ganancia1 > ganancia2 )/ .N ) ]  )"
      ],
      "metadata": {
        "id": "8rdPIcfzgob7"
      },
      "execution_count": null,
      "outputs": []
    },
    {
      "cell_type": "markdown",
      "source": [
        "### Acciones a realizar\n",
        "* Reportar la  los resultados en la planilla colaborativa hoja  **C2-dosBuenos**\n"
      ],
      "metadata": {
        "id": "nNNJWYRadsE7"
      }
    },
    {
      "cell_type": "markdown",
      "source": [
        "\n",
        "\n",
        "---\n",
        "\n"
      ],
      "metadata": {
        "id": "LTBEq6SEdsE8"
      }
    },
    {
      "cell_type": "markdown",
      "source": [],
      "metadata": {
        "id": "ebcTZX7Sg1Le"
      }
    },
    {
      "cell_type": "markdown",
      "source": [
        "# 8 Test de Wilcoxon\n",
        "## Clase 02  Experimento 8"
      ],
      "metadata": {
        "id": "RAtn4x6Bg1u1"
      }
    },
    {
      "cell_type": "markdown",
      "source": [],
      "metadata": {
        "id": "RWxjnSsVg_ol"
      }
    },
    {
      "cell_type": "markdown",
      "source": [
        "## 8.1  Objetivos\n",
        "\n",
        "¿Como calcular la cantidad mínima de semillas que hacen falta para tener cierta certeza que un modelo es superior a otro?"
      ],
      "metadata": {
        "id": "Gf0LF3ywhAEU"
      }
    },
    {
      "cell_type": "markdown",
      "source": [
        "## 8.2  Introduccion\n",
        "\n",
        "| Hiperparámetro | Arbol 1 | Arbol 2 |\n",
        "| --- | --: |  ---: |\n",
        "| cp | -1 | -1 |\n",
        "|minsplit | 170 | 250 |\n",
        "|minbucket | 70 | 125 |\n",
        "|maxdepth | 7 | 20 |\n",
        "\n",
        "<br>\n",
        "<br>\n",
        "\n",
        "\n",
        "| ordinal | semilla | ganancia1 | ganancia2 | p-value |\n",
        "| --- | --- |  --- |  --- |  --- |\n",
        "| 1 |378821 | 41,470,000 | 37,790,000 | 1.000 |\n",
        "| 2 | 964333  | 48,480,000  | 43,660,000 | 0.500 |\n",
        "| 3 | 187049 | 50,610,000 | 47,840,000 | 0.250 |\n",
        "| 4 | 205151 | 45,580,000 | 44,490,000 | 0.125 |\n",
        "| 5 | 813697 | 52,780,000 | 46,750,000 |  0.063 |\n",
        "| 6 | 344719 | 49,970,000 | 44,300,000 | 0.031 |\n",
        "|7 |127217  |52,810,000 | 42,840,000 |0.016 |\n",
        "| 8 | 464371 | 43,060,000 | 37,300,000 | 0.008 |\n",
        "| 9 | 645137 | 49,660,000 |43,730,000 | 0.004|\n",
        "\n",
        "\n"
      ],
      "metadata": {
        "id": "k4PJGTDViZne"
      }
    },
    {
      "cell_type": "markdown",
      "source": [
        "## 8.3 Codigo Test de Wilcoxon"
      ],
      "metadata": {
        "id": "gAeSRdWRhg61"
      }
    },
    {
      "cell_type": "code",
      "source": [
        "# 1 sola ganancia\n",
        "wilcox.test(\n",
        "  c(41470000),\n",
        "  c(37790000),\n",
        "  paired = TRUE\n",
        ")\n"
      ],
      "metadata": {
        "id": "6r5M0J0HdsE8"
      },
      "execution_count": null,
      "outputs": []
    },
    {
      "cell_type": "code",
      "source": [
        "# 2 ganancias\n",
        "wilcox.test(\n",
        "  c(41470000, 48480000),\n",
        "  c(37790000, 43660000),\n",
        "  paired = TRUE\n",
        ")\n"
      ],
      "metadata": {
        "id": "1pscqL9vLzYE"
      },
      "execution_count": null,
      "outputs": []
    },
    {
      "cell_type": "code",
      "source": [
        "# 3 ganancias\n",
        "wilcox.test(\n",
        "  c(41470000, 48480000, 50610000),\n",
        "  c(37790000, 43660000, 47840000),\n",
        "  paired = TRUE\n",
        ")"
      ],
      "metadata": {
        "id": "p3f_mtKwhSHA"
      },
      "execution_count": null,
      "outputs": []
    },
    {
      "cell_type": "code",
      "source": [
        "# 4 ganancias\n",
        "wilcox.test(\n",
        "  c(41470000, 48480000, 50610000, 45580000),\n",
        "  c(37790000, 43660000, 47840000, 44490000),\n",
        "  paired = TRUE\n",
        ")\n"
      ],
      "metadata": {
        "id": "-ijX69r9hT6Z"
      },
      "execution_count": null,
      "outputs": []
    },
    {
      "cell_type": "code",
      "source": [
        "# 5 ganancias\n",
        "wilcox.test(\n",
        "  c(41470000, 48480000, 50610000, 45580000, 52780000),\n",
        "  c(37790000, 43660000, 47840000, 44490000, 46750000),\n",
        "  paired = TRUE\n",
        ")"
      ],
      "metadata": {
        "id": "X9J_CHGehVfr"
      },
      "execution_count": null,
      "outputs": []
    },
    {
      "cell_type": "code",
      "source": [
        "# 6 ganancias\n",
        "wilcox.test(\n",
        "  c(41470000, 48480000, 50610000, 45580000, 52780000, 49970000),\n",
        "  c(37790000, 43660000, 47840000, 44490000, 46750000, 44300000),\n",
        "  paired = TRUE\n",
        ")"
      ],
      "metadata": {
        "id": "H3CNNonOhXp0"
      },
      "execution_count": null,
      "outputs": []
    },
    {
      "cell_type": "code",
      "source": [
        "# Finalmente el p-value es  0.03125  < 0.05\n",
        "# hicieron falta  SEIS semillas, seis ganancias, para\n",
        "#   afirmar que el modelo 1 es superior al modelo 2\n",
        "\n",
        "# 7 ganancias\n",
        "wilcox.test(\n",
        "  c(41470000, 48480000, 50610000, 45580000, 52780000, 49970000, 52810000),\n",
        "  c(37790000, 43660000, 47840000, 44490000, 46750000, 44300000, 42840000),\n",
        "  paired = TRUE\n",
        ")\n"
      ],
      "metadata": {
        "id": "NTW8kwY8hamz"
      },
      "execution_count": null,
      "outputs": []
    },
    {
      "cell_type": "code",
      "source": [
        "# 8 ganancias\n",
        "wilcox.test(\n",
        "  c(41470000, 48480000, 50610000, 45580000, 52780000, 49970000, 52810000, 43060000),\n",
        "  c(37790000, 43660000, 47840000, 44490000, 46750000, 44300000, 42840000, 37300000),\n",
        "  paired = TRUE\n",
        ")\n"
      ],
      "metadata": {
        "id": "Xks918w8hcgC"
      },
      "execution_count": null,
      "outputs": []
    },
    {
      "cell_type": "code",
      "source": [
        "# 9 ganancias\n",
        "wilcox.test(\n",
        "  c(41470000, 48480000, 50610000, 45580000, 52780000, 49970000, 52810000, 43060000, 49660000),\n",
        "  c(37790000, 43660000, 47840000, 44490000, 46750000, 44300000, 42840000, 37300000, 43730000),\n",
        "  paired = TRUE\n",
        ")"
      ],
      "metadata": {
        "id": "5x8L1PMGhdJR"
      },
      "execution_count": null,
      "outputs": []
    },
    {
      "cell_type": "markdown",
      "source": [
        "\n",
        "\n",
        "---\n",
        "\n"
      ],
      "metadata": {
        "id": "Qjay2WBIkhNm"
      }
    },
    {
      "cell_type": "markdown",
      "source": [
        "# 9 Comparando automaticamente modelos con test de Wilcoxon\n",
        "## Clase 02  Experimento 9"
      ],
      "metadata": {
        "id": "g2aqxlCIk3fk"
      }
    },
    {
      "cell_type": "markdown",
      "source": [],
      "metadata": {
        "id": "FhCY4sH8k3fw"
      }
    },
    {
      "cell_type": "markdown",
      "source": [
        "## 9.1  Objetivos\n",
        "\n",
        "Proveer un script que permita comparar dos arboles de decisión con la librería rpart utilizando la menor cantidad de cómputo que permita el Test de Wilxcoxon"
      ],
      "metadata": {
        "id": "a_ZVBKBHk3fx"
      }
    },
    {
      "cell_type": "markdown",
      "source": [
        "## 9.2  Introduccion\n",
        "\n",
        "| Hiperparámetro | Arbol 1 | Arbol 2 |\n",
        "| --- | --- |  --- |\n",
        "| cp | -1 | -1 |\n",
        "|minsplit | 1050 | 650 |\n",
        "|minbucket | 550 | 300 |\n",
        "|maxdepth |67 | 6 |\n",
        "\n",
        "\n"
      ],
      "metadata": {
        "id": "qCd56L0Ik3fx"
      }
    },
    {
      "cell_type": "markdown",
      "source": [
        "## 9.3 Codigo comparacion automatica Wilcoxon"
      ],
      "metadata": {
        "id": "NBtQsG3vk3fx"
      }
    },
    {
      "cell_type": "markdown",
      "source": [
        "Esta parte se debe correr con el runtime en lenguaje **R** Ir al menu, Runtime -> Change Runtime Tipe -> Runtime type -> R"
      ],
      "metadata": {
        "id": "-ARzDPORlpG6"
      }
    },
    {
      "cell_type": "markdown",
      "source": [
        "limpio el ambiente de R"
      ],
      "metadata": {
        "id": "-Sy-sLMXlpHI"
      }
    },
    {
      "cell_type": "code",
      "source": [
        "# limpio la memoria\n",
        "rm(list=ls(all.names=TRUE)) # remove all objects\n",
        "gc(full=TRUE, verbose=FALSE) # garbage collection"
      ],
      "metadata": {
        "id": "ZpST7lcHlpHI"
      },
      "execution_count": null,
      "outputs": []
    },
    {
      "cell_type": "markdown",
      "source": [
        "* Instalacion de la libreria  rpart.plot  para dibujar el arbol\n",
        "* invocacion de las librerias  **data.table** y  **rpart**"
      ],
      "metadata": {
        "id": "jHhAx3cvlpHJ"
      }
    },
    {
      "cell_type": "code",
      "source": [
        "# cargo las librerias que necesito\n",
        "require(\"data.table\")\n",
        "require(\"rpart\")\n",
        "require(\"parallel\")\n",
        "\n",
        "if (!require(\"primes\")) install.packages(\"primes\")\n",
        "require(\"primes\")\n",
        "\n",
        "require(\"ggplot2\")"
      ],
      "metadata": {
        "id": "cbPnXeeqlpHJ"
      },
      "execution_count": null,
      "outputs": []
    },
    {
      "cell_type": "markdown",
      "source": [
        "###  Accion a Realizar\n",
        "PARAM$semilla_primigenia  debe reemplazarse por SU primer semilla"
      ],
      "metadata": {
        "id": "_GQk_NEUlpHK"
      }
    },
    {
      "cell_type": "code",
      "source": [
        "PARAM <- list()\n",
        "PARAM$semilla_primigenia <- 102191\n",
        "PARAM$qsemillas_tope <- 50\n",
        "PARAM$training_pct <- 70L     # entre 1 y 100\n"
      ],
      "metadata": {
        "id": "Do801PIHlpHK"
      },
      "execution_count": null,
      "outputs": []
    },
    {
      "cell_type": "code",
      "source": [
        "# los dos arboles\n",
        "PARAM$rpart1 <- list (\n",
        "  \"cp\" = -1,\n",
        "  \"minsplit\" = 800,\n",
        "  \"minbucket\" = 400,\n",
        "  \"maxdepth\" = 7\n",
        ")\n",
        "\n",
        "\n",
        "PARAM$rpart2 <- list (\n",
        "  \"cp\" = -1,\n",
        "  \"minsplit\" = 650,\n",
        "  \"minbucket\" = 300,\n",
        "  \"maxdepth\" = 6\n",
        ")\n"
      ],
      "metadata": {
        "id": "KlC7gTc7lpHK"
      },
      "execution_count": null,
      "outputs": []
    },
    {
      "cell_type": "code",
      "source": [
        "# particionar agrega una columna llamada fold a un dataset\n",
        "#  que consiste en una particion estratificada segun agrupa\n",
        "\n",
        "# particionar( data=dataset, division=c(70,30),\n",
        "#  agrupa=clase_ternaria, seed=semilla)   crea una particion 70, 30\n",
        "\n",
        "particionar <- function(\n",
        "    data, division, agrupa = \"\",\n",
        "    campo = \"fold\", start = 1, seed = NA) {\n",
        "  if (!is.na(seed)) set.seed(seed)\n",
        "\n",
        "  bloque <- unlist(mapply(function(x, y) {\n",
        "    rep(y, x)\n",
        "  }, division, seq(from = start, length.out = length(division))))\n",
        "\n",
        "  data[, (campo) := sample(rep(bloque, ceiling(.N / length(bloque))))[1:.N],\n",
        "    by = agrupa\n",
        "  ]\n",
        "}\n"
      ],
      "metadata": {
        "id": "I7hOkZrxlpHL"
      },
      "execution_count": null,
      "outputs": []
    },
    {
      "cell_type": "code",
      "source": [
        "DosArbolesEstimarGanancia <- function(semilla, training_pct, param_rpart1, param_rpart2) {\n",
        "  # particiono estratificadamente el dataset\n",
        "  particionar(dataset,\n",
        "    division = c(training_pct, 100L -training_pct),\n",
        "    agrupa = \"clase_ternaria\",\n",
        "    seed = semilla # aqui se usa SU semilla\n",
        "  )\n",
        "\n",
        "  # genero el modelo\n",
        "  # predecir clase_ternaria a partir del resto\n",
        "  modelo1 <- rpart(\"clase_ternaria ~ .\",\n",
        "    data = dataset[fold == 1], # fold==1  es training,  el 70% de los datos\n",
        "    xval = 0,\n",
        "    control = param_rpart1\n",
        "  ) # aqui van los parametros del arbol\n",
        "\n",
        "  # aplico el modelo a los datos de testing\n",
        "  prediccion1 <- predict(modelo1, # el modelo que genere recien\n",
        "    dataset[fold == 2], # fold==2  es testing, el 30% de los datos\n",
        "    type = \"prob\"\n",
        "  ) # type= \"prob\"  es que devuelva la probabilidad\n",
        "\n",
        "\n",
        "  # calculo la ganancia en testing  qu es fold==2\n",
        "  ganancia_test1 <- dataset[\n",
        "    fold == 2,\n",
        "    sum(ifelse(prediccion1[, \"BAJA+2\"] > 0.025,\n",
        "      ifelse(clase_ternaria == \"BAJA+2\", 117000, -3000),\n",
        "      0\n",
        "    ))\n",
        "  ]\n",
        "\n",
        "  # escalo la ganancia como si fuera todo el dataset\n",
        "  ganancia_test_normalizada1 <- ganancia_test1 / (( 100 - training_pct ) / 100 )\n",
        "\n",
        "  modelo2 <- rpart(\"clase_ternaria ~ .\",\n",
        "    data = dataset[fold == 1], # fold==1  es training,  el 70% de los datos\n",
        "    xval = 0,\n",
        "    control = param_rpart2\n",
        "  ) # aqui van los parametros del arbol\n",
        "\n",
        "  # aplico el modelo a los datos de testing\n",
        "  prediccion2 <- predict(modelo2, # el modelo que genere recien\n",
        "    dataset[fold == 2], # fold==2  es testing, el 30% de los datos\n",
        "    type = \"prob\"\n",
        "  ) # type= \"prob\"  es que devuelva la probabilidad\n",
        "\n",
        "\n",
        "  # calculo la ganancia en testing  qu es fold==2\n",
        "  ganancia_test2 <- dataset[\n",
        "    fold == 2,\n",
        "    sum(ifelse(prediccion2[, \"BAJA+2\"] > 0.025,\n",
        "      ifelse(clase_ternaria == \"BAJA+2\", 117000, -3000),\n",
        "      0\n",
        "    ))\n",
        "  ]\n",
        "\n",
        "  # escalo la ganancia como si fuera todo el dataset\n",
        "  ganancia_test_normalizada2 <- ganancia_test2 / (( 100 - training_pct ) / 100 )\n",
        "\n",
        "  return(list(\n",
        "    \"semilla\" = semilla,\n",
        "    \"ganancia1\" = ganancia_test_normalizada1,\n",
        "    \"ganancia2\" = ganancia_test_normalizada2\n",
        "  ))\n",
        "}"
      ],
      "metadata": {
        "id": "vFpBSFBYlpHL"
      },
      "execution_count": null,
      "outputs": []
    },
    {
      "cell_type": "code",
      "source": [
        "# 1  ->  el modelo 1 es mejor\n",
        "# 2  ->  el modelo 2 es mejor\n",
        "# 0  ->  No se pudo determinar con el tope de qsemillas_tope\n",
        "\n",
        "\n",
        "MejorArbol <- function( qsemillas_tope, training_pct, param_rpart1, param_rpart2) {\n",
        "\n",
        "  # genero numeros primos\n",
        "  primos <- generate_primes(min = 100000, max = 1000000)\n",
        "  set.seed(PARAM$semilla_primigenia) # inicializo\n",
        "  # me quedo con PARAM$qsemillas   semillas\n",
        "  semillas <- sample(primos, qsemillas_tope )\n",
        "\n",
        "  pvalue <- 1.0\n",
        "  isem <- 1\n",
        "  vgan1 <- c() # almaceno ganancias del modelo1\n",
        "  vgan2 <- c() # almaceno ganancias del modelo2\n",
        "\n",
        "  while( (isem <= qsemillas_tope)  & (pvalue > 0.05) ) {\n",
        "\n",
        "    res <- DosArbolesEstimarGanancia(\n",
        "       semillas[ isem ],\n",
        "       training_pct,\n",
        "       param_rpart1,\n",
        "       param_rpart2\n",
        "    )\n",
        "\n",
        "    vgan1 <- c( vgan1, res$ganancia1 )\n",
        "    vgan2 <- c( vgan2, res$ganancia2 )\n",
        "\n",
        "    wt <- wilcox.test( vgan1, vgan2, paired=TRUE )\n",
        "    pvalue <- wt$p.value\n",
        "\n",
        "    cat( isem, res$ganancia1, res$ganancia2, pvalue, \"\\n\" )\n",
        "    flush.console()\n",
        "    isem <- isem + 1\n",
        "  }\n",
        "\n",
        "  out <- 0\n",
        "\n",
        "  if( pvalue < 0.05 & mean(vgan1) > mean(vgan2)  )  out <- 1\n",
        "  if( pvalue < 0.05 & mean(vgan1) < mean(vgan2)  )  out <- 2\n",
        "\n",
        "\n",
        "  return( list( \"out\" = out,\n",
        "    \"qsemillas\" = length(vgan1),\n",
        "    \"m1\" = mean( vgan1 ),\n",
        "    \"m2\" = mean( vgan2 )\n",
        "   ) )\n",
        "}\n"
      ],
      "metadata": {
        "id": "Cp8RnA_NmE8g"
      },
      "execution_count": null,
      "outputs": []
    },
    {
      "cell_type": "code",
      "source": [
        "# carpeta de trabajo\n",
        "setwd(\"/content/buckets/b1/exp\")\n",
        "experimento <- \"exp209\"\n",
        "dir.create(experimento, showWarnings=FALSE)\n",
        "setwd( paste0(\"/content/buckets/b1/exp/\", experimento ))"
      ],
      "metadata": {
        "id": "r1motpfOlpHM"
      },
      "execution_count": null,
      "outputs": []
    },
    {
      "cell_type": "code",
      "source": [
        "# lectura del dataset\n",
        "dataset <- fread(\"/content/datasets/dataset_pequeno.csv\")\n",
        "\n",
        "# trabajo solo con los datos con clase, es decir 202107\n",
        "dataset <- dataset[clase_ternaria != \"\"]"
      ],
      "metadata": {
        "id": "hT0LaKWumTSu"
      },
      "execution_count": null,
      "outputs": []
    },
    {
      "cell_type": "code",
      "source": [
        "Sys.time()\n",
        "\n",
        "comparacion <- MejorArbol(\n",
        "   PARAM$qsemillas_tope,\n",
        "   PARAM$training_pct,\n",
        "   PARAM$rpart1,\n",
        "   PARAM$rpart2\n",
        " )\n",
        "\n",
        "\n",
        "print( comparacion )\n",
        "\n",
        "Sys.time()"
      ],
      "metadata": {
        "id": "wsk0F77ambVW"
      },
      "execution_count": null,
      "outputs": []
    },
    {
      "cell_type": "markdown",
      "source": [
        "### Acciones a realizar\n",
        "* Reportar la  los resultados en la planilla colaborativa hoja  **C2-Wilcox**\n"
      ],
      "metadata": {
        "id": "d2br1bgJlpHQ"
      }
    },
    {
      "cell_type": "markdown",
      "source": [
        "\n",
        "\n",
        "---\n",
        "\n"
      ],
      "metadata": {
        "id": "x7SebtV2lpHQ"
      }
    }
  ]
}