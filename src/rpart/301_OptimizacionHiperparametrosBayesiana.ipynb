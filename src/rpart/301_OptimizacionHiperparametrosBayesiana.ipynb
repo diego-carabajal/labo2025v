{
  "nbformat": 4,
  "nbformat_minor": 0,
  "metadata": {
    "colab": {
      "provenance": [],
      "include_colab_link": true
    },
    "kernelspec": {
      "name": "ir",
      "display_name": "R"
    },
    "language_info": {
      "name": "R"
    }
  },
  "cells": [
    {
      "cell_type": "markdown",
      "metadata": {
        "id": "view-in-github",
        "colab_type": "text"
      },
      "source": [
        "<a href=\"https://colab.research.google.com/github/diego-carabajal/labo2025v/blob/main/src/rpart/301_OptimizacionHiperparametrosBayesiana.ipynb\" target=\"_parent\"><img src=\"https://colab.research.google.com/assets/colab-badge.svg\" alt=\"Open In Colab\"/></a>"
      ]
    },
    {
      "cell_type": "markdown",
      "metadata": {
        "id": "5DrvzQ9BsXmX"
      },
      "source": [
        "# 3 Optimización de Hiperpárametros"
      ]
    },
    {
      "cell_type": "markdown",
      "source": [
        "## 3.01 Introduccion\n",
        "En general los algoritmos que generan modelos predictivos poseen hiperparámetros que *dado un dataset* deben ser optimizados.\n",
        "<br> La invocación de uno de esos algoritmos sin hiperparámetros no es más que\n",
        "invocarlos con hiperparámetros por default definidos por el fabricante. Por ejemplo en el caso de la librería **rpart** es cp=0.01, maxdepth=30, minsplit=20, minbucket=6,  lo que en nuestro dataset genera un arbol de un solo nodo (decimos \"no se abre el arbol\"); la razon de esto es la proporcion de \"BAJA+1\" y \"BAJA+2\""
      ],
      "metadata": {
        "id": "ChXVnCOOuqOu"
      }
    },
    {
      "cell_type": "markdown",
      "source": [
        "En el primer notebook de la asignatura usted probó optimizar manualmente los hiperparámetros entrenando en un mes completo y viendo los resultados directamente en el Public Leaderboard, que es una porción de los datos de futuro.\n",
        "<br> En el mundo real no se dispone jamás de la clase del futuro, con lo cual lo anterior es meramente un artifical divertimento.\n",
        "<br> La solución es estimar la bondad de un set de hiperparámetros en alguna combinación de:\n",
        "  * Una sola partición de  <training, testing>\n",
        "  * Multiples particiones de <training, testing>\n",
        "  * El método de  k-fold Cross Validation , generalmente con n>=5\n",
        "  * Utilizar   n-repated  k-fold Cross Validation\n",
        "  * Leave One Out  si la cardinalidad del dataset y el poder de cómputo se lo permiten"
      ],
      "metadata": {
        "id": "kXI3gt3iwNzg"
      }
    },
    {
      "cell_type": "markdown",
      "source": [
        "Luego de comenzar a trabajar con el método de  \"Multiples particiones de <training, testing>  se le invitó a extender un esqueleto de código del método de **Optimización de Hiperparámetros por Grid Search**"
      ],
      "metadata": {
        "id": "Max6K39SxSRc"
      }
    },
    {
      "cell_type": "markdown",
      "source": [
        "## 3.02 Conceptos\n",
        "\n",
        "En esta entrega veremos los siguiente conceptos:\n",
        "* El origen del overfitting en un arbol de decisión\n",
        "* *La maldición del ganador*, overfitting en los hiperparámetros ganadores, Selective Inference\n",
        "* Data Drifting\n",
        "* Alterntivas de búsqueda\n",
        "  * Grid Search, la fuerza bruta\n",
        "  * Bayesian Optimization, la heurística"
      ],
      "metadata": {
        "id": "V0uWfedQ0CgK"
      }
    },
    {
      "cell_type": "markdown",
      "source": [
        "## 3.03  Corrida notebook inicial\n",
        "\n",
        "En el repositorio oficial de la asignatura se encuentra el notebook ./src/rpart/z102_FinalTrain.ipynb  que automaticamente hace el submit a la Competencia Analista Sr  de Kaggle.\n",
        "<br>  Ingrese a un nuevo Google Colab  y pruebe algunas corridas del notebook cambiando los hiperparámetros de rpart"
      ],
      "metadata": {
        "id": "xcdjPTy0_7ud"
      }
    },
    {
      "cell_type": "markdown",
      "source": [
        "## 3.04 Origen del Overfitting en un arbol de decisión\n",
        "¿Qué combinacion de hiperparámetros overfitea un árbol de decisión, para nuestro dataset?\n",
        "<br>¿Cómo se ve el overfitting desde el punto de vista de las curvas de ganancia?"
      ],
      "metadata": {
        "id": "Cv_td2pLawzc"
      }
    },
    {
      "cell_type": "markdown",
      "source": [
        "El objetivo de este capítulo es que usted juegue manualmente con los hiperparámetros de un rpart, observe las curvas de ganancia generadas en una particion <training=50%, testing=50%>  y obtengla conclusiones sobre el fenómeno observado."
      ],
      "metadata": {
        "id": "vyO0nseY5e6M"
      }
    },
    {
      "cell_type": "markdown",
      "source": [
        "Introducimos el concepto de **Curva de Ganancia**\n",
        "<br> Al aplicar un modelo a un dataset se le asigna a cada registro una probabilidad, a su vez cada registro contribuye con una ganancia la que puede ser una pérdida o una ganancia.  \n",
        "<br>Ordenamos el dataset por probabilidad *descendente* y computamos la ganancia acumulada, generando de esta forma la curva de ganancia\n",
        "<br> Para visualizar el efecto del under/over  fitting adecuadamente, realizamos una particion  <training= 50%, testing= 50%>\n",
        "\n"
      ],
      "metadata": {
        "id": "Zyo3JVGn24zE"
      }
    },
    {
      "cell_type": "markdown",
      "source": [
        "tener presente:\n",
        "<br> Overfitting  **NO**  es la diferencia entre las curvas\n",
        "<br> Lo que divide el underfitting del overfitting al aumentar la complejidad del modelo es la complejidad donde se alcanza la métrica máxima."
      ],
      "metadata": {
        "id": "HXVdNC0R4FZe"
      }
    },
    {
      "cell_type": "markdown",
      "source": [
        "### ¿Qué debe hacer usted?\n",
        "Probar al menos estas combinaciones:\n",
        "* **Arbol crecimiento descontrolado**\n",
        "   * cp= -1\n",
        "   * maxdepth= 30\n",
        "   * minsplit= 2\n",
        "   * minbucket= 1\n",
        "* Arbol talla reducida\n",
        "   * cp= -1\n",
        "   * maxdepth= 3\n",
        "   * minsplit= 20000\n",
        "   * minbucket= 10000\n"
      ],
      "metadata": {
        "id": "a1p3BNOU7x_X"
      }
    },
    {
      "cell_type": "markdown",
      "metadata": {
        "id": "3m0ySYPfa7Zr"
      },
      "source": [
        "#### Seteo del ambiente en Google Colab"
      ]
    },
    {
      "cell_type": "markdown",
      "metadata": {
        "id": "NGY7H9xza7Zr"
      },
      "source": [
        "Esta parte se debe correr con el runtime en Python3\n",
        "<br>Ir al menu, Runtime -> Change Runtime Type -> Runtime type ->  **Python 3**"
      ]
    },
    {
      "cell_type": "markdown",
      "metadata": {
        "id": "7PupIBNba7Zr"
      },
      "source": [
        "Conectar la virtual machine donde esta corriendo Google Colab con el  Google Drive, para poder tener persistencia de archivos"
      ]
    },
    {
      "cell_type": "code",
      "execution_count": 1,
      "metadata": {
        "id": "9LpZCst5a7Zs",
        "outputId": "3c476bd9-0f35-4dcf-9a42-ccf323255e6b",
        "colab": {
          "base_uri": "https://localhost:8080/"
        }
      },
      "outputs": [
        {
          "output_type": "stream",
          "name": "stdout",
          "text": [
            "Mounted at /content/.drive\n"
          ]
        }
      ],
      "source": [
        "# primero establecer el Runtime de Python 3\n",
        "from google.colab import drive\n",
        "drive.mount('/content/.drive')"
      ]
    },
    {
      "cell_type": "markdown",
      "metadata": {
        "id": "JYC_F-wla7Zs"
      },
      "source": [
        "Para correr la siguiente celda es fundamental en Arranque en Frio haber copiado el archivo kaggle.json al Google Drive, en la carpeta indicada en el instructivo\n",
        "\n",
        "<br>los siguientes comando estan en shell script de Linux\n",
        "*   Crear las carpetas en el Google Drive\n",
        "*   \"instalar\" el archivo kaggle.json desde el Google Drive a la virtual machine para que pueda ser utilizado por la libreria  kaggle de Python\n",
        "*   Bajar el  **dataset_pequeno**  al  Google Drive  y tambien al disco local de la virtual machine que esta corriendo Google Colab\n",
        "\n"
      ]
    },
    {
      "cell_type": "code",
      "execution_count": 2,
      "metadata": {
        "id": "XWLelftXa7Zt",
        "outputId": "580c8b78-b635-40e8-90e5-7d1f6425098b",
        "colab": {
          "base_uri": "https://localhost:8080/"
        }
      },
      "outputs": [
        {
          "output_type": "execute_result",
          "data": {
            "text/plain": []
          },
          "metadata": {},
          "execution_count": 2
        }
      ],
      "source": [
        "%%shell\n",
        "\n",
        "mkdir -p \"/content/.drive/My Drive/labo1\"\n",
        "mkdir -p \"/content/buckets\"\n",
        "ln -s \"/content/.drive/My Drive/labo1\" /content/buckets/b1\n",
        "\n",
        "mkdir -p ~/.kaggle\n",
        "cp /content/buckets/b1/kaggle/kaggle.json  ~/.kaggle\n",
        "chmod 600 ~/.kaggle/kaggle.json\n",
        "\n",
        "\n",
        "mkdir -p /content/buckets/b1/exp\n",
        "mkdir -p /content/buckets/b1/datasets\n",
        "mkdir -p /content/datasets\n",
        "\n",
        "\n",
        "\n",
        "archivo_origen=\"https://storage.googleapis.com/open-courses/austral2025-af91/dataset_pequeno.csv\"\n",
        "archivo_destino=\"/content/datasets/dataset_pequeno.csv\"\n",
        "archivo_destino_bucket=\"/content/buckets/b1/datasets/dataset_pequeno.csv\"\n",
        "\n",
        "if ! test -f $archivo_destino_bucket; then\n",
        "  wget  $archivo_origen  -O $archivo_destino_bucket\n",
        "fi\n",
        "\n",
        "\n",
        "if ! test -f $archivo_destino; then\n",
        "  cp  $archivo_destino_bucket  $archivo_destino\n",
        "fi"
      ]
    },
    {
      "cell_type": "markdown",
      "metadata": {
        "id": "JxhSJ-oqb-r6"
      },
      "source": [
        "Esta parte se debe correr con el runtime en lenguaje **R** Ir al menu, Runtime -> Change Runtime Type -> Runtime type -> R"
      ]
    },
    {
      "cell_type": "markdown",
      "metadata": {
        "id": "ls15rN6Ob-r7"
      },
      "source": [
        "limpio el ambiente de R"
      ]
    },
    {
      "cell_type": "code",
      "execution_count": 1,
      "metadata": {
        "id": "QrRq-FePb-r7",
        "outputId": "1ae7e451-3691-4efc-bb02-8ffe44056a9e",
        "colab": {
          "base_uri": "https://localhost:8080/",
          "height": 129
        }
      },
      "outputs": [
        {
          "output_type": "display_data",
          "data": {
            "text/html": [
              "<table class=\"dataframe\">\n",
              "<caption>A matrix: 2 × 6 of type dbl</caption>\n",
              "<thead>\n",
              "\t<tr><th></th><th scope=col>used</th><th scope=col>(Mb)</th><th scope=col>gc trigger</th><th scope=col>(Mb)</th><th scope=col>max used</th><th scope=col>(Mb)</th></tr>\n",
              "</thead>\n",
              "<tbody>\n",
              "\t<tr><th scope=row>Ncells</th><td> 657244</td><td>35.2</td><td>1454451</td><td>77.7</td><td>1326125</td><td>70.9</td></tr>\n",
              "\t<tr><th scope=row>Vcells</th><td>1220271</td><td> 9.4</td><td>8388608</td><td>64.0</td><td>1975128</td><td>15.1</td></tr>\n",
              "</tbody>\n",
              "</table>\n"
            ],
            "text/markdown": "\nA matrix: 2 × 6 of type dbl\n\n| <!--/--> | used | (Mb) | gc trigger | (Mb) | max used | (Mb) |\n|---|---|---|---|---|---|---|\n| Ncells |  657244 | 35.2 | 1454451 | 77.7 | 1326125 | 70.9 |\n| Vcells | 1220271 |  9.4 | 8388608 | 64.0 | 1975128 | 15.1 |\n\n",
            "text/latex": "A matrix: 2 × 6 of type dbl\n\\begin{tabular}{r|llllll}\n  & used & (Mb) & gc trigger & (Mb) & max used & (Mb)\\\\\n\\hline\n\tNcells &  657244 & 35.2 & 1454451 & 77.7 & 1326125 & 70.9\\\\\n\tVcells & 1220271 &  9.4 & 8388608 & 64.0 & 1975128 & 15.1\\\\\n\\end{tabular}\n",
            "text/plain": [
              "       used    (Mb) gc trigger (Mb) max used (Mb)\n",
              "Ncells  657244 35.2 1454451    77.7 1326125  70.9\n",
              "Vcells 1220271  9.4 8388608    64.0 1975128  15.1"
            ]
          },
          "metadata": {}
        }
      ],
      "source": [
        "# limpio la memoria\n",
        "rm(list=ls(all.names=TRUE)) # remove all objects\n",
        "gc(full=TRUE, verbose=FALSE) # garbage collection"
      ]
    },
    {
      "cell_type": "code",
      "execution_count": 2,
      "metadata": {
        "id": "IIeRpVlZb-r8",
        "outputId": "60b56c02-852d-4454-bb24-4be6b322c93a",
        "colab": {
          "base_uri": "https://localhost:8080/"
        }
      },
      "outputs": [
        {
          "output_type": "stream",
          "name": "stderr",
          "text": [
            "Loading required package: data.table\n",
            "\n",
            "Loading required package: rpart\n",
            "\n",
            "Loading required package: ggplot2\n",
            "\n"
          ]
        }
      ],
      "source": [
        "# cargo las librerias que necesito\n",
        "require(\"data.table\")\n",
        "require(\"rpart\")\n",
        "require(\"ggplot2\")"
      ]
    },
    {
      "cell_type": "code",
      "source": [
        "# carpeta de trabajo\n",
        "setwd(\"/content/buckets/b1/exp\")\n",
        "experimento <- \"exp304\"\n",
        "dir.create(experimento, showWarnings=FALSE)\n",
        "setwd( paste0(\"/content/buckets/b1/exp/\", experimento ))"
      ],
      "metadata": {
        "id": "3Wb-iYIGb-r8"
      },
      "execution_count": null,
      "outputs": []
    },
    {
      "cell_type": "markdown",
      "source": [
        "### Acción :  Jugar con  minsplit, minbucket y maxdepth"
      ],
      "metadata": {
        "id": "DjLKeoBHhhNP"
      }
    },
    {
      "cell_type": "code",
      "source": [
        "# cambiar aqui los parametros\n",
        "PARAM <- list()\n",
        "PARAM$semilla_primigenia <- 100109\n",
        "\n",
        "\n",
        "PARAM$minsplit <- 300\n",
        "PARAM$minbucket <- 20\n",
        "PARAM$maxdepth <- 11"
      ],
      "metadata": {
        "id": "b-kYnwWzcRHK"
      },
      "execution_count": null,
      "outputs": []
    },
    {
      "cell_type": "code",
      "source": [
        "# particionar agrega una columna llamada fold a un dataset\n",
        "#   que consiste en una particion estratificada segun agrupa\n",
        "# particionar( data=dataset, division=c(70,30),\n",
        "#  agrupa=clase_ternaria, seed=semilla)   crea una particion 70, 30\n",
        "\n",
        "particionar <- function(data, division, agrupa= \"\", campo= \"fold\", start= 1, seed= NA) {\n",
        "  if (!is.na(seed)) set.seed(seed)\n",
        "\n",
        "  bloque <- unlist(mapply(\n",
        "    function(x, y) {rep(y, x)},division, seq(from= start, length.out= length(division))))\n",
        "\n",
        "  data[, (campo) := sample(rep(bloque,ceiling(.N / length(bloque))))[1:.N],by= agrupa]\n",
        "}\n"
      ],
      "metadata": {
        "id": "ZqrrKQ5xcSvG"
      },
      "execution_count": null,
      "outputs": []
    },
    {
      "cell_type": "code",
      "source": [
        "# lectura del dataset\n",
        "\n",
        "dataset <- fread(\"/content/datasets/dataset_pequeno.csv\")"
      ],
      "metadata": {
        "id": "9pwX8GTacf3Z"
      },
      "execution_count": null,
      "outputs": []
    },
    {
      "cell_type": "code",
      "source": [
        "# a partir de ahora solo trabajo con 202107, el mes que tiene clase\n",
        "\n",
        "dataset <- dataset[foto_mes == 202107] # defino donde voy a entrenar"
      ],
      "metadata": {
        "id": "IaC-Ju2-ch-W"
      },
      "execution_count": null,
      "outputs": []
    },
    {
      "cell_type": "code",
      "source": [
        "# La division training/testing es 50%, 50%\n",
        "#  que sea 50/50 se indica con el c(1,1)\n",
        "\n",
        "particionar(dataset,\n",
        "  division= c(1, 1),\n",
        "  agrupa= \"clase_ternaria\",\n",
        "  seed= PARAM$semilla_primigenia\n",
        ")"
      ],
      "metadata": {
        "id": "eKJeTb1icluu"
      },
      "execution_count": null,
      "outputs": []
    },
    {
      "cell_type": "code",
      "source": [
        "# Entreno el modelo\n",
        "# los datos donde voy a entrenar\n",
        "# aqui es donde se deben probar distintos hiperparametros\n",
        "\n",
        "modelo <- rpart(\n",
        "  formula= \"clase_ternaria ~ . -fold\",\n",
        "  data= dataset[fold == 1, ],\n",
        "  xval= 0,\n",
        "  cp= -1,\n",
        "  minsplit= PARAM$minsplit,\n",
        "  minbucket= PARAM$minbucket,\n",
        "  maxdepth= PARAM$maxdepth\n",
        ")"
      ],
      "metadata": {
        "id": "v5Fuek3mc1Qx"
      },
      "execution_count": null,
      "outputs": []
    },
    {
      "cell_type": "code",
      "source": [
        "# aplico el modelo a TODOS los datos, inclusive los de training\n",
        "prediccion <- predict(modelo, dataset, type= \"prob\")"
      ],
      "metadata": {
        "id": "zjFQmTkFdGn8"
      },
      "execution_count": null,
      "outputs": []
    },
    {
      "cell_type": "code",
      "source": [
        "# Pego la probabilidad de  BAJA+2\n",
        "tb_prediccion <- dataset[, list(fold,clase_ternaria)]\n",
        "tb_prediccion[, prob_baja2 := prediccion[, \"BAJA+2\"]]"
      ],
      "metadata": {
        "id": "wxsRJ6-ldKMF"
      },
      "execution_count": null,
      "outputs": []
    },
    {
      "cell_type": "code",
      "source": [
        "# Dibujo la curva de ganancia acumulada\n",
        "setorder(tb_prediccion, fold, -prob_baja2)"
      ],
      "metadata": {
        "id": "CFPDDXxrdbHv"
      },
      "execution_count": null,
      "outputs": []
    },
    {
      "cell_type": "code",
      "source": [
        "# agrego una columna que es la de las ganancias\n",
        "# la multiplico por 2 para que ya este normalizada\n",
        "#  es 2 porque cada fold es el 50%\n",
        "\n",
        "tb_prediccion[, gan := 2 *ifelse(clase_ternaria == \"BAJA+2\", 117000, -3000)]\n",
        "tb_prediccion[, ganancia_acumulada := cumsum(gan), by= fold]\n",
        "tb_prediccion[, pos := sequence(.N), by= fold]"
      ],
      "metadata": {
        "id": "bUPJACeXdoDM"
      },
      "execution_count": null,
      "outputs": []
    },
    {
      "cell_type": "code",
      "source": [
        "tb_prediccion"
      ],
      "metadata": {
        "id": "mNdaJEmMe5gg",
        "outputId": "0263af56-e7d5-42c4-d580-4813ffbf72d4",
        "colab": {
          "base_uri": "https://localhost:8080/",
          "height": 1000
        }
      },
      "execution_count": null,
      "outputs": [
        {
          "output_type": "display_data",
          "data": {
            "text/html": [
              "<table class=\"dataframe\">\n",
              "<caption>A data.table: 164596 × 6</caption>\n",
              "<thead>\n",
              "\t<tr><th scope=col>fold</th><th scope=col>clase_ternaria</th><th scope=col>prob_baja2</th><th scope=col>gan</th><th scope=col>ganancia_acumulada</th><th scope=col>pos</th></tr>\n",
              "\t<tr><th scope=col>&lt;dbl&gt;</th><th scope=col>&lt;chr&gt;</th><th scope=col>&lt;dbl&gt;</th><th scope=col>&lt;dbl&gt;</th><th scope=col>&lt;dbl&gt;</th><th scope=col>&lt;int&gt;</th></tr>\n",
              "</thead>\n",
              "<tbody>\n",
              "\t<tr><td>1</td><td>CONTINUA</td><td>4.394252e-05</td><td>-6000</td><td> -6000</td><td> 1</td></tr>\n",
              "\t<tr><td>1</td><td>CONTINUA</td><td>4.394252e-05</td><td>-6000</td><td>-12000</td><td> 2</td></tr>\n",
              "\t<tr><td>2</td><td>CONTINUA</td><td>1.438849e-02</td><td>-6000</td><td> -6000</td><td> 1</td></tr>\n",
              "\t<tr><td>1</td><td>CONTINUA</td><td>1.044337e-03</td><td>-6000</td><td>-18000</td><td> 3</td></tr>\n",
              "\t<tr><td>2</td><td>CONTINUA</td><td>1.044337e-03</td><td>-6000</td><td>-12000</td><td> 2</td></tr>\n",
              "\t<tr><td>1</td><td>CONTINUA</td><td>4.394252e-05</td><td>-6000</td><td>-24000</td><td> 4</td></tr>\n",
              "\t<tr><td>1</td><td>CONTINUA</td><td>4.394252e-05</td><td>-6000</td><td>-30000</td><td> 5</td></tr>\n",
              "\t<tr><td>1</td><td>CONTINUA</td><td>1.044337e-03</td><td>-6000</td><td>-36000</td><td> 6</td></tr>\n",
              "\t<tr><td>1</td><td>CONTINUA</td><td>1.044337e-03</td><td>-6000</td><td>-42000</td><td> 7</td></tr>\n",
              "\t<tr><td>1</td><td>CONTINUA</td><td>3.772161e-03</td><td>-6000</td><td>-48000</td><td> 8</td></tr>\n",
              "\t<tr><td>2</td><td>CONTINUA</td><td>4.394252e-05</td><td>-6000</td><td>-18000</td><td> 3</td></tr>\n",
              "\t<tr><td>2</td><td>CONTINUA</td><td>1.044337e-03</td><td>-6000</td><td>-24000</td><td> 4</td></tr>\n",
              "\t<tr><td>2</td><td>CONTINUA</td><td>1.044337e-03</td><td>-6000</td><td>-30000</td><td> 5</td></tr>\n",
              "\t<tr><td>1</td><td>CONTINUA</td><td>2.551020e-04</td><td>-6000</td><td>-54000</td><td> 9</td></tr>\n",
              "\t<tr><td>1</td><td>CONTINUA</td><td>2.013693e-03</td><td>-6000</td><td>-60000</td><td>10</td></tr>\n",
              "\t<tr><td>2</td><td>CONTINUA</td><td>2.013693e-03</td><td>-6000</td><td>-36000</td><td> 6</td></tr>\n",
              "\t<tr><td>2</td><td>CONTINUA</td><td>4.394252e-05</td><td>-6000</td><td>-42000</td><td> 7</td></tr>\n",
              "\t<tr><td>1</td><td>CONTINUA</td><td>1.044337e-03</td><td>-6000</td><td>-66000</td><td>11</td></tr>\n",
              "\t<tr><td>2</td><td>CONTINUA</td><td>4.394252e-05</td><td>-6000</td><td>-48000</td><td> 8</td></tr>\n",
              "\t<tr><td>2</td><td>CONTINUA</td><td>4.394252e-05</td><td>-6000</td><td>-54000</td><td> 9</td></tr>\n",
              "\t<tr><td>1</td><td>CONTINUA</td><td>1.044337e-03</td><td>-6000</td><td>-72000</td><td>12</td></tr>\n",
              "\t<tr><td>2</td><td>CONTINUA</td><td>5.000000e-02</td><td>-6000</td><td>-60000</td><td>10</td></tr>\n",
              "\t<tr><td>2</td><td>CONTINUA</td><td>4.394252e-05</td><td>-6000</td><td>-66000</td><td>11</td></tr>\n",
              "\t<tr><td>1</td><td>CONTINUA</td><td>3.681885e-04</td><td>-6000</td><td>-78000</td><td>13</td></tr>\n",
              "\t<tr><td>2</td><td>CONTINUA</td><td>3.681885e-04</td><td>-6000</td><td>-72000</td><td>12</td></tr>\n",
              "\t<tr><td>2</td><td>CONTINUA</td><td>8.120179e-04</td><td>-6000</td><td>-78000</td><td>13</td></tr>\n",
              "\t<tr><td>2</td><td>CONTINUA</td><td>1.044337e-03</td><td>-6000</td><td>-84000</td><td>14</td></tr>\n",
              "\t<tr><td>2</td><td>CONTINUA</td><td>4.394252e-05</td><td>-6000</td><td>-90000</td><td>15</td></tr>\n",
              "\t<tr><td>2</td><td>CONTINUA</td><td>3.681885e-04</td><td>-6000</td><td>-96000</td><td>16</td></tr>\n",
              "\t<tr><td>1</td><td>CONTINUA</td><td>4.394252e-05</td><td>-6000</td><td>-84000</td><td>14</td></tr>\n",
              "\t<tr><td>⋮</td><td>⋮</td><td>⋮</td><td>⋮</td><td>⋮</td><td>⋮</td></tr>\n",
              "\t<tr><td>1</td><td>CONTINUA</td><td>0.025210084</td><td>-6000</td><td>-343926000</td><td>82281</td></tr>\n",
              "\t<tr><td>1</td><td>CONTINUA</td><td>0.025210084</td><td>-6000</td><td>-343932000</td><td>82282</td></tr>\n",
              "\t<tr><td>1</td><td>CONTINUA</td><td>0.004385965</td><td>-6000</td><td>-343938000</td><td>82283</td></tr>\n",
              "\t<tr><td>2</td><td>CONTINUA</td><td>0.004385965</td><td>-6000</td><td>-343962000</td><td>82287</td></tr>\n",
              "\t<tr><td>1</td><td>CONTINUA</td><td>0.068965517</td><td>-6000</td><td>-343944000</td><td>82284</td></tr>\n",
              "\t<tr><td>1</td><td>CONTINUA</td><td>0.019138756</td><td>-6000</td><td>-343950000</td><td>82285</td></tr>\n",
              "\t<tr><td>1</td><td>CONTINUA</td><td>0.004385965</td><td>-6000</td><td>-343956000</td><td>82286</td></tr>\n",
              "\t<tr><td>1</td><td>CONTINUA</td><td>0.025210084</td><td>-6000</td><td>-343962000</td><td>82287</td></tr>\n",
              "\t<tr><td>1</td><td>CONTINUA</td><td>0.025210084</td><td>-6000</td><td>-343968000</td><td>82288</td></tr>\n",
              "\t<tr><td>1</td><td>CONTINUA</td><td>0.004385965</td><td>-6000</td><td>-343974000</td><td>82289</td></tr>\n",
              "\t<tr><td>2</td><td>BAJA+1  </td><td>0.004385965</td><td>-6000</td><td>-343968000</td><td>82288</td></tr>\n",
              "\t<tr><td>2</td><td>CONTINUA</td><td>0.068965517</td><td>-6000</td><td>-343974000</td><td>82289</td></tr>\n",
              "\t<tr><td>2</td><td>CONTINUA</td><td>0.004385965</td><td>-6000</td><td>-343980000</td><td>82290</td></tr>\n",
              "\t<tr><td>1</td><td>CONTINUA</td><td>0.025210084</td><td>-6000</td><td>-343980000</td><td>82290</td></tr>\n",
              "\t<tr><td>2</td><td>CONTINUA</td><td>0.025210084</td><td>-6000</td><td>-343986000</td><td>82291</td></tr>\n",
              "\t<tr><td>1</td><td>CONTINUA</td><td>0.004385965</td><td>-6000</td><td>-343986000</td><td>82291</td></tr>\n",
              "\t<tr><td>1</td><td>CONTINUA</td><td>0.004385965</td><td>-6000</td><td>-343992000</td><td>82292</td></tr>\n",
              "\t<tr><td>2</td><td>CONTINUA</td><td>0.025210084</td><td>-6000</td><td>-343992000</td><td>82292</td></tr>\n",
              "\t<tr><td>1</td><td>CONTINUA</td><td>0.025210084</td><td>-6000</td><td>-343998000</td><td>82293</td></tr>\n",
              "\t<tr><td>1</td><td>CONTINUA</td><td>0.004385965</td><td>-6000</td><td>-344004000</td><td>82294</td></tr>\n",
              "\t<tr><td>2</td><td>CONTINUA</td><td>0.025210084</td><td>-6000</td><td>-343998000</td><td>82293</td></tr>\n",
              "\t<tr><td>2</td><td>CONTINUA</td><td>0.025210084</td><td>-6000</td><td>-344004000</td><td>82294</td></tr>\n",
              "\t<tr><td>2</td><td>CONTINUA</td><td>0.087500000</td><td>-6000</td><td>-344010000</td><td>82295</td></tr>\n",
              "\t<tr><td>1</td><td>CONTINUA</td><td>0.025210084</td><td>-6000</td><td>-344010000</td><td>82295</td></tr>\n",
              "\t<tr><td>2</td><td>CONTINUA</td><td>0.004385965</td><td>-6000</td><td>-344016000</td><td>82296</td></tr>\n",
              "\t<tr><td>2</td><td>CONTINUA</td><td>0.031578947</td><td>-6000</td><td>-344022000</td><td>82297</td></tr>\n",
              "\t<tr><td>2</td><td>CONTINUA</td><td>0.017758047</td><td>-6000</td><td>-344028000</td><td>82298</td></tr>\n",
              "\t<tr><td>1</td><td>CONTINUA</td><td>0.017758047</td><td>-6000</td><td>-344016000</td><td>82296</td></tr>\n",
              "\t<tr><td>1</td><td>CONTINUA</td><td>0.019138756</td><td>-6000</td><td>-344022000</td><td>82297</td></tr>\n",
              "\t<tr><td>1</td><td>CONTINUA</td><td>0.004385965</td><td>-6000</td><td>-344028000</td><td>82298</td></tr>\n",
              "</tbody>\n",
              "</table>\n"
            ],
            "text/markdown": "\nA data.table: 164596 × 6\n\n| fold &lt;dbl&gt; | clase_ternaria &lt;chr&gt; | prob_baja2 &lt;dbl&gt; | gan &lt;dbl&gt; | ganancia_acumulada &lt;dbl&gt; | pos &lt;int&gt; |\n|---|---|---|---|---|---|\n| 1 | CONTINUA | 4.394252e-05 | -6000 |  -6000 |  1 |\n| 1 | CONTINUA | 4.394252e-05 | -6000 | -12000 |  2 |\n| 2 | CONTINUA | 1.438849e-02 | -6000 |  -6000 |  1 |\n| 1 | CONTINUA | 1.044337e-03 | -6000 | -18000 |  3 |\n| 2 | CONTINUA | 1.044337e-03 | -6000 | -12000 |  2 |\n| 1 | CONTINUA | 4.394252e-05 | -6000 | -24000 |  4 |\n| 1 | CONTINUA | 4.394252e-05 | -6000 | -30000 |  5 |\n| 1 | CONTINUA | 1.044337e-03 | -6000 | -36000 |  6 |\n| 1 | CONTINUA | 1.044337e-03 | -6000 | -42000 |  7 |\n| 1 | CONTINUA | 3.772161e-03 | -6000 | -48000 |  8 |\n| 2 | CONTINUA | 4.394252e-05 | -6000 | -18000 |  3 |\n| 2 | CONTINUA | 1.044337e-03 | -6000 | -24000 |  4 |\n| 2 | CONTINUA | 1.044337e-03 | -6000 | -30000 |  5 |\n| 1 | CONTINUA | 2.551020e-04 | -6000 | -54000 |  9 |\n| 1 | CONTINUA | 2.013693e-03 | -6000 | -60000 | 10 |\n| 2 | CONTINUA | 2.013693e-03 | -6000 | -36000 |  6 |\n| 2 | CONTINUA | 4.394252e-05 | -6000 | -42000 |  7 |\n| 1 | CONTINUA | 1.044337e-03 | -6000 | -66000 | 11 |\n| 2 | CONTINUA | 4.394252e-05 | -6000 | -48000 |  8 |\n| 2 | CONTINUA | 4.394252e-05 | -6000 | -54000 |  9 |\n| 1 | CONTINUA | 1.044337e-03 | -6000 | -72000 | 12 |\n| 2 | CONTINUA | 5.000000e-02 | -6000 | -60000 | 10 |\n| 2 | CONTINUA | 4.394252e-05 | -6000 | -66000 | 11 |\n| 1 | CONTINUA | 3.681885e-04 | -6000 | -78000 | 13 |\n| 2 | CONTINUA | 3.681885e-04 | -6000 | -72000 | 12 |\n| 2 | CONTINUA | 8.120179e-04 | -6000 | -78000 | 13 |\n| 2 | CONTINUA | 1.044337e-03 | -6000 | -84000 | 14 |\n| 2 | CONTINUA | 4.394252e-05 | -6000 | -90000 | 15 |\n| 2 | CONTINUA | 3.681885e-04 | -6000 | -96000 | 16 |\n| 1 | CONTINUA | 4.394252e-05 | -6000 | -84000 | 14 |\n| ⋮ | ⋮ | ⋮ | ⋮ | ⋮ | ⋮ |\n| 1 | CONTINUA | 0.025210084 | -6000 | -343926000 | 82281 |\n| 1 | CONTINUA | 0.025210084 | -6000 | -343932000 | 82282 |\n| 1 | CONTINUA | 0.004385965 | -6000 | -343938000 | 82283 |\n| 2 | CONTINUA | 0.004385965 | -6000 | -343962000 | 82287 |\n| 1 | CONTINUA | 0.068965517 | -6000 | -343944000 | 82284 |\n| 1 | CONTINUA | 0.019138756 | -6000 | -343950000 | 82285 |\n| 1 | CONTINUA | 0.004385965 | -6000 | -343956000 | 82286 |\n| 1 | CONTINUA | 0.025210084 | -6000 | -343962000 | 82287 |\n| 1 | CONTINUA | 0.025210084 | -6000 | -343968000 | 82288 |\n| 1 | CONTINUA | 0.004385965 | -6000 | -343974000 | 82289 |\n| 2 | BAJA+1   | 0.004385965 | -6000 | -343968000 | 82288 |\n| 2 | CONTINUA | 0.068965517 | -6000 | -343974000 | 82289 |\n| 2 | CONTINUA | 0.004385965 | -6000 | -343980000 | 82290 |\n| 1 | CONTINUA | 0.025210084 | -6000 | -343980000 | 82290 |\n| 2 | CONTINUA | 0.025210084 | -6000 | -343986000 | 82291 |\n| 1 | CONTINUA | 0.004385965 | -6000 | -343986000 | 82291 |\n| 1 | CONTINUA | 0.004385965 | -6000 | -343992000 | 82292 |\n| 2 | CONTINUA | 0.025210084 | -6000 | -343992000 | 82292 |\n| 1 | CONTINUA | 0.025210084 | -6000 | -343998000 | 82293 |\n| 1 | CONTINUA | 0.004385965 | -6000 | -344004000 | 82294 |\n| 2 | CONTINUA | 0.025210084 | -6000 | -343998000 | 82293 |\n| 2 | CONTINUA | 0.025210084 | -6000 | -344004000 | 82294 |\n| 2 | CONTINUA | 0.087500000 | -6000 | -344010000 | 82295 |\n| 1 | CONTINUA | 0.025210084 | -6000 | -344010000 | 82295 |\n| 2 | CONTINUA | 0.004385965 | -6000 | -344016000 | 82296 |\n| 2 | CONTINUA | 0.031578947 | -6000 | -344022000 | 82297 |\n| 2 | CONTINUA | 0.017758047 | -6000 | -344028000 | 82298 |\n| 1 | CONTINUA | 0.017758047 | -6000 | -344016000 | 82296 |\n| 1 | CONTINUA | 0.019138756 | -6000 | -344022000 | 82297 |\n| 1 | CONTINUA | 0.004385965 | -6000 | -344028000 | 82298 |\n\n",
            "text/latex": "A data.table: 164596 × 6\n\\begin{tabular}{llllll}\n fold & clase\\_ternaria & prob\\_baja2 & gan & ganancia\\_acumulada & pos\\\\\n <dbl> & <chr> & <dbl> & <dbl> & <dbl> & <int>\\\\\n\\hline\n\t 1 & CONTINUA & 4.394252e-05 & -6000 &  -6000 &  1\\\\\n\t 1 & CONTINUA & 4.394252e-05 & -6000 & -12000 &  2\\\\\n\t 2 & CONTINUA & 1.438849e-02 & -6000 &  -6000 &  1\\\\\n\t 1 & CONTINUA & 1.044337e-03 & -6000 & -18000 &  3\\\\\n\t 2 & CONTINUA & 1.044337e-03 & -6000 & -12000 &  2\\\\\n\t 1 & CONTINUA & 4.394252e-05 & -6000 & -24000 &  4\\\\\n\t 1 & CONTINUA & 4.394252e-05 & -6000 & -30000 &  5\\\\\n\t 1 & CONTINUA & 1.044337e-03 & -6000 & -36000 &  6\\\\\n\t 1 & CONTINUA & 1.044337e-03 & -6000 & -42000 &  7\\\\\n\t 1 & CONTINUA & 3.772161e-03 & -6000 & -48000 &  8\\\\\n\t 2 & CONTINUA & 4.394252e-05 & -6000 & -18000 &  3\\\\\n\t 2 & CONTINUA & 1.044337e-03 & -6000 & -24000 &  4\\\\\n\t 2 & CONTINUA & 1.044337e-03 & -6000 & -30000 &  5\\\\\n\t 1 & CONTINUA & 2.551020e-04 & -6000 & -54000 &  9\\\\\n\t 1 & CONTINUA & 2.013693e-03 & -6000 & -60000 & 10\\\\\n\t 2 & CONTINUA & 2.013693e-03 & -6000 & -36000 &  6\\\\\n\t 2 & CONTINUA & 4.394252e-05 & -6000 & -42000 &  7\\\\\n\t 1 & CONTINUA & 1.044337e-03 & -6000 & -66000 & 11\\\\\n\t 2 & CONTINUA & 4.394252e-05 & -6000 & -48000 &  8\\\\\n\t 2 & CONTINUA & 4.394252e-05 & -6000 & -54000 &  9\\\\\n\t 1 & CONTINUA & 1.044337e-03 & -6000 & -72000 & 12\\\\\n\t 2 & CONTINUA & 5.000000e-02 & -6000 & -60000 & 10\\\\\n\t 2 & CONTINUA & 4.394252e-05 & -6000 & -66000 & 11\\\\\n\t 1 & CONTINUA & 3.681885e-04 & -6000 & -78000 & 13\\\\\n\t 2 & CONTINUA & 3.681885e-04 & -6000 & -72000 & 12\\\\\n\t 2 & CONTINUA & 8.120179e-04 & -6000 & -78000 & 13\\\\\n\t 2 & CONTINUA & 1.044337e-03 & -6000 & -84000 & 14\\\\\n\t 2 & CONTINUA & 4.394252e-05 & -6000 & -90000 & 15\\\\\n\t 2 & CONTINUA & 3.681885e-04 & -6000 & -96000 & 16\\\\\n\t 1 & CONTINUA & 4.394252e-05 & -6000 & -84000 & 14\\\\\n\t ⋮ & ⋮ & ⋮ & ⋮ & ⋮ & ⋮\\\\\n\t 1 & CONTINUA & 0.025210084 & -6000 & -343926000 & 82281\\\\\n\t 1 & CONTINUA & 0.025210084 & -6000 & -343932000 & 82282\\\\\n\t 1 & CONTINUA & 0.004385965 & -6000 & -343938000 & 82283\\\\\n\t 2 & CONTINUA & 0.004385965 & -6000 & -343962000 & 82287\\\\\n\t 1 & CONTINUA & 0.068965517 & -6000 & -343944000 & 82284\\\\\n\t 1 & CONTINUA & 0.019138756 & -6000 & -343950000 & 82285\\\\\n\t 1 & CONTINUA & 0.004385965 & -6000 & -343956000 & 82286\\\\\n\t 1 & CONTINUA & 0.025210084 & -6000 & -343962000 & 82287\\\\\n\t 1 & CONTINUA & 0.025210084 & -6000 & -343968000 & 82288\\\\\n\t 1 & CONTINUA & 0.004385965 & -6000 & -343974000 & 82289\\\\\n\t 2 & BAJA+1   & 0.004385965 & -6000 & -343968000 & 82288\\\\\n\t 2 & CONTINUA & 0.068965517 & -6000 & -343974000 & 82289\\\\\n\t 2 & CONTINUA & 0.004385965 & -6000 & -343980000 & 82290\\\\\n\t 1 & CONTINUA & 0.025210084 & -6000 & -343980000 & 82290\\\\\n\t 2 & CONTINUA & 0.025210084 & -6000 & -343986000 & 82291\\\\\n\t 1 & CONTINUA & 0.004385965 & -6000 & -343986000 & 82291\\\\\n\t 1 & CONTINUA & 0.004385965 & -6000 & -343992000 & 82292\\\\\n\t 2 & CONTINUA & 0.025210084 & -6000 & -343992000 & 82292\\\\\n\t 1 & CONTINUA & 0.025210084 & -6000 & -343998000 & 82293\\\\\n\t 1 & CONTINUA & 0.004385965 & -6000 & -344004000 & 82294\\\\\n\t 2 & CONTINUA & 0.025210084 & -6000 & -343998000 & 82293\\\\\n\t 2 & CONTINUA & 0.025210084 & -6000 & -344004000 & 82294\\\\\n\t 2 & CONTINUA & 0.087500000 & -6000 & -344010000 & 82295\\\\\n\t 1 & CONTINUA & 0.025210084 & -6000 & -344010000 & 82295\\\\\n\t 2 & CONTINUA & 0.004385965 & -6000 & -344016000 & 82296\\\\\n\t 2 & CONTINUA & 0.031578947 & -6000 & -344022000 & 82297\\\\\n\t 2 & CONTINUA & 0.017758047 & -6000 & -344028000 & 82298\\\\\n\t 1 & CONTINUA & 0.017758047 & -6000 & -344016000 & 82296\\\\\n\t 1 & CONTINUA & 0.019138756 & -6000 & -344022000 & 82297\\\\\n\t 1 & CONTINUA & 0.004385965 & -6000 & -344028000 & 82298\\\\\n\\end{tabular}\n",
            "text/plain": [
              "       fold clase_ternaria prob_baja2   gan   ganancia_acumulada pos  \n",
              "1      1    CONTINUA       4.394252e-05 -6000  -6000              1   \n",
              "2      1    CONTINUA       4.394252e-05 -6000 -12000              2   \n",
              "3      2    CONTINUA       1.438849e-02 -6000  -6000              1   \n",
              "4      1    CONTINUA       1.044337e-03 -6000 -18000              3   \n",
              "5      2    CONTINUA       1.044337e-03 -6000 -12000              2   \n",
              "6      1    CONTINUA       4.394252e-05 -6000 -24000              4   \n",
              "7      1    CONTINUA       4.394252e-05 -6000 -30000              5   \n",
              "8      1    CONTINUA       1.044337e-03 -6000 -36000              6   \n",
              "9      1    CONTINUA       1.044337e-03 -6000 -42000              7   \n",
              "10     1    CONTINUA       3.772161e-03 -6000 -48000              8   \n",
              "11     2    CONTINUA       4.394252e-05 -6000 -18000              3   \n",
              "12     2    CONTINUA       1.044337e-03 -6000 -24000              4   \n",
              "13     2    CONTINUA       1.044337e-03 -6000 -30000              5   \n",
              "14     1    CONTINUA       2.551020e-04 -6000 -54000              9   \n",
              "15     1    CONTINUA       2.013693e-03 -6000 -60000             10   \n",
              "16     2    CONTINUA       2.013693e-03 -6000 -36000              6   \n",
              "17     2    CONTINUA       4.394252e-05 -6000 -42000              7   \n",
              "18     1    CONTINUA       1.044337e-03 -6000 -66000             11   \n",
              "19     2    CONTINUA       4.394252e-05 -6000 -48000              8   \n",
              "20     2    CONTINUA       4.394252e-05 -6000 -54000              9   \n",
              "21     1    CONTINUA       1.044337e-03 -6000 -72000             12   \n",
              "22     2    CONTINUA       5.000000e-02 -6000 -60000             10   \n",
              "23     2    CONTINUA       4.394252e-05 -6000 -66000             11   \n",
              "24     1    CONTINUA       3.681885e-04 -6000 -78000             13   \n",
              "25     2    CONTINUA       3.681885e-04 -6000 -72000             12   \n",
              "26     2    CONTINUA       8.120179e-04 -6000 -78000             13   \n",
              "27     2    CONTINUA       1.044337e-03 -6000 -84000             14   \n",
              "28     2    CONTINUA       4.394252e-05 -6000 -90000             15   \n",
              "29     2    CONTINUA       3.681885e-04 -6000 -96000             16   \n",
              "30     1    CONTINUA       4.394252e-05 -6000 -84000             14   \n",
              "⋮      ⋮    ⋮              ⋮            ⋮     ⋮                  ⋮    \n",
              "164567 1    CONTINUA       0.025210084  -6000 -343926000         82281\n",
              "164568 1    CONTINUA       0.025210084  -6000 -343932000         82282\n",
              "164569 1    CONTINUA       0.004385965  -6000 -343938000         82283\n",
              "164570 2    CONTINUA       0.004385965  -6000 -343962000         82287\n",
              "164571 1    CONTINUA       0.068965517  -6000 -343944000         82284\n",
              "164572 1    CONTINUA       0.019138756  -6000 -343950000         82285\n",
              "164573 1    CONTINUA       0.004385965  -6000 -343956000         82286\n",
              "164574 1    CONTINUA       0.025210084  -6000 -343962000         82287\n",
              "164575 1    CONTINUA       0.025210084  -6000 -343968000         82288\n",
              "164576 1    CONTINUA       0.004385965  -6000 -343974000         82289\n",
              "164577 2    BAJA+1         0.004385965  -6000 -343968000         82288\n",
              "164578 2    CONTINUA       0.068965517  -6000 -343974000         82289\n",
              "164579 2    CONTINUA       0.004385965  -6000 -343980000         82290\n",
              "164580 1    CONTINUA       0.025210084  -6000 -343980000         82290\n",
              "164581 2    CONTINUA       0.025210084  -6000 -343986000         82291\n",
              "164582 1    CONTINUA       0.004385965  -6000 -343986000         82291\n",
              "164583 1    CONTINUA       0.004385965  -6000 -343992000         82292\n",
              "164584 2    CONTINUA       0.025210084  -6000 -343992000         82292\n",
              "164585 1    CONTINUA       0.025210084  -6000 -343998000         82293\n",
              "164586 1    CONTINUA       0.004385965  -6000 -344004000         82294\n",
              "164587 2    CONTINUA       0.025210084  -6000 -343998000         82293\n",
              "164588 2    CONTINUA       0.025210084  -6000 -344004000         82294\n",
              "164589 2    CONTINUA       0.087500000  -6000 -344010000         82295\n",
              "164590 1    CONTINUA       0.025210084  -6000 -344010000         82295\n",
              "164591 2    CONTINUA       0.004385965  -6000 -344016000         82296\n",
              "164592 2    CONTINUA       0.031578947  -6000 -344022000         82297\n",
              "164593 2    CONTINUA       0.017758047  -6000 -344028000         82298\n",
              "164594 1    CONTINUA       0.017758047  -6000 -344016000         82296\n",
              "164595 1    CONTINUA       0.019138756  -6000 -344022000         82297\n",
              "164596 1    CONTINUA       0.004385965  -6000 -344028000         82298"
            ]
          },
          "metadata": {}
        }
      ]
    },
    {
      "cell_type": "code",
      "source": [
        "# agrego una columna que es la de las ganancias\n",
        "# la multiplico por 2 para que ya este normalizada\n",
        "#  es 2 porque cada fold es el 50%\n",
        "\n",
        "tb_prediccion[, gan := 2 *ifelse(clase_ternaria == \"BAJA+2\", 117000, -3000)]\n",
        "tb_prediccion[, ganancia_acumulada := cumsum(gan), by= fold]\n",
        "tb_prediccion[, pos := sequence(.N), by= fold]"
      ],
      "metadata": {
        "id": "687CCwPMfaDt"
      },
      "execution_count": null,
      "outputs": []
    },
    {
      "cell_type": "code",
      "source": [
        "# defino hasta donde muestra el grafico\n",
        "amostrar <- 20000"
      ],
      "metadata": {
        "id": "Gnzpijujfi8X"
      },
      "execution_count": null,
      "outputs": []
    },
    {
      "cell_type": "code",
      "source": [
        "# Esta hermosa curva muestra como en el mentiroso training\n",
        "#   la ganancia es siempre mejor que en el real testing\n",
        "\n",
        "options( repr.plot.width=10, repr.plot.height=10)\n",
        "\n",
        "gra <- ggplot(\n",
        "           data= tb_prediccion[pos <= amostrar],\n",
        "           aes( x= pos, y= ganancia_acumulada,\n",
        "                color= ifelse(fold == 1, \"train\", \"test\") )\n",
        "             ) + geom_line()\n",
        "\n",
        "print( gra )\n"
      ],
      "metadata": {
        "id": "YCTWdnn5c-T8",
        "outputId": "fe861850-b570-4ee7-e3ba-9e4b5dc9de64",
        "colab": {
          "base_uri": "https://localhost:8080/",
          "height": 617
        }
      },
      "execution_count": null,
      "outputs": [
        {
          "output_type": "display_data",
          "data": {
            "text/plain": [
              "plot without title"
            ],
            "image/png": "[encoded data removed]"
          },
          "metadata": {
            "image/png": {
              "width": 600,
              "height": 600
            }
          }
        }
      ]
    },
    {
      "cell_type": "code",
      "source": [
        "# veo los resultados\n",
        "\n",
        "print(PARAM)\n",
        "cat( \"Train gan max: \", tb_prediccion[fold==1, max(ganancia_acumulada)], \"\\n\" )\n",
        "cat( \"Test  gan max: \", tb_prediccion[fold==2, max(ganancia_acumulada)], \"\\n\" )\n"
      ],
      "metadata": {
        "id": "pCXOZ8bVfnsG",
        "outputId": "23be9fb2-8ee4-4af7-fdea-ee1cdbd8e491",
        "colab": {
          "base_uri": "https://localhost:8080/"
        }
      },
      "execution_count": null,
      "outputs": [
        {
          "output_type": "stream",
          "name": "stdout",
          "text": [
            "$semilla_primigenia\n",
            "[1] 100109\n",
            "\n",
            "$minsplit\n",
            "[1] 300\n",
            "\n",
            "$minbucket\n",
            "[1] 20\n",
            "\n",
            "$maxdepth\n",
            "[1] 11\n",
            "\n",
            "Train gan max:  -6000 \n",
            "Test  gan max:  -6000 \n"
          ]
        }
      ]
    },
    {
      "cell_type": "markdown",
      "source": [
        "## 3.05 Análisis de la salida de Grid Search\n",
        "\n",
        "En clase utilizando un enfoque constructivista de educacion cada uno de los grupos del aula analizará las salidas de las corridas de Grid Search de la Tarea para el Hogar.\n",
        "<br>Se espera que quienes ya trabajan como Data Analyst se luzcan en el análisis de esos datos\n",
        "<br>Finalmente se utilizara un *arma conceptual secreta*, iluminando elegantemente donde están las mayores ganancias.\n",
        "\n",
        "<br><br>Si usted no tuvo la oportunidad de hacer sus propias corridas esta generosa cátedra pone a su diposición esta salida https://storage.googleapis.com/open-courses/austral2025-af91/gridsearch.txt"
      ],
      "metadata": {
        "id": "BPZj2gpfvvSC"
      }
    },
    {
      "cell_type": "markdown",
      "source": [
        "## 3.06 La Maldición del Ganador"
      ],
      "metadata": {
        "id": "xyHuVU4wK0Xh"
      }
    },
    {
      "cell_type": "markdown",
      "source": [
        "¿Los hiperparámetros ganadores de toda la cohorte, estan overfiteando?\n",
        "<br> Trabajaremos con la hoja **C3-GS Overfitting** de la Google Sheet Colaborativa\n",
        "<br> Determinar de toda la cohorte quien obtuvo la mayor ganancia y con qué hiperparámetros\n",
        "<br> copiarlos  a la hoja **C3-GS Overfitting**\n",
        "<br> Quien obtuvo esa ganancia no debe hacer nada\n",
        "<br> El resto de la cohorte, modifica su script de Grid Search para calcular la ganancia de dichos hiperparámetros ganadores  utilizando su Semilla Primigenia y registra la ganancia en la linea correspondiente a su nombre en la hoja C3-GS Overfitting"
      ],
      "metadata": {
        "id": "olG0m0HQK4Ly"
      }
    },
    {
      "cell_type": "markdown",
      "source": [
        "¿ Como compara la ganancia del ganador versus el resto de las ganancias recién calculadas ?"
      ],
      "metadata": {
        "id": "ch9ilhfJMFhs"
      }
    },
    {
      "cell_type": "markdown",
      "source": [
        "#### Bibliografia"
      ],
      "metadata": {
        "id": "SDTdFtJzPdCR"
      }
    },
    {
      "cell_type": "markdown",
      "source": [
        "* Selective Inference - the silent killer of replicability   https://www.youtube.com/watch?v=6ZxIzVjV1DE\n",
        "* Ioannidis, J. P. A. Why most published research findings are false. PLoS Med. 2, e124 (2005). https://journals.plos.org/plosmedicine/article/file?id=10.1371/journal.pmed.0020124&type=printable"
      ],
      "metadata": {
        "id": "OtOkVKZ9PfY0"
      }
    },
    {
      "cell_type": "markdown",
      "metadata": {
        "id": "LBl_eIeO7WuM"
      },
      "source": [
        "\n",
        "\n",
        "---\n",
        "\n"
      ]
    },
    {
      "cell_type": "markdown",
      "source": [
        "## 3.07 Data Drifting  sospechas"
      ],
      "metadata": {
        "id": "QNSznolLMVyY"
      }
    },
    {
      "cell_type": "markdown",
      "source": [
        "Ordenar la salida del Grid Search en forma descendente por ganancia (en testing obviamente)\n",
        "<br> De esta forma la posición 1 corresponde a la mayor ganancia, la 2 a la segunda mejor, etc\n",
        "<br> En la Google Sheet Colaborativa,  hoja  **C3- GridSEarch** cargue las posiciones  1, 2, 5, 10, 50 y 100 de la salida del Grid Search, dejando la columna Public Leaderboard sin cargar\n",
        "<br> La columna ganancia_mean tiene valores en orden descendente"
      ],
      "metadata": {
        "id": "HMVNxSEcMdiK"
      }
    },
    {
      "cell_type": "markdown",
      "source": [
        "El objetivo de hacer Grid Search  es utilizando particiones <training, testing>  encontrar los mejores hiperparámetros\n",
        "<br> Esto tiene sentido en la medida que los hiperparámetros que resultan mejores de la búsqueda Grid Search son también los mejores cuando se hace el Final Training"
      ],
      "metadata": {
        "id": "T0SNDZq7NdGZ"
      }
    },
    {
      "cell_type": "markdown",
      "source": [
        "Utilizando el notebook de la primiera clase,  **z102_FinalTrain.ipynb**   calcule para cada uno de los sets de hiperparámetros de las posiciones 1, 2, 5, 10, 50 y 100  cual es la ganancia en el Public Leaderboard de Kaggle\n",
        "<br> Deberá hacer una corrida para cada conjunto de hiperparámetros"
      ],
      "metadata": {
        "id": "-4M7yP3VOAm_"
      }
    },
    {
      "cell_type": "markdown",
      "source": [
        " ¿ Se cumple que los hiperparámetros de la posición  1 del Grid Search son los que mejor funcionan para predecir los datos del futuro ?"
      ],
      "metadata": {
        "id": "aGcjHfd3Ofmj"
      }
    },
    {
      "cell_type": "markdown",
      "source": [
        "¿ Si esto no fuera así, estamos en una sitacion de **Game Over** ?"
      ],
      "metadata": {
        "id": "vbAo1HByPEdy"
      }
    },
    {
      "cell_type": "markdown",
      "metadata": {
        "id": "Pc9x9DnsNlZv"
      },
      "source": [
        "\n",
        "\n",
        "---\n",
        "\n"
      ]
    },
    {
      "cell_type": "markdown",
      "source": [
        "## 3.08 Data Drifting, breve intuicion"
      ],
      "metadata": {
        "id": "-ctmDt7dPRgE"
      }
    },
    {
      "cell_type": "markdown",
      "source": [
        "Se mostrará un posible origen de las discrepancias observadas en el capítulo anterior\n",
        "<br> La solución al Data Drifting es otro precio ..."
      ],
      "metadata": {
        "id": "hMuubs9vQKYC"
      }
    },
    {
      "cell_type": "markdown",
      "metadata": {
        "id": "LgGgjPQuGimP"
      },
      "source": [
        "Esta parte se debe correr con el runtime en lenguaje **R** Ir al menu, Runtime -> Change Runtime Type -> Runtime type -> R"
      ]
    },
    {
      "cell_type": "markdown",
      "metadata": {
        "id": "a6AxqLwOGimQ"
      },
      "source": [
        "limpio el ambiente de R"
      ]
    },
    {
      "cell_type": "code",
      "execution_count": null,
      "metadata": {
        "id": "797Ad0_QGimQ"
      },
      "outputs": [],
      "source": [
        "# limpio la memoria\n",
        "rm(list=ls(all.names=TRUE)) # remove all objects\n",
        "gc(full=TRUE, verbose=FALSE) # garbage collection"
      ]
    },
    {
      "cell_type": "markdown",
      "metadata": {
        "id": "v0CepvbjGimQ"
      },
      "source": [
        "* Instalacion de la libreria  rpart.plot  para dibujar el arbol\n",
        "* invocacion de las librerias  **data.table** y  **rpart**"
      ]
    },
    {
      "cell_type": "code",
      "execution_count": null,
      "metadata": {
        "id": "CRkZ1V2_GimR"
      },
      "outputs": [],
      "source": [
        "# cargo las librerias que necesito\n",
        "require(\"data.table\")\n",
        "require(\"rpart\")"
      ]
    },
    {
      "cell_type": "code",
      "source": [
        "# carpeta de trabajo\n",
        "setwd(\"/content/buckets/b1/exp\")\n",
        "experimento <- \"exp308\"\n",
        "dir.create(experimento, showWarnings=FALSE)\n",
        "setwd( paste0(\"/content/buckets/b1/exp/\", experimento ))"
      ],
      "metadata": {
        "id": "NB9XL85QSREx"
      },
      "execution_count": null,
      "outputs": []
    },
    {
      "cell_type": "code",
      "source": [
        "PARAM <- list()\n",
        "PARAM$mes0 <- 202107\n",
        "PARAM$mes1 <- 202109"
      ],
      "metadata": {
        "id": "YWVW1EI3SXRi"
      },
      "execution_count": null,
      "outputs": []
    },
    {
      "cell_type": "code",
      "source": [
        "graficar_campo <- function(campo, param) {\n",
        "  # quito de grafico las colas del 5% de las densidades\n",
        "  qA <- quantile(dataset[foto_mes == param$mes0, get(campo)],\n",
        "    prob= c(0.05, 0.95), na.rm= TRUE\n",
        "  )\n",
        "\n",
        "  qB <- quantile(dataset[foto_mes == param$mes1, get(campo)],\n",
        "    prob= c(0.05, 0.95), na.rm= TRUE\n",
        "  )\n",
        "\n",
        "  xxmin <- pmin(qA[[1]], qB[[1]])\n",
        "  xxmax <- pmax(qA[[2]], qB[[2]])\n",
        "\n",
        "  densidad_A <- density(dataset[foto_mes == param$mes0, get(campo)],\n",
        "    kernel= \"gaussian\", na.rm= TRUE\n",
        "  )\n",
        "\n",
        "  densidad_B <- density(dataset[foto_mes == param$mes1, get(campo)],\n",
        "    kernel= \"gaussian\", na.rm= TRUE\n",
        "  )\n",
        "\n",
        "  plot(densidad_A,\n",
        "    col= \"blue\",\n",
        "    xlim= c(xxmin, xxmax),\n",
        "    ylim= c(0, pmax(max(densidad_A$y), max(densidad_B$y))),\n",
        "    main= campo\n",
        "  )\n",
        "\n",
        "  lines(densidad_B, col= \"red\", lty= 2)\n",
        "\n",
        "  legend(\"topright\",\n",
        "    legend= c( param$mes0, param$mes1),\n",
        "    col= c(\"blue\", \"red\"), lty= c(1, 2)\n",
        "  )\n",
        "}\n"
      ],
      "metadata": {
        "id": "o4Ec0SIXSnjx"
      },
      "execution_count": null,
      "outputs": []
    },
    {
      "cell_type": "code",
      "source": [
        "# lectura del dataset\n",
        "dataset <- fread(\"/content/datasets/dataset_pequeno.csv\")"
      ],
      "metadata": {
        "id": "qa6PCztQTIZr"
      },
      "execution_count": null,
      "outputs": []
    },
    {
      "cell_type": "code",
      "source": [
        "# Entreno el modelo\n",
        "# utilizo los mejores hiperparametros encontrados\n",
        "\n",
        "modelo <- rpart(\n",
        "  formula= \"clase_ternaria ~ . \",\n",
        "  data= dataset[foto_mes == PARAM$mes0], # los datos donde voy a entrenar\n",
        "  xval= 0,\n",
        "  cp= -1,\n",
        "  minsplit= 1144,\n",
        "  minbucket= 539,\n",
        "  maxdepth= 8\n",
        ")\n"
      ],
      "metadata": {
        "id": "ijE1YZvXTYxF"
      },
      "execution_count": null,
      "outputs": []
    },
    {
      "cell_type": "code",
      "source": [
        "\n",
        "campos_modelo <- names(modelo$variable.importance)\n",
        "campos_buenos <- c(campos_modelo, setdiff(colnames(dataset), campos_modelo))\n",
        "campos_buenos <- setdiff(\n",
        "  campos_buenos,\n",
        "  c(\"foto_mes\", \"clase_ternaria\")\n",
        ")\n",
        "\n",
        "campos_buenos"
      ],
      "metadata": {
        "id": "HS8Sj8aNUIJZ"
      },
      "execution_count": null,
      "outputs": []
    },
    {
      "cell_type": "code",
      "source": [
        "# para fines didacticos,  cliente_antiguedad primero\n",
        "campos_buenos <- c(\"cliente_antiguedad\", campos_buenos)"
      ],
      "metadata": {
        "id": "05cmWkKrVUAm"
      },
      "execution_count": null,
      "outputs": []
    },
    {
      "cell_type": "code",
      "source": [
        "# grafico las densidades de cada variable para los dos mses\n",
        "\n",
        "options( repr.plot.width=15, repr.plot.height=15)\n",
        "\n",
        "for (campo in campos_buenos) {\n",
        "  cat(campo, \"  \")\n",
        "  graficar_campo(campo, PARAM)\n",
        "}\n"
      ],
      "metadata": {
        "id": "009BAOZ3UQV-"
      },
      "execution_count": null,
      "outputs": []
    },
    {
      "cell_type": "markdown",
      "metadata": {
        "id": "BCjhc7VGOySp"
      },
      "source": [
        "\n",
        "\n",
        "---\n",
        "\n"
      ]
    },
    {
      "cell_type": "markdown",
      "source": [
        "## 3.09 Bayesian Optimization"
      ],
      "metadata": {
        "id": "5cZrnAixV3gT"
      }
    },
    {
      "cell_type": "markdown",
      "source": [
        "Se explicará en clase como a partir del Grid Search se deriva el algoritmo de Bayesian Optimization"
      ],
      "metadata": {
        "id": "jRnL1RAGWTKy"
      }
    },
    {
      "cell_type": "markdown",
      "metadata": {
        "id": "UMr6Z1enOyd3"
      },
      "source": [
        "\n",
        "\n",
        "---\n",
        "\n"
      ]
    },
    {
      "cell_type": "markdown",
      "source": [
        "## 3.10 Bayesian Optimization código"
      ],
      "metadata": {
        "id": "khI14CLoWfCK"
      }
    },
    {
      "cell_type": "markdown",
      "metadata": {
        "id": "Pb0kVc82WnwU"
      },
      "source": [
        "Esta parte se debe correr con el runtime en lenguaje **R** Ir al menu, Runtime -> Change Runtime Type -> Runtime type -> R"
      ]
    },
    {
      "cell_type": "markdown",
      "metadata": {
        "id": "R1yj6LSBWnwU"
      },
      "source": [
        "limpio el ambiente de R"
      ]
    },
    {
      "cell_type": "code",
      "execution_count": 3,
      "metadata": {
        "id": "THfA4LSjWnwU",
        "outputId": "75ee6f0f-41f6-4b03-8d82-7871413db6d3",
        "colab": {
          "base_uri": "https://localhost:8080/",
          "height": 129
        }
      },
      "outputs": [
        {
          "output_type": "display_data",
          "data": {
            "text/html": [
              "<table class=\"dataframe\">\n",
              "<caption>A matrix: 2 × 6 of type dbl</caption>\n",
              "<thead>\n",
              "\t<tr><th></th><th scope=col>used</th><th scope=col>(Mb)</th><th scope=col>gc trigger</th><th scope=col>(Mb)</th><th scope=col>max used</th><th scope=col>(Mb)</th></tr>\n",
              "</thead>\n",
              "<tbody>\n",
              "\t<tr><th scope=row>Ncells</th><td>1070775</td><td>57.2</td><td>2155112</td><td>115.1</td><td>1454451</td><td>77.7</td></tr>\n",
              "\t<tr><th scope=row>Vcells</th><td>1906563</td><td>14.6</td><td>8388608</td><td> 64.0</td><td>3725372</td><td>28.5</td></tr>\n",
              "</tbody>\n",
              "</table>\n"
            ],
            "text/markdown": "\nA matrix: 2 × 6 of type dbl\n\n| <!--/--> | used | (Mb) | gc trigger | (Mb) | max used | (Mb) |\n|---|---|---|---|---|---|---|\n| Ncells | 1070775 | 57.2 | 2155112 | 115.1 | 1454451 | 77.7 |\n| Vcells | 1906563 | 14.6 | 8388608 |  64.0 | 3725372 | 28.5 |\n\n",
            "text/latex": "A matrix: 2 × 6 of type dbl\n\\begin{tabular}{r|llllll}\n  & used & (Mb) & gc trigger & (Mb) & max used & (Mb)\\\\\n\\hline\n\tNcells & 1070775 & 57.2 & 2155112 & 115.1 & 1454451 & 77.7\\\\\n\tVcells & 1906563 & 14.6 & 8388608 &  64.0 & 3725372 & 28.5\\\\\n\\end{tabular}\n",
            "text/plain": [
              "       used    (Mb) gc trigger (Mb)  max used (Mb)\n",
              "Ncells 1070775 57.2 2155112    115.1 1454451  77.7\n",
              "Vcells 1906563 14.6 8388608     64.0 3725372  28.5"
            ]
          },
          "metadata": {}
        }
      ],
      "source": [
        "# limpio la memoria\n",
        "rm(list=ls(all.names=TRUE)) # remove all objects\n",
        "gc(full=TRUE, verbose=FALSE) # garbage collection"
      ]
    },
    {
      "cell_type": "markdown",
      "metadata": {
        "id": "JpzI9HIJWnwV"
      },
      "source": [
        "* Instalacion de la libreria  rpart.plot  para dibujar el arbol\n",
        "* invocacion de las librerias  **data.table** y  **rpart**"
      ]
    },
    {
      "cell_type": "code",
      "execution_count": 4,
      "metadata": {
        "id": "zeCTdZGyWnwV",
        "outputId": "5898acb2-b8f9-41f8-bd66-0d54fe2e12c9",
        "colab": {
          "base_uri": "https://localhost:8080/"
        }
      },
      "outputs": [
        {
          "output_type": "stream",
          "name": "stderr",
          "text": [
            "Loading required package: parallel\n",
            "\n"
          ]
        }
      ],
      "source": [
        "# cargo las librerias que necesito\n",
        "require(\"data.table\")\n",
        "require(\"rpart\")\n",
        "require(\"parallel\")"
      ]
    },
    {
      "cell_type": "code",
      "source": [
        "if( ! require(\"rlist\") ) install.packages(\"rlist\")\n",
        "require(\"rlist\")"
      ],
      "metadata": {
        "id": "MjmheQDhkI9x",
        "outputId": "b1682adf-8e63-486b-ab52-e4a2743df6e7",
        "colab": {
          "base_uri": "https://localhost:8080/"
        }
      },
      "execution_count": 5,
      "outputs": [
        {
          "output_type": "stream",
          "name": "stderr",
          "text": [
            "Loading required package: rlist\n",
            "\n",
            "Warning message in library(package, lib.loc = lib.loc, character.only = TRUE, logical.return = TRUE, :\n",
            "“there is no package called ‘rlist’”\n",
            "Installing package into ‘/usr/local/lib/R/site-library’\n",
            "(as ‘lib’ is unspecified)\n",
            "\n",
            "also installing the dependency ‘XML’\n",
            "\n",
            "\n",
            "Loading required package: rlist\n",
            "\n"
          ]
        }
      ]
    },
    {
      "cell_type": "code",
      "source": [
        "# paquete necesarios para la Bayesian Optimization\n",
        "if( !require(\"DiceKriging\") ) install.packages(\"DiceKriging\")\n",
        "require(\"DiceKriging\")"
      ],
      "metadata": {
        "id": "CzTjEz__kOrf",
        "outputId": "ee3dec5e-d3fe-42d0-b751-cfd784baf9a4",
        "colab": {
          "base_uri": "https://localhost:8080/"
        }
      },
      "execution_count": 6,
      "outputs": [
        {
          "output_type": "stream",
          "name": "stderr",
          "text": [
            "Loading required package: DiceKriging\n",
            "\n",
            "Warning message in library(package, lib.loc = lib.loc, character.only = TRUE, logical.return = TRUE, :\n",
            "“there is no package called ‘DiceKriging’”\n",
            "Installing package into ‘/usr/local/lib/R/site-library’\n",
            "(as ‘lib’ is unspecified)\n",
            "\n",
            "Loading required package: DiceKriging\n",
            "\n"
          ]
        }
      ]
    },
    {
      "cell_type": "code",
      "source": [
        "# paquete necesarios para la Bayesian Optimization\n",
        "if( !require(\"mlrMBO\") ) install.packages(\"mlrMBO\")\n",
        "require(\"mlrMBO\")"
      ],
      "metadata": {
        "id": "0irLrQDkkdPl",
        "outputId": "93bc4d29-5f16-4fef-fd1c-25b9c0f57817",
        "colab": {
          "base_uri": "https://localhost:8080/"
        }
      },
      "execution_count": 7,
      "outputs": [
        {
          "output_type": "stream",
          "name": "stderr",
          "text": [
            "Loading required package: mlrMBO\n",
            "\n",
            "Warning message in library(package, lib.loc = lib.loc, character.only = TRUE, logical.return = TRUE, :\n",
            "“there is no package called ‘mlrMBO’”\n",
            "Installing package into ‘/usr/local/lib/R/site-library’\n",
            "(as ‘lib’ is unspecified)\n",
            "\n",
            "also installing the dependencies ‘fastmatch’, ‘RcppArmadillo’, ‘mlr’, ‘ParamHelpers’, ‘smoof’, ‘BBmisc’, ‘checkmate’, ‘lhs’, ‘parallelMap’\n",
            "\n",
            "\n",
            "Loading required package: mlrMBO\n",
            "\n",
            "Loading required package: mlr\n",
            "\n",
            "Loading required package: ParamHelpers\n",
            "\n",
            "Loading required package: smoof\n",
            "\n",
            "Loading required package: checkmate\n",
            "\n",
            "\n",
            "Attaching package: ‘checkmate’\n",
            "\n",
            "\n",
            "The following object is masked from ‘package:DiceKriging’:\n",
            "\n",
            "    checkNames\n",
            "\n",
            "\n"
          ]
        }
      ]
    },
    {
      "cell_type": "markdown",
      "source": [
        "Accion a realizar : cambiar por su semilla primigenia"
      ],
      "metadata": {
        "id": "0h5tn-8QL1YA"
      }
    },
    {
      "cell_type": "code",
      "source": [
        "# Defino la  Optimizacion Bayesiana\n",
        "\n",
        "# cantidad de iteraciones de la Optimizacion Bayesiana\n",
        "PARAM <- list()\n",
        "\n",
        "PARAM$semilla_primigenia <- 100109\n",
        "PARAM$experimento <- \"HT310\"\n",
        "\n",
        "PARAM$BO_iter <- 40 #cantidad de iteraciones de la Bayesian Optimization\n",
        "\n",
        "# la letra L al final de 1L significa ENTERO\n",
        "PARAM$hs <- makeParamSet(\n",
        "    makeNumericParam(\"cp\", lower= -1, upper= 0.1),\n",
        "    makeIntegerParam(\"minsplit\", lower= 1L, upper= 8000L),\n",
        "    makeIntegerParam(\"minbucket\", lower= 1L, upper= 4000L),\n",
        "    makeIntegerParam(\"maxdepth\", lower= 3L, upper= 20L),\n",
        "    forbidden= quote(minbucket > 0.5 * minsplit)\n",
        ")\n",
        "# minbuket NO PUEDE ser mayor que la mitad de minsplit\n",
        "\n"
      ],
      "metadata": {
        "id": "rFmJWC1nlCaA"
      },
      "execution_count": 8,
      "outputs": []
    },
    {
      "cell_type": "code",
      "source": [
        "# carpeta de trabajo\n",
        "setwd(\"/content/buckets/b1/exp\")\n",
        "dir.create(PARAM$experimento, showWarnings=FALSE)\n",
        "setwd( paste0(\"/content/buckets/b1/exp/\", PARAM$experimento ))"
      ],
      "metadata": {
        "id": "xUuITlXAOp-2"
      },
      "execution_count": 9,
      "outputs": []
    },
    {
      "cell_type": "code",
      "source": [
        "particionar <- function(data, division, agrupa = \"\", campo = \"fold\",\n",
        "                        start = 1, seed = NA) {\n",
        "  if (!is.na(seed)) set.seed(seed)\n",
        "\n",
        "  bloque <- unlist(mapply(\n",
        "    function(x, y) {\n",
        "      rep(y, x)\n",
        "    }, division,\n",
        "    seq(from= start, length.out= length(division))\n",
        "  ))\n",
        "\n",
        "  data[, (campo) := sample(rep(bloque, ceiling(.N / length(bloque))))[1:.N],\n",
        "    by= agrupa\n",
        "  ]\n",
        "}\n"
      ],
      "metadata": {
        "id": "0AWMWd5dlHqk"
      },
      "execution_count": 10,
      "outputs": []
    },
    {
      "cell_type": "code",
      "source": [
        "# fold_test  tiene el numero de fold que voy a usar para testear,\n",
        "#  entreno en el resto de los folds\n",
        "# param tiene los hiperparametros del arbol\n",
        "\n",
        "ArbolSimple <- function(fold_test, param_rpart) {\n",
        "  # genero el modelo\n",
        "  # entreno en todo MENOS el fold_test que uso para testing\n",
        "  modelo <- rpart(\"clase_ternaria ~ .\",\n",
        "    data= dataset[fold != fold_test, ],\n",
        "    xval= 0,\n",
        "    control= param_rpart\n",
        "  )\n",
        "\n",
        "  # aplico el modelo a los datos de testing\n",
        "  # aplico el modelo sobre los datos de testing\n",
        "  # quiero que me devuelva probabilidades\n",
        "  prediccion <- predict(modelo,\n",
        "    dataset[fold == fold_test, ],\n",
        "    type= \"prob\"\n",
        "  )\n",
        "\n",
        "  # esta es la probabilidad de baja\n",
        "  prob_baja2 <- prediccion[, \"BAJA+2\"]\n",
        "\n",
        "  # calculo la ganancia\n",
        "  ganancia_testing <- dataset[fold == fold_test][\n",
        "    prob_baja2 > 1 / 40,\n",
        "    sum(ifelse(clase_ternaria == \"BAJA+2\",\n",
        "      117000, -3000\n",
        "    ))\n",
        "  ]\n",
        "\n",
        "  # esta es la ganancia sobre el fold de testing, NO esta normalizada\n",
        "  return(ganancia_testing)\n",
        "}\n"
      ],
      "metadata": {
        "id": "Bij2dW0ElKZ8"
      },
      "execution_count": 11,
      "outputs": []
    },
    {
      "cell_type": "code",
      "source": [
        "ArbolesCrossValidation <- function(param_rpart, qfolds, pagrupa, semilla) {\n",
        "  # generalmente  c(1, 1, 1, 1, 1 )  cinco unos\n",
        "  divi <- rep(1, qfolds)\n",
        "\n",
        "  # particiono en dataset en folds\n",
        "  particionar(dataset, divi, seed= semilla, agrupa= pagrupa)\n",
        "\n",
        "  ganancias <- mcmapply(ArbolSimple,\n",
        "    seq(qfolds), # 1 2 3 4 5\n",
        "    MoreArgs= list(param_rpart),\n",
        "    SIMPLIFY= FALSE,\n",
        "    mc.cores= detectCores()\n",
        "  )\n",
        "\n",
        "  dataset[, fold := NULL]\n",
        "\n",
        "  # devuelvo la primer ganancia y el promedio\n",
        "  # promedio las ganancias\n",
        "  ganancia_promedio <- mean(unlist(ganancias))\n",
        "  # aqui normalizo la ganancia\n",
        "  ganancia_promedio_normalizada <- ganancia_promedio * qfolds\n",
        "\n",
        "  return(ganancia_promedio_normalizada)\n",
        "}\n"
      ],
      "metadata": {
        "id": "1PoSYV0NlQq7"
      },
      "execution_count": 12,
      "outputs": []
    },
    {
      "cell_type": "code",
      "source": [
        "# esta funcion solo puede recibir los parametros que se estan optimizando\n",
        "# el resto de los parametros, lamentablemente se pasan como variables globales\n",
        "\n",
        "EstimarGanancia <- function(x) {\n",
        "  message(format(Sys.time(), \"%a %b %d %X %Y\"))\n",
        "  GLOBAL_iteracion <<- GLOBAL_iteracion + 1\n",
        "\n",
        "  xval_folds <- 5\n",
        "  # param= x los hiperparametros del arbol\n",
        "  # qfolds= xval_folds  la cantidad de folds\n",
        "  ganancia <- ArbolesCrossValidation(\n",
        "    param_rpart= x,\n",
        "    qfolds= xval_folds,\n",
        "    pagrupa= \"clase_ternaria\",\n",
        "    semilla= PARAM$semilla_primigenia\n",
        "  )\n",
        "\n",
        "  return(ganancia)\n",
        "}\n"
      ],
      "metadata": {
        "id": "wWVKBCNilUxE"
      },
      "execution_count": 13,
      "outputs": []
    },
    {
      "cell_type": "code",
      "source": [
        "# lectura del dataset\n",
        "dataset <- fread(\"/content/datasets/dataset_pequeno.csv\")"
      ],
      "metadata": {
        "id": "IALv-toylgt0"
      },
      "execution_count": 14,
      "outputs": []
    },
    {
      "cell_type": "code",
      "source": [
        "\n",
        "archivo_log <- \"BO_log.txt\"\n",
        "archivo_BO <- \"bayesian.RDATA\"\n",
        "\n",
        "# leo si ya existe el log\n",
        "#  para retomar en caso que se se corte el programa\n",
        "GLOBAL_iteracion <- 0\n",
        "GLOBAL_mejor <- -Inf\n",
        "\n",
        "if (file.exists(archivo_log)) {\n",
        "  tabla_log <- fread(archivo_log)\n",
        "  GLOBAL_iteracion <- nrow(tabla_log)\n",
        "  GLOBAL_mejor <- tabla_log[, max(ganancia)]\n",
        "}\n",
        "\n"
      ],
      "metadata": {
        "id": "l-0H-PQ9lzJ-"
      },
      "execution_count": 15,
      "outputs": []
    },
    {
      "cell_type": "code",
      "source": [
        "\n",
        "# Aqui comienza la configuracion de la Bayesian Optimization\n",
        "\n",
        "funcion_optimizar <- EstimarGanancia\n",
        "\n",
        "configureMlr(show.learner.output= FALSE)\n",
        "\n",
        "# configuro la busqueda bayesiana,\n",
        "#  los hiperparametros que se van a optimizar\n",
        "# por favor, no desesperarse por lo complejo\n",
        "# minimize= FALSE estoy Maximizando la ganancia\n",
        "obj.fun <- makeSingleObjectiveFunction(\n",
        "  fn= funcion_optimizar,\n",
        "  minimize= FALSE,\n",
        "  noisy= TRUE,\n",
        "  par.set= PARAM$hs,\n",
        "  has.simple.signature= FALSE\n",
        ")\n",
        "\n",
        "ctrl <- makeMBOControl(\n",
        "  save.on.disk.at.time= 600,\n",
        "  save.file.path= archivo_BO\n",
        ")\n",
        "\n",
        "ctrl <- setMBOControlTermination(ctrl, iters= PARAM$BO_iter)\n",
        "ctrl <- setMBOControlInfill(ctrl, crit= makeMBOInfillCritEI())\n",
        "\n",
        "surr.km <- makeLearner(\"regr.km\",\n",
        "  predict.type= \"se\",\n",
        "  covtype= \"matern3_2\", control= list(trace= TRUE)\n",
        ")\n"
      ],
      "metadata": {
        "id": "HseppAV1l1bF"
      },
      "execution_count": 16,
      "outputs": []
    },
    {
      "cell_type": "code",
      "source": [
        "\n",
        "# inicio la optimizacion bayesiana\n",
        "if (!file.exists(archivo_BO)) {\n",
        "  bayesiana_salida <- mbo(\n",
        "    fun= obj.fun,\n",
        "    learner= surr.km,\n",
        "    control= ctrl\n",
        "  )\n",
        "} else {\n",
        "  bayesiana_salida <- mboContinue(archivo_BO)\n",
        "}\n",
        "# retomo en caso que ya exista\n"
      ],
      "metadata": {
        "id": "TAr8HSCLl5p7",
        "outputId": "4679c4d9-288c-4f01-ccab-125e05cef89a",
        "colab": {
          "base_uri": "https://localhost:8080/"
        }
      },
      "execution_count": 17,
      "outputs": [
        {
          "output_type": "stream",
          "name": "stderr",
          "text": [
            "Computing y column(s) for design. Not provided.\n",
            "\n",
            "Tue Oct 21 10:59:58 PM 2025\n",
            "\n",
            "Tue Oct 21 11:09:26 PM 2025\n",
            "\n",
            "Tue Oct 21 11:18:31 PM 2025\n",
            "\n",
            "Tue Oct 21 11:29:14 PM 2025\n",
            "\n",
            "Tue Oct 21 11:35:57 PM 2025\n",
            "\n",
            "Tue Oct 21 11:46:14 PM 2025\n",
            "\n",
            "Tue Oct 21 11:55:51 PM 2025\n",
            "\n",
            "Tue Oct 21 11:58:13 PM 2025\n",
            "\n",
            "Wed Oct 22 12:05:06 AM 2025\n",
            "\n",
            "Wed Oct 22 12:09:52 AM 2025\n",
            "\n",
            "Wed Oct 22 12:19:03 AM 2025\n",
            "\n",
            "Wed Oct 22 12:22:00 AM 2025\n",
            "\n",
            "Wed Oct 22 12:32:49 AM 2025\n",
            "\n",
            "Wed Oct 22 12:43:13 AM 2025\n",
            "\n",
            "Wed Oct 22 12:50:05 AM 2025\n",
            "\n",
            "Wed Oct 22 12:57:47 AM 2025\n",
            "\n",
            "[mbo] 0: cp=-0.365; minsplit=3246; minbucket=1535; maxdepth=17 : y = 4.44e+07 : 568.0 secs : initdesign\n",
            "\n",
            "[mbo] 0: cp=-0.395; minsplit=4801; minbucket=1813; maxdepth=14 : y = 4.55e+07 : 545.1 secs : initdesign\n",
            "\n",
            "[mbo] 0: cp=-0.0288; minsplit=4005; minbucket=457; maxdepth=16 : y = 4.48e+07 : 642.6 secs : initdesign\n",
            "\n",
            "[mbo] 0: cp=-0.585; minsplit=5260; minbucket=1447; maxdepth=7 : y = 4.51e+07 : 403.0 secs : initdesign\n",
            "\n",
            "[mbo] 0: cp=-0.974; minsplit=2853; minbucket=838; maxdepth=15 : y = 4.47e+07 : 616.7 secs : initdesign\n",
            "\n",
            "[mbo] 0: cp=-0.867; minsplit=7903; minbucket=45; maxdepth=12 : y = 4.4e+07 : 577.8 secs : initdesign\n",
            "\n",
            "[mbo] 0: cp=0.0921; minsplit=6797; minbucket=2012; maxdepth=3 : y = 0 : 141.2 secs : initdesign\n",
            "\n",
            "[mbo] 0: cp=-0.484; minsplit=4821; minbucket=2278; maxdepth=7 : y = 4.62e+07 : 413.8 secs : initdesign\n",
            "\n",
            "[mbo] 0: cp=-0.733; minsplit=6796; minbucket=3113; maxdepth=4 : y = 4.74e+07 : 286.1 secs : initdesign\n",
            "\n",
            "[mbo] 0: cp=-0.791; minsplit=4011; minbucket=795; maxdepth=11 : y = 4.48e+07 : 550.3 secs : initdesign\n",
            "\n",
            "[mbo] 0: cp=0.0139; minsplit=7774; minbucket=3727; maxdepth=20 : y = 0 : 177.6 secs : initdesign\n",
            "\n",
            "[mbo] 0: cp=-0.203; minsplit=3204; minbucket=76; maxdepth=13 : y = 4.39e+07 : 648.6 secs : initdesign\n",
            "\n",
            "[mbo] 0: cp=-0.324; minsplit=4023; minbucket=913; maxdepth=17 : y = 4.48e+07 : 623.7 secs : initdesign\n",
            "\n",
            "[mbo] 0: cp=-0.64; minsplit=6662; minbucket=1054; maxdepth=7 : y = 4.47e+07 : 412.9 secs : initdesign\n",
            "\n",
            "[mbo] 0: cp=-0.802; minsplit=5108; minbucket=902; maxdepth=8 : y = 4.51e+07 : 461.1 secs : initdesign\n",
            "\n",
            "[mbo] 0: cp=-0.239; minsplit=5292; minbucket=1742; maxdepth=10 : y = 4.55e+07 : 513.7 secs : initdesign\n",
            "\n",
            "Saved the current state after iteration 1 in the file bayesian.RDATA.\n",
            "\n",
            "Wed Oct 22 01:06:24 AM 2025\n",
            "\n",
            "[mbo] 1: cp=-0.918; minsplit=6088; minbucket=3041; maxdepth=18 : y = 4.74e+07 : 514.3 secs : infill_ei\n",
            "\n",
            "Wed Oct 22 01:15:01 AM 2025\n",
            "\n",
            "[mbo] 2: cp=-1; minsplit=8000; minbucket=2946; maxdepth=8 : y = 4.77e+07 : 437.6 secs : infill_ei\n",
            "\n",
            "Saved the current state after iteration 3 in the file bayesian.RDATA.\n",
            "\n",
            "Wed Oct 22 01:22:20 AM 2025\n",
            "\n",
            "[mbo] 3: cp=-0.881; minsplit=6450; minbucket=2594; maxdepth=10 : y = 4.65e+07 : 490.2 secs : infill_ei\n",
            "\n",
            "Wed Oct 22 01:30:33 AM 2025\n",
            "\n",
            "[mbo] 4: cp=-0.0347; minsplit=6; minbucket=1; maxdepth=20 : y = 2.26e+07 : 1101.4 secs : infill_ei\n",
            "\n",
            "Saved the current state after iteration 5 in the file bayesian.RDATA.\n",
            "\n",
            "Wed Oct 22 01:48:57 AM 2025\n",
            "\n",
            "[mbo] 5: cp=-0.797; minsplit=7976; minbucket=3988; maxdepth=6 : y = 4.76e+07 : 364.0 secs : infill_ei\n",
            "\n",
            "Wed Oct 22 01:55:02 AM 2025\n",
            "\n",
            "[mbo] 6: cp=-0.822; minsplit=6709; minbucket=1494; maxdepth=17 : y = 4.46e+07 : 554.4 secs : infill_ei\n",
            "\n",
            "Saved the current state after iteration 7 in the file bayesian.RDATA.\n",
            "\n",
            "Wed Oct 22 02:04:19 AM 2025\n",
            "\n",
            "[mbo] 7: cp=-0.981; minsplit=6042; minbucket=3016; maxdepth=5 : y = 4.74e+07 : 329.6 secs : infill_ei\n",
            "\n",
            "Wed Oct 22 02:09:52 AM 2025\n",
            "\n",
            "[mbo] 8: cp=-0.678; minsplit=6132; minbucket=3062; maxdepth=8 : y = 4.75e+07 : 437.9 secs : infill_ei\n",
            "\n",
            "Saved the current state after iteration 9 in the file bayesian.RDATA.\n",
            "\n",
            "Wed Oct 22 02:17:12 AM 2025\n",
            "\n",
            "[mbo] 9: cp=-1; minsplit=6310; minbucket=3155; maxdepth=16 : y = 4.78e+07 : 513.1 secs : infill_ei\n",
            "\n",
            "Wed Oct 22 02:25:48 AM 2025\n",
            "\n",
            "[mbo] 10: cp=-0.999; minsplit=7999; minbucket=3965; maxdepth=3 : y = 3.81e+07 : 245.4 secs : infill_ei\n",
            "\n",
            "Saved the current state after iteration 11 in the file bayesian.RDATA.\n",
            "\n",
            "Wed Oct 22 02:29:55 AM 2025\n",
            "\n",
            "[mbo] 11: cp=-0.8; minsplit=7851; minbucket=2819; maxdepth=6 : y = 4.65e+07 : 369.6 secs : infill_ei\n",
            "\n",
            "Wed Oct 22 02:36:07 AM 2025\n",
            "\n",
            "[mbo] 12: cp=-0.425; minsplit=5474; minbucket=834; maxdepth=10 : y = 4.51e+07 : 523.6 secs : infill_ei\n",
            "\n",
            "Saved the current state after iteration 13 in the file bayesian.RDATA.\n",
            "\n",
            "Wed Oct 22 02:44:53 AM 2025\n",
            "\n",
            "[mbo] 13: cp=-0.698; minsplit=6707; minbucket=3353; maxdepth=5 : y = 4.82e+07 : 331.4 secs : infill_ei\n",
            "\n",
            "Wed Oct 22 02:50:27 AM 2025\n",
            "\n",
            "[mbo] 14: cp=-0.783; minsplit=990; minbucket=494; maxdepth=4 : y = 4.73e+07 : 291.7 secs : infill_ei\n",
            "\n",
            "Saved the current state after iteration 15 in the file bayesian.RDATA.\n",
            "\n",
            "Wed Oct 22 02:55:21 AM 2025\n",
            "\n",
            "[mbo] 15: cp=-1; minsplit=3472; minbucket=1720; maxdepth=18 : y = 4.5e+07 : 573.9 secs : infill_ei\n",
            "\n",
            "Wed Oct 22 03:04:58 AM 2025\n",
            "\n",
            "[mbo] 16: cp=-0.998; minsplit=7994; minbucket=3995; maxdepth=12 : y = 4.76e+07 : 480.5 secs : infill_ei\n",
            "\n",
            "Saved the current state after iteration 17 in the file bayesian.RDATA.\n",
            "\n",
            "Wed Oct 22 03:13:01 AM 2025\n",
            "\n",
            "[mbo] 17: cp=-1; minsplit=1953; minbucket=972; maxdepth=6 : y = 4.6e+07 : 383.6 secs : infill_ei\n",
            "\n",
            "Wed Oct 22 03:19:28 AM 2025\n",
            "\n",
            "[mbo] 18: cp=-0.751; minsplit=4138; minbucket=2065; maxdepth=5 : y = 4.59e+07 : 330.8 secs : infill_ei\n",
            "\n",
            "Saved the current state after iteration 19 in the file bayesian.RDATA.\n",
            "\n",
            "Wed Oct 22 03:25:01 AM 2025\n",
            "\n",
            "[mbo] 19: cp=-0.493; minsplit=7996; minbucket=3996; maxdepth=8 : y = 4.76e+07 : 421.4 secs : infill_ei\n",
            "\n",
            "Wed Oct 22 03:32:06 AM 2025\n",
            "\n",
            "[mbo] 20: cp=-0.936; minsplit=6578; minbucket=3289; maxdepth=7 : y = 4.82e+07 : 401.7 secs : infill_ei\n",
            "\n",
            "Saved the current state after iteration 21 in the file bayesian.RDATA.\n",
            "\n",
            "Wed Oct 22 03:38:52 AM 2025\n",
            "\n",
            "[mbo] 21: cp=-0.969; minsplit=5566; minbucket=1; maxdepth=4 : y = 4.63e+07 : 280.6 secs : infill_ei\n",
            "\n",
            "Wed Oct 22 03:43:35 AM 2025\n",
            "\n",
            "[mbo] 22: cp=-0.258; minsplit=1512; minbucket=754; maxdepth=15 : y = 4.93e+07 : 655.8 secs : infill_ei\n",
            "\n",
            "Saved the current state after iteration 23 in the file bayesian.RDATA.\n",
            "\n",
            "Wed Oct 22 03:54:34 AM 2025\n",
            "\n",
            "[mbo] 23: cp=-0.56; minsplit=997; minbucket=496; maxdepth=16 : y = 4.85e+07 : 709.7 secs : infill_ei\n",
            "\n",
            "Saved the current state after iteration 24 in the file bayesian.RDATA.\n",
            "\n",
            "Wed Oct 22 04:06:26 AM 2025\n",
            "\n",
            "[mbo] 24: cp=-0.367; minsplit=734; minbucket=366; maxdepth=16 : y = 4.74e+07 : 738.1 secs : infill_ei\n",
            "\n",
            "Saved the current state after iteration 25 in the file bayesian.RDATA.\n",
            "\n",
            "Wed Oct 22 04:18:47 AM 2025\n",
            "\n",
            "[mbo] 25: cp=-0.506; minsplit=2124; minbucket=1061; maxdepth=15 : y = 4.52e+07 : 630.7 secs : infill_ei\n",
            "\n",
            "Saved the current state after iteration 26 in the file bayesian.RDATA.\n",
            "\n",
            "Wed Oct 22 04:29:20 AM 2025\n",
            "\n",
            "[mbo] 26: cp=-0.78; minsplit=14; minbucket=3; maxdepth=17 : y = 2.87e+07 : 947.6 secs : infill_ei\n",
            "\n",
            "Saved the current state after iteration 27 in the file bayesian.RDATA.\n",
            "\n",
            "Wed Oct 22 04:45:10 AM 2025\n",
            "\n",
            "[mbo] 27: cp=-0.274; minsplit=2638; minbucket=500; maxdepth=7 : y = 4.41e+07 : 433.8 secs : infill_ei\n",
            "\n",
            "Wed Oct 22 04:52:26 AM 2025\n",
            "\n",
            "[mbo] 28: cp=-0.422; minsplit=1189; minbucket=591; maxdepth=7 : y = 4.86e+07 : 444.2 secs : infill_ei\n",
            "\n",
            "Saved the current state after iteration 29 in the file bayesian.RDATA.\n",
            "\n",
            "Wed Oct 22 04:59:54 AM 2025\n",
            "\n",
            "[mbo] 29: cp=-0.742; minsplit=7998; minbucket=3989; maxdepth=19 : y = 4.76e+07 : 486.5 secs : infill_ei\n",
            "\n",
            "Wed Oct 22 05:08:02 AM 2025\n",
            "\n",
            "[mbo] 30: cp=-0.987; minsplit=8000; minbucket=1890; maxdepth=20 : y = 4.51e+07 : 519.5 secs : infill_ei\n",
            "\n",
            "Saved the current state after iteration 31 in the file bayesian.RDATA.\n",
            "\n",
            "Wed Oct 22 05:16:44 AM 2025\n",
            "\n",
            "[mbo] 31: cp=-0.734; minsplit=7997; minbucket=3988; maxdepth=11 : y = 4.76e+07 : 494.0 secs : infill_ei\n",
            "\n",
            "Wed Oct 22 05:25:01 AM 2025\n",
            "\n",
            "[mbo] 32: cp=-0.597; minsplit=1086; minbucket=543; maxdepth=3 : y = 3.75e+07 : 250.8 secs : infill_ei\n",
            "\n",
            "Saved the current state after iteration 33 in the file bayesian.RDATA.\n",
            "\n",
            "Wed Oct 22 05:29:13 AM 2025\n",
            "\n",
            "[mbo] 33: cp=-0.62; minsplit=7702; minbucket=2881; maxdepth=16 : y = 4.65e+07 : 513.1 secs : infill_ei\n",
            "\n",
            "Wed Oct 22 05:37:50 AM 2025\n",
            "\n",
            "[mbo] 34: cp=-1; minsplit=7267; minbucket=1643; maxdepth=13 : y = 4.49e+07 : 532.9 secs : infill_ei\n",
            "\n",
            "Saved the current state after iteration 35 in the file bayesian.RDATA.\n",
            "\n",
            "Wed Oct 22 05:46:45 AM 2025\n",
            "\n",
            "[mbo] 35: cp=-0.582; minsplit=7572; minbucket=509; maxdepth=16 : y = 4.47e+07 : 625.4 secs : infill_ei\n",
            "\n",
            "Saved the current state after iteration 36 in the file bayesian.RDATA.\n",
            "\n",
            "Wed Oct 22 05:57:13 AM 2025\n",
            "\n",
            "[mbo] 36: cp=-0.57; minsplit=48; minbucket=22; maxdepth=9 : y = 4.56e+07 : 554.0 secs : infill_ei\n",
            "\n",
            "Wed Oct 22 06:06:29 AM 2025\n",
            "\n",
            "[mbo] 37: cp=-0.853; minsplit=8000; minbucket=4000; maxdepth=16 : y = 4.76e+07 : 503.0 secs : infill_ei\n",
            "\n",
            "Saved the current state after iteration 38 in the file bayesian.RDATA.\n",
            "\n",
            "Wed Oct 22 06:14:56 AM 2025\n",
            "\n",
            "[mbo] 38: cp=-0.367; minsplit=6346; minbucket=3172; maxdepth=9 : y = 4.78e+07 : 480.4 secs : infill_ei\n",
            "\n",
            "Wed Oct 22 06:22:59 AM 2025\n",
            "\n",
            "[mbo] 39: cp=-0.355; minsplit=1811; minbucket=903; maxdepth=9 : y = 4.65e+07 : 526.0 secs : infill_ei\n",
            "\n",
            "Saved the current state after iteration 40 in the file bayesian.RDATA.\n",
            "\n",
            "Wed Oct 22 06:31:47 AM 2025\n",
            "\n",
            "[mbo] 40: cp=-0.195; minsplit=1251; minbucket=619; maxdepth=16 : y = 4.89e+07 : 692.4 secs : infill_ei\n",
            "\n",
            "Saved the final state in the file bayesian.RDATA\n",
            "\n",
            "Saved the final state in the file bayesian.RDATA\n",
            "\n"
          ]
        }
      ]
    },
    {
      "cell_type": "code",
      "source": [
        "# almaceno los resultados de la Bayesian Optimization\n",
        "# y capturo los mejores hiperparametros encontrados\n",
        "\n",
        "tb_bayesiana <- as.data.table(bayesiana_salida$opt.path)\n",
        "\n",
        "# ordeno en forma descendente por AUC = y\n",
        "setorder(tb_bayesiana, -y)\n",
        "\n",
        "# grabo para eventualmente poder utilizarlos en OTRA corrida\n",
        "fwrite( tb_bayesiana,\n",
        "  file= \"BO_log.txt\",\n",
        "  sep= \"\\t\"\n",
        ")\n",
        "\n",
        "# los mejores hiperparámetros son los que quedaron en el registro 1 de la tabla\n",
        "PARAM$out$lgbm$mejores_hiperparametros <- tb_bayesiana[\n",
        "  1, # el primero es el de mejor AUC\n",
        "  list(cp, minsplit, minbucket, maxdepth)\n",
        "]\n",
        "\n",
        "print(PARAM$out$lgbm$mejores_hiperparametros)"
      ],
      "metadata": {
        "id": "3Yknt3FgoPM4",
        "outputId": "8f14c334-0820-457d-ff11-0d228cc83c1c",
        "colab": {
          "base_uri": "https://localhost:8080/"
        }
      },
      "execution_count": 18,
      "outputs": [
        {
          "output_type": "stream",
          "name": "stdout",
          "text": [
            "           cp minsplit minbucket maxdepth\n",
            "        <num>    <int>     <int>    <int>\n",
            "1: -0.2579255     1512       754       15\n"
          ]
        }
      ]
    },
    {
      "cell_type": "code",
      "source": [
        "format(Sys.time(), \"%a %b %d %X %Y\")"
      ],
      "metadata": {
        "id": "0-iLm04FMWPR",
        "outputId": "5d1d7a2c-e645-4d71-c81e-060d1ab79a28",
        "colab": {
          "base_uri": "https://localhost:8080/",
          "height": 34
        }
      },
      "execution_count": 19,
      "outputs": [
        {
          "output_type": "display_data",
          "data": {
            "text/html": [
              "'Wed Oct 22 06:43:23 AM 2025'"
            ],
            "text/markdown": "'Wed Oct 22 06:43:23 AM 2025'",
            "text/latex": "'Wed Oct 22 06:43:23 AM 2025'",
            "text/plain": [
              "[1] \"Wed Oct 22 06:43:23 AM 2025\""
            ]
          },
          "metadata": {}
        }
      ]
    },
    {
      "cell_type": "markdown",
      "metadata": {
        "id": "1nUDGTieOym3"
      },
      "source": [
        "\n",
        "\n",
        "---\n",
        "\n"
      ]
    }
  ]
}